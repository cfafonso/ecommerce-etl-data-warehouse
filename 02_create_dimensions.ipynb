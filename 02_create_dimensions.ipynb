{
 "cells": [
  {
   "cell_type": "markdown",
   "id": "fcf98bbd",
   "metadata": {},
   "source": [
    "<h2><center>STAGE 2 - CREATING DIMENSIONS</center></h2>\n",
    "\n",
    "---"
   ]
  },
  {
   "cell_type": "code",
   "execution_count": 1,
   "id": "95c2f9aa",
   "metadata": {},
   "outputs": [],
   "source": [
    "import os\n",
    "import pandas as pd\n",
    "import itertools"
   ]
  },
  {
   "cell_type": "code",
   "execution_count": 2,
   "id": "69be7b20",
   "metadata": {},
   "outputs": [],
   "source": [
    "from utils.dates import get_trimester, get_week_day, get_day_type, get_national_holiday_indicator"
   ]
  },
  {
   "cell_type": "code",
   "execution_count": 3,
   "id": "ae19c642",
   "metadata": {},
   "outputs": [],
   "source": [
    "from utils.data_warehouse_mappings import add_surrogate_key_dimension_table, map_surrogate_to_natural_key, \\\n",
    "    map_surrogate_to_natural_key_junk_dimension, save_lookup_to_json"
   ]
  },
  {
   "cell_type": "code",
   "execution_count": 4,
   "id": "40accdf9",
   "metadata": {},
   "outputs": [],
   "source": [
    "from utils.constants import state_mappings"
   ]
  },
  {
   "cell_type": "code",
   "execution_count": 5,
   "id": "7776f6e5",
   "metadata": {},
   "outputs": [],
   "source": [
    "from utils.constants import processed_dataset_folder, customers_processed_dataset, geolocation_processed_dataset, \\\n",
    "    items_processed_dataset, payments_processed_dataset, reviews_processed_dataset, orders_processed_dataset, \\\n",
    "        products_processed_dataset, sellers_processed_dataset, category_processed_dataset"
   ]
  },
  {
   "cell_type": "code",
   "execution_count": 6,
   "id": "2700a08b",
   "metadata": {},
   "outputs": [],
   "source": [
    "from utils.constants import lookup_tables_folder, lookup_table_customer, lookup_table_seller, lookup_table_product, \\\n",
    "    lookup_table_geolocation, lookup_table_customer_geolocation, lookup_table_seller_geolocation, lookup_table_order_indicator, \\\n",
    "        lookup_table_date"
   ]
  },
  {
   "cell_type": "code",
   "execution_count": 7,
   "id": "9bb43172",
   "metadata": {},
   "outputs": [],
   "source": [
    "from utils.constants import dimension_tables_folder, dim_customer_file, dim_seller_file, dim_product_file, dim_geolocation_file, \\\n",
    "    dim_customer_geolocation_file, dim_seller_geolocation_file, dim_order_indicator_file, dim_date_file"
   ]
  },
  {
   "cell_type": "markdown",
   "id": "03cb58da",
   "metadata": {},
   "source": [
    "<h3>1. READING THE PROCESSED CSV FILES FROM STAGE 1</h3>"
   ]
  },
  {
   "cell_type": "code",
   "execution_count": 8,
   "id": "f1a8c117",
   "metadata": {},
   "outputs": [],
   "source": [
    "customers = pd.read_csv(os.path.join(processed_dataset_folder, customers_processed_dataset))\n",
    "geolocation = pd.read_csv(os.path.join(processed_dataset_folder, geolocation_processed_dataset))\n",
    "items = pd.read_csv(os.path.join(processed_dataset_folder, items_processed_dataset))\n",
    "payments = pd.read_csv(os.path.join(processed_dataset_folder, payments_processed_dataset))\n",
    "reviews = pd.read_csv(os.path.join(processed_dataset_folder, reviews_processed_dataset))\n",
    "orders = pd.read_csv(os.path.join(processed_dataset_folder, orders_processed_dataset))\n",
    "products = pd.read_csv(os.path.join(processed_dataset_folder, products_processed_dataset))\n",
    "sellers = pd.read_csv(os.path.join(processed_dataset_folder, sellers_processed_dataset))\n",
    "category = pd.read_csv(os.path.join(processed_dataset_folder, category_processed_dataset))"
   ]
  },
  {
   "cell_type": "markdown",
   "id": "e89d0275",
   "metadata": {},
   "source": [
    "<h3>2. CREATING DATAFRAMES AND LOOKUP TABLES FOR EACH DIMENSION</h3>"
   ]
  },
  {
   "cell_type": "markdown",
   "id": "da251d34",
   "metadata": {},
   "source": [
    "<h4>Dimension <sup>dimGeolocation</sup></h4>"
   ]
  },
  {
   "cell_type": "code",
   "execution_count": 9,
   "id": "61ce67e9",
   "metadata": {},
   "outputs": [],
   "source": [
    "dim_geolocation = geolocation.copy()"
   ]
  },
  {
   "cell_type": "code",
   "execution_count": 10,
   "id": "d30513e2",
   "metadata": {},
   "outputs": [
    {
     "data": {
      "text/html": [
       "<div>\n",
       "<style scoped>\n",
       "    .dataframe tbody tr th:only-of-type {\n",
       "        vertical-align: middle;\n",
       "    }\n",
       "\n",
       "    .dataframe tbody tr th {\n",
       "        vertical-align: top;\n",
       "    }\n",
       "\n",
       "    .dataframe thead th {\n",
       "        text-align: right;\n",
       "    }\n",
       "</style>\n",
       "<table border=\"1\" class=\"dataframe\">\n",
       "  <thead>\n",
       "    <tr style=\"text-align: right;\">\n",
       "      <th></th>\n",
       "      <th>zip_code_prefix</th>\n",
       "      <th>latitude</th>\n",
       "      <th>longitude</th>\n",
       "      <th>city</th>\n",
       "      <th>state</th>\n",
       "    </tr>\n",
       "  </thead>\n",
       "  <tbody>\n",
       "    <tr>\n",
       "      <th>0</th>\n",
       "      <td>1037</td>\n",
       "      <td>-23.545411</td>\n",
       "      <td>-46.638924</td>\n",
       "      <td>Sao Paulo</td>\n",
       "      <td>SP</td>\n",
       "    </tr>\n",
       "    <tr>\n",
       "      <th>1</th>\n",
       "      <td>1046</td>\n",
       "      <td>-23.545930</td>\n",
       "      <td>-46.643998</td>\n",
       "      <td>Sao Paulo</td>\n",
       "      <td>SP</td>\n",
       "    </tr>\n",
       "    <tr>\n",
       "      <th>2</th>\n",
       "      <td>1041</td>\n",
       "      <td>-23.543905</td>\n",
       "      <td>-46.640046</td>\n",
       "      <td>Sao Paulo</td>\n",
       "      <td>SP</td>\n",
       "    </tr>\n",
       "    <tr>\n",
       "      <th>3</th>\n",
       "      <td>1035</td>\n",
       "      <td>-23.541614</td>\n",
       "      <td>-46.641549</td>\n",
       "      <td>Sao Paulo</td>\n",
       "      <td>SP</td>\n",
       "    </tr>\n",
       "    <tr>\n",
       "      <th>4</th>\n",
       "      <td>1012</td>\n",
       "      <td>-23.547790</td>\n",
       "      <td>-46.634859</td>\n",
       "      <td>Sao Paulo</td>\n",
       "      <td>SP</td>\n",
       "    </tr>\n",
       "  </tbody>\n",
       "</table>\n",
       "</div>"
      ],
      "text/plain": [
       "   zip_code_prefix   latitude  longitude       city state\n",
       "0             1037 -23.545411 -46.638924  Sao Paulo    SP\n",
       "1             1046 -23.545930 -46.643998  Sao Paulo    SP\n",
       "2             1041 -23.543905 -46.640046  Sao Paulo    SP\n",
       "3             1035 -23.541614 -46.641549  Sao Paulo    SP\n",
       "4             1012 -23.547790 -46.634859  Sao Paulo    SP"
      ]
     },
     "execution_count": 10,
     "metadata": {},
     "output_type": "execute_result"
    }
   ],
   "source": [
    "dim_geolocation.head()"
   ]
  },
  {
   "cell_type": "code",
   "execution_count": 11,
   "id": "0a6867bf",
   "metadata": {},
   "outputs": [],
   "source": [
    "state_names = dim_geolocation['state'].unique()"
   ]
  },
  {
   "cell_type": "code",
   "execution_count": 12,
   "id": "d169dd37",
   "metadata": {},
   "outputs": [
    {
     "data": {
      "text/plain": [
       "array(['SP', 'RJ', 'ES', 'MG', 'BA', 'SE', 'PE', 'RN', 'AL', 'PB', 'CE',\n",
       "       'PI', 'MA', 'PA', 'AP', 'AM', 'RR', 'AC', 'DF', 'GO', 'RO', 'TO',\n",
       "       'MT', 'MS', 'PR', 'SC', 'RS'], dtype=object)"
      ]
     },
     "execution_count": 12,
     "metadata": {},
     "output_type": "execute_result"
    }
   ],
   "source": [
    "state_names"
   ]
  },
  {
   "cell_type": "code",
   "execution_count": 13,
   "id": "6fdc6686",
   "metadata": {},
   "outputs": [],
   "source": [
    "dim_geolocation['state'] = dim_geolocation['state'].replace(state_mappings)"
   ]
  },
  {
   "cell_type": "code",
   "execution_count": 14,
   "id": "a33dc1df",
   "metadata": {},
   "outputs": [],
   "source": [
    "dim_geolocation.columns = ['ZIP_CODE_PREFIX', 'LATITUDE', 'LONGITUDE', 'CITY', 'STATE']"
   ]
  },
  {
   "cell_type": "code",
   "execution_count": 15,
   "id": "bbac326e",
   "metadata": {},
   "outputs": [],
   "source": [
    "dim_geolocation = dim_geolocation.sort_values('ZIP_CODE_PREFIX').reset_index(drop=True)"
   ]
  },
  {
   "cell_type": "code",
   "execution_count": 16,
   "id": "510f4b3f",
   "metadata": {},
   "outputs": [],
   "source": [
    "dim_geolocation = dim_geolocation[['ZIP_CODE_PREFIX', 'CITY', 'STATE', 'LATITUDE', 'LONGITUDE']]"
   ]
  },
  {
   "cell_type": "code",
   "execution_count": 17,
   "id": "a75c155e",
   "metadata": {},
   "outputs": [
    {
     "data": {
      "text/plain": [
       "False"
      ]
     },
     "execution_count": 17,
     "metadata": {},
     "output_type": "execute_result"
    }
   ],
   "source": [
    "dim_geolocation['ZIP_CODE_PREFIX'].duplicated().any()"
   ]
  },
  {
   "cell_type": "code",
   "execution_count": 18,
   "id": "21821446",
   "metadata": {},
   "outputs": [],
   "source": [
    "add_surrogate_key_dimension_table(dim_geolocation, 'GEOLOCATION_KEY')"
   ]
  },
  {
   "cell_type": "code",
   "execution_count": 19,
   "id": "c634827f",
   "metadata": {},
   "outputs": [],
   "source": [
    "geolocation_key_mapping = map_surrogate_to_natural_key(dim_geolocation, 'ZIP_CODE_PREFIX', 'GEOLOCATION_KEY')"
   ]
  },
  {
   "cell_type": "code",
   "execution_count": 20,
   "id": "dd11fd46",
   "metadata": {},
   "outputs": [
    {
     "data": {
      "text/html": [
       "<div>\n",
       "<style scoped>\n",
       "    .dataframe tbody tr th:only-of-type {\n",
       "        vertical-align: middle;\n",
       "    }\n",
       "\n",
       "    .dataframe tbody tr th {\n",
       "        vertical-align: top;\n",
       "    }\n",
       "\n",
       "    .dataframe thead th {\n",
       "        text-align: right;\n",
       "    }\n",
       "</style>\n",
       "<table border=\"1\" class=\"dataframe\">\n",
       "  <thead>\n",
       "    <tr style=\"text-align: right;\">\n",
       "      <th></th>\n",
       "      <th>GEOLOCATION_KEY</th>\n",
       "      <th>ZIP_CODE_PREFIX</th>\n",
       "      <th>CITY</th>\n",
       "      <th>STATE</th>\n",
       "      <th>LATITUDE</th>\n",
       "      <th>LONGITUDE</th>\n",
       "    </tr>\n",
       "  </thead>\n",
       "  <tbody>\n",
       "    <tr>\n",
       "      <th>0</th>\n",
       "      <td>1</td>\n",
       "      <td>1001</td>\n",
       "      <td>Sao Paulo</td>\n",
       "      <td>São Paulo</td>\n",
       "      <td>-23.550190</td>\n",
       "      <td>-46.634024</td>\n",
       "    </tr>\n",
       "    <tr>\n",
       "      <th>1</th>\n",
       "      <td>2</td>\n",
       "      <td>1002</td>\n",
       "      <td>Sao Paulo</td>\n",
       "      <td>São Paulo</td>\n",
       "      <td>-23.548146</td>\n",
       "      <td>-46.634979</td>\n",
       "    </tr>\n",
       "    <tr>\n",
       "      <th>2</th>\n",
       "      <td>3</td>\n",
       "      <td>1003</td>\n",
       "      <td>Sao Paulo</td>\n",
       "      <td>São Paulo</td>\n",
       "      <td>-23.548994</td>\n",
       "      <td>-46.635731</td>\n",
       "    </tr>\n",
       "    <tr>\n",
       "      <th>3</th>\n",
       "      <td>4</td>\n",
       "      <td>1004</td>\n",
       "      <td>Sao Paulo</td>\n",
       "      <td>São Paulo</td>\n",
       "      <td>-23.549799</td>\n",
       "      <td>-46.634757</td>\n",
       "    </tr>\n",
       "    <tr>\n",
       "      <th>4</th>\n",
       "      <td>5</td>\n",
       "      <td>1005</td>\n",
       "      <td>Sao Paulo</td>\n",
       "      <td>São Paulo</td>\n",
       "      <td>-23.549456</td>\n",
       "      <td>-46.636733</td>\n",
       "    </tr>\n",
       "    <tr>\n",
       "      <th>...</th>\n",
       "      <td>...</td>\n",
       "      <td>...</td>\n",
       "      <td>...</td>\n",
       "      <td>...</td>\n",
       "      <td>...</td>\n",
       "      <td>...</td>\n",
       "    </tr>\n",
       "    <tr>\n",
       "      <th>19172</th>\n",
       "      <td>19173</td>\n",
       "      <td>99960</td>\n",
       "      <td>Charrua</td>\n",
       "      <td>Rio Grande do Sul</td>\n",
       "      <td>-27.953722</td>\n",
       "      <td>-52.025511</td>\n",
       "    </tr>\n",
       "    <tr>\n",
       "      <th>19173</th>\n",
       "      <td>19174</td>\n",
       "      <td>99965</td>\n",
       "      <td>Agua Santa</td>\n",
       "      <td>Rio Grande do Sul</td>\n",
       "      <td>-28.183372</td>\n",
       "      <td>-52.039850</td>\n",
       "    </tr>\n",
       "    <tr>\n",
       "      <th>19174</th>\n",
       "      <td>19175</td>\n",
       "      <td>99970</td>\n",
       "      <td>Ciriaco</td>\n",
       "      <td>Rio Grande do Sul</td>\n",
       "      <td>-28.343766</td>\n",
       "      <td>-51.874689</td>\n",
       "    </tr>\n",
       "    <tr>\n",
       "      <th>19175</th>\n",
       "      <td>19176</td>\n",
       "      <td>99980</td>\n",
       "      <td>David Canabarro</td>\n",
       "      <td>Rio Grande do Sul</td>\n",
       "      <td>-28.389129</td>\n",
       "      <td>-51.843836</td>\n",
       "    </tr>\n",
       "    <tr>\n",
       "      <th>19176</th>\n",
       "      <td>19177</td>\n",
       "      <td>99990</td>\n",
       "      <td>Muliterno</td>\n",
       "      <td>Rio Grande do Sul</td>\n",
       "      <td>-28.329595</td>\n",
       "      <td>-51.769362</td>\n",
       "    </tr>\n",
       "  </tbody>\n",
       "</table>\n",
       "<p>19177 rows × 6 columns</p>\n",
       "</div>"
      ],
      "text/plain": [
       "       GEOLOCATION_KEY  ZIP_CODE_PREFIX             CITY              STATE  \\\n",
       "0                    1             1001        Sao Paulo          São Paulo   \n",
       "1                    2             1002        Sao Paulo          São Paulo   \n",
       "2                    3             1003        Sao Paulo          São Paulo   \n",
       "3                    4             1004        Sao Paulo          São Paulo   \n",
       "4                    5             1005        Sao Paulo          São Paulo   \n",
       "...                ...              ...              ...                ...   \n",
       "19172            19173            99960          Charrua  Rio Grande do Sul   \n",
       "19173            19174            99965       Agua Santa  Rio Grande do Sul   \n",
       "19174            19175            99970          Ciriaco  Rio Grande do Sul   \n",
       "19175            19176            99980  David Canabarro  Rio Grande do Sul   \n",
       "19176            19177            99990        Muliterno  Rio Grande do Sul   \n",
       "\n",
       "        LATITUDE  LONGITUDE  \n",
       "0     -23.550190 -46.634024  \n",
       "1     -23.548146 -46.634979  \n",
       "2     -23.548994 -46.635731  \n",
       "3     -23.549799 -46.634757  \n",
       "4     -23.549456 -46.636733  \n",
       "...          ...        ...  \n",
       "19172 -27.953722 -52.025511  \n",
       "19173 -28.183372 -52.039850  \n",
       "19174 -28.343766 -51.874689  \n",
       "19175 -28.389129 -51.843836  \n",
       "19176 -28.329595 -51.769362  \n",
       "\n",
       "[19177 rows x 6 columns]"
      ]
     },
     "execution_count": 20,
     "metadata": {},
     "output_type": "execute_result"
    }
   ],
   "source": [
    "dim_geolocation"
   ]
  },
  {
   "cell_type": "code",
   "execution_count": 21,
   "id": "ca9756bf",
   "metadata": {},
   "outputs": [
    {
     "name": "stdout",
     "output_type": "stream",
     "text": [
      "The dimGeolocation has 0 missing values.\n"
     ]
    }
   ],
   "source": [
    "print(f'The dimGeolocation has {dim_geolocation.isnull().sum().sum()} missing values.')"
   ]
  },
  {
   "cell_type": "markdown",
   "id": "22648099",
   "metadata": {},
   "source": [
    "<h4>Dimension <sup>dimCustomer</sup></h4>"
   ]
  },
  {
   "cell_type": "code",
   "execution_count": 22,
   "id": "3ae8c436",
   "metadata": {},
   "outputs": [],
   "source": [
    "dim_customer = customers.copy()"
   ]
  },
  {
   "cell_type": "code",
   "execution_count": 23,
   "id": "dfc5a8e4",
   "metadata": {},
   "outputs": [
    {
     "data": {
      "text/html": [
       "<div>\n",
       "<style scoped>\n",
       "    .dataframe tbody tr th:only-of-type {\n",
       "        vertical-align: middle;\n",
       "    }\n",
       "\n",
       "    .dataframe tbody tr th {\n",
       "        vertical-align: top;\n",
       "    }\n",
       "\n",
       "    .dataframe thead th {\n",
       "        text-align: right;\n",
       "    }\n",
       "</style>\n",
       "<table border=\"1\" class=\"dataframe\">\n",
       "  <thead>\n",
       "    <tr style=\"text-align: right;\">\n",
       "      <th></th>\n",
       "      <th>customer_id</th>\n",
       "      <th>customer_unique_id</th>\n",
       "      <th>customer_zip_code_prefix</th>\n",
       "    </tr>\n",
       "  </thead>\n",
       "  <tbody>\n",
       "    <tr>\n",
       "      <th>0</th>\n",
       "      <td>06b8999e2fba1a1fbc88172c00ba8bc7</td>\n",
       "      <td>861eff4711a542e4b93843c6dd7febb0</td>\n",
       "      <td>14409</td>\n",
       "    </tr>\n",
       "    <tr>\n",
       "      <th>1</th>\n",
       "      <td>18955e83d337fd6b2def6b18a428ac77</td>\n",
       "      <td>290c77bc529b7ac935b93aa66c333dc3</td>\n",
       "      <td>9790</td>\n",
       "    </tr>\n",
       "    <tr>\n",
       "      <th>2</th>\n",
       "      <td>4e7b3e00288586ebd08712fdd0374a03</td>\n",
       "      <td>060e732b5b29e8181a18229c7b0b2b5e</td>\n",
       "      <td>1151</td>\n",
       "    </tr>\n",
       "    <tr>\n",
       "      <th>3</th>\n",
       "      <td>b2b6027bc5c5109e529d4dc6358b12c3</td>\n",
       "      <td>259dac757896d24d7702b9acbbff3f3c</td>\n",
       "      <td>8775</td>\n",
       "    </tr>\n",
       "    <tr>\n",
       "      <th>4</th>\n",
       "      <td>4f2d8ab171c80ec8364f7c12e35b23ad</td>\n",
       "      <td>345ecd01c38d18a9036ed96c73b8d066</td>\n",
       "      <td>13056</td>\n",
       "    </tr>\n",
       "  </tbody>\n",
       "</table>\n",
       "</div>"
      ],
      "text/plain": [
       "                        customer_id                customer_unique_id  \\\n",
       "0  06b8999e2fba1a1fbc88172c00ba8bc7  861eff4711a542e4b93843c6dd7febb0   \n",
       "1  18955e83d337fd6b2def6b18a428ac77  290c77bc529b7ac935b93aa66c333dc3   \n",
       "2  4e7b3e00288586ebd08712fdd0374a03  060e732b5b29e8181a18229c7b0b2b5e   \n",
       "3  b2b6027bc5c5109e529d4dc6358b12c3  259dac757896d24d7702b9acbbff3f3c   \n",
       "4  4f2d8ab171c80ec8364f7c12e35b23ad  345ecd01c38d18a9036ed96c73b8d066   \n",
       "\n",
       "   customer_zip_code_prefix  \n",
       "0                     14409  \n",
       "1                      9790  \n",
       "2                      1151  \n",
       "3                      8775  \n",
       "4                     13056  "
      ]
     },
     "execution_count": 23,
     "metadata": {},
     "output_type": "execute_result"
    }
   ],
   "source": [
    "dim_customer.head()"
   ]
  },
  {
   "cell_type": "code",
   "execution_count": 24,
   "id": "b05db199",
   "metadata": {},
   "outputs": [
    {
     "name": "stdout",
     "output_type": "stream",
     "text": [
      "The customer dimension has 0 missing values.\n"
     ]
    }
   ],
   "source": [
    "print(f'The customer dimension has {dim_customer.isna().sum().sum()} missing values.')"
   ]
  },
  {
   "cell_type": "code",
   "execution_count": 25,
   "id": "523eae67",
   "metadata": {},
   "outputs": [],
   "source": [
    "dim_customer.columns = ['CUSTOMER_ID', 'CUSTOMER_UNIQUE_ID', 'CUSTOMER_ZIP_CODE_PREFIX']"
   ]
  },
  {
   "cell_type": "code",
   "execution_count": 26,
   "id": "3a6da7e4",
   "metadata": {},
   "outputs": [
    {
     "data": {
      "text/plain": [
       "False"
      ]
     },
     "execution_count": 26,
     "metadata": {},
     "output_type": "execute_result"
    }
   ],
   "source": [
    "dim_customer['CUSTOMER_ID'].duplicated().any()"
   ]
  },
  {
   "cell_type": "code",
   "execution_count": 27,
   "id": "01c3b5a0",
   "metadata": {},
   "outputs": [],
   "source": [
    "add_surrogate_key_dimension_table(dim_customer, 'CUSTOMER_KEY')"
   ]
  },
  {
   "cell_type": "code",
   "execution_count": 28,
   "id": "64f48a20",
   "metadata": {},
   "outputs": [],
   "source": [
    "customer_key_mapping = map_surrogate_to_natural_key(dim_customer, 'CUSTOMER_ID', 'CUSTOMER_KEY')"
   ]
  },
  {
   "cell_type": "code",
   "execution_count": 29,
   "id": "09d1ae1f",
   "metadata": {},
   "outputs": [
    {
     "data": {
      "text/html": [
       "<div>\n",
       "<style scoped>\n",
       "    .dataframe tbody tr th:only-of-type {\n",
       "        vertical-align: middle;\n",
       "    }\n",
       "\n",
       "    .dataframe tbody tr th {\n",
       "        vertical-align: top;\n",
       "    }\n",
       "\n",
       "    .dataframe thead th {\n",
       "        text-align: right;\n",
       "    }\n",
       "</style>\n",
       "<table border=\"1\" class=\"dataframe\">\n",
       "  <thead>\n",
       "    <tr style=\"text-align: right;\">\n",
       "      <th></th>\n",
       "      <th>CUSTOMER_KEY</th>\n",
       "      <th>CUSTOMER_ID</th>\n",
       "      <th>CUSTOMER_UNIQUE_ID</th>\n",
       "      <th>CUSTOMER_ZIP_CODE_PREFIX</th>\n",
       "    </tr>\n",
       "  </thead>\n",
       "  <tbody>\n",
       "    <tr>\n",
       "      <th>0</th>\n",
       "      <td>1</td>\n",
       "      <td>06b8999e2fba1a1fbc88172c00ba8bc7</td>\n",
       "      <td>861eff4711a542e4b93843c6dd7febb0</td>\n",
       "      <td>14409</td>\n",
       "    </tr>\n",
       "    <tr>\n",
       "      <th>1</th>\n",
       "      <td>2</td>\n",
       "      <td>18955e83d337fd6b2def6b18a428ac77</td>\n",
       "      <td>290c77bc529b7ac935b93aa66c333dc3</td>\n",
       "      <td>9790</td>\n",
       "    </tr>\n",
       "    <tr>\n",
       "      <th>2</th>\n",
       "      <td>3</td>\n",
       "      <td>4e7b3e00288586ebd08712fdd0374a03</td>\n",
       "      <td>060e732b5b29e8181a18229c7b0b2b5e</td>\n",
       "      <td>1151</td>\n",
       "    </tr>\n",
       "    <tr>\n",
       "      <th>3</th>\n",
       "      <td>4</td>\n",
       "      <td>b2b6027bc5c5109e529d4dc6358b12c3</td>\n",
       "      <td>259dac757896d24d7702b9acbbff3f3c</td>\n",
       "      <td>8775</td>\n",
       "    </tr>\n",
       "    <tr>\n",
       "      <th>4</th>\n",
       "      <td>5</td>\n",
       "      <td>4f2d8ab171c80ec8364f7c12e35b23ad</td>\n",
       "      <td>345ecd01c38d18a9036ed96c73b8d066</td>\n",
       "      <td>13056</td>\n",
       "    </tr>\n",
       "    <tr>\n",
       "      <th>...</th>\n",
       "      <td>...</td>\n",
       "      <td>...</td>\n",
       "      <td>...</td>\n",
       "      <td>...</td>\n",
       "    </tr>\n",
       "    <tr>\n",
       "      <th>99436</th>\n",
       "      <td>99437</td>\n",
       "      <td>17ddf5dd5d51696bb3d7c6291687be6f</td>\n",
       "      <td>1a29b476fee25c95fbafc67c5ac95cf8</td>\n",
       "      <td>3937</td>\n",
       "    </tr>\n",
       "    <tr>\n",
       "      <th>99437</th>\n",
       "      <td>99438</td>\n",
       "      <td>e7b71a9017aa05c9a7fd292d714858e8</td>\n",
       "      <td>d52a67c98be1cf6a5c84435bd38d095d</td>\n",
       "      <td>6764</td>\n",
       "    </tr>\n",
       "    <tr>\n",
       "      <th>99438</th>\n",
       "      <td>99439</td>\n",
       "      <td>5e28dfe12db7fb50a4b2f691faecea5e</td>\n",
       "      <td>e9f50caf99f032f0bf3c55141f019d99</td>\n",
       "      <td>60115</td>\n",
       "    </tr>\n",
       "    <tr>\n",
       "      <th>99439</th>\n",
       "      <td>99440</td>\n",
       "      <td>56b18e2166679b8a959d72dd06da27f9</td>\n",
       "      <td>73c2643a0a458b49f58cea58833b192e</td>\n",
       "      <td>92120</td>\n",
       "    </tr>\n",
       "    <tr>\n",
       "      <th>99440</th>\n",
       "      <td>99441</td>\n",
       "      <td>274fa6071e5e17fe303b9748641082c8</td>\n",
       "      <td>84732c5050c01db9b23e19ba39899398</td>\n",
       "      <td>6703</td>\n",
       "    </tr>\n",
       "  </tbody>\n",
       "</table>\n",
       "<p>99441 rows × 4 columns</p>\n",
       "</div>"
      ],
      "text/plain": [
       "       CUSTOMER_KEY                       CUSTOMER_ID  \\\n",
       "0                 1  06b8999e2fba1a1fbc88172c00ba8bc7   \n",
       "1                 2  18955e83d337fd6b2def6b18a428ac77   \n",
       "2                 3  4e7b3e00288586ebd08712fdd0374a03   \n",
       "3                 4  b2b6027bc5c5109e529d4dc6358b12c3   \n",
       "4                 5  4f2d8ab171c80ec8364f7c12e35b23ad   \n",
       "...             ...                               ...   \n",
       "99436         99437  17ddf5dd5d51696bb3d7c6291687be6f   \n",
       "99437         99438  e7b71a9017aa05c9a7fd292d714858e8   \n",
       "99438         99439  5e28dfe12db7fb50a4b2f691faecea5e   \n",
       "99439         99440  56b18e2166679b8a959d72dd06da27f9   \n",
       "99440         99441  274fa6071e5e17fe303b9748641082c8   \n",
       "\n",
       "                     CUSTOMER_UNIQUE_ID  CUSTOMER_ZIP_CODE_PREFIX  \n",
       "0      861eff4711a542e4b93843c6dd7febb0                     14409  \n",
       "1      290c77bc529b7ac935b93aa66c333dc3                      9790  \n",
       "2      060e732b5b29e8181a18229c7b0b2b5e                      1151  \n",
       "3      259dac757896d24d7702b9acbbff3f3c                      8775  \n",
       "4      345ecd01c38d18a9036ed96c73b8d066                     13056  \n",
       "...                                 ...                       ...  \n",
       "99436  1a29b476fee25c95fbafc67c5ac95cf8                      3937  \n",
       "99437  d52a67c98be1cf6a5c84435bd38d095d                      6764  \n",
       "99438  e9f50caf99f032f0bf3c55141f019d99                     60115  \n",
       "99439  73c2643a0a458b49f58cea58833b192e                     92120  \n",
       "99440  84732c5050c01db9b23e19ba39899398                      6703  \n",
       "\n",
       "[99441 rows x 4 columns]"
      ]
     },
     "execution_count": 29,
     "metadata": {},
     "output_type": "execute_result"
    }
   ],
   "source": [
    "dim_customer"
   ]
  },
  {
   "cell_type": "code",
   "execution_count": 30,
   "id": "845be919",
   "metadata": {},
   "outputs": [
    {
     "name": "stdout",
     "output_type": "stream",
     "text": [
      "The dimCustomer has 0 missing values.\n"
     ]
    }
   ],
   "source": [
    "print(f'The dimCustomer has {dim_customer.isnull().sum().sum()} missing values.')"
   ]
  },
  {
   "cell_type": "markdown",
   "id": "83a1063d",
   "metadata": {},
   "source": [
    "<h4>Dimension <sup>dimCustomerGeolocation</sup></h4>"
   ]
  },
  {
   "cell_type": "code",
   "execution_count": 31,
   "id": "57683bf9",
   "metadata": {},
   "outputs": [],
   "source": [
    "dim_customer_geolocation = pd.merge(dim_geolocation, dim_customer, left_on='ZIP_CODE_PREFIX', \n",
    "                                    right_on='CUSTOMER_ZIP_CODE_PREFIX')"
   ]
  },
  {
   "cell_type": "code",
   "execution_count": 32,
   "id": "98f8e77b",
   "metadata": {},
   "outputs": [
    {
     "data": {
      "text/html": [
       "<div>\n",
       "<style scoped>\n",
       "    .dataframe tbody tr th:only-of-type {\n",
       "        vertical-align: middle;\n",
       "    }\n",
       "\n",
       "    .dataframe tbody tr th {\n",
       "        vertical-align: top;\n",
       "    }\n",
       "\n",
       "    .dataframe thead th {\n",
       "        text-align: right;\n",
       "    }\n",
       "</style>\n",
       "<table border=\"1\" class=\"dataframe\">\n",
       "  <thead>\n",
       "    <tr style=\"text-align: right;\">\n",
       "      <th></th>\n",
       "      <th>GEOLOCATION_KEY</th>\n",
       "      <th>ZIP_CODE_PREFIX</th>\n",
       "      <th>CITY</th>\n",
       "      <th>STATE</th>\n",
       "      <th>LATITUDE</th>\n",
       "      <th>LONGITUDE</th>\n",
       "      <th>CUSTOMER_KEY</th>\n",
       "      <th>CUSTOMER_ID</th>\n",
       "      <th>CUSTOMER_UNIQUE_ID</th>\n",
       "      <th>CUSTOMER_ZIP_CODE_PREFIX</th>\n",
       "    </tr>\n",
       "  </thead>\n",
       "  <tbody>\n",
       "    <tr>\n",
       "      <th>0</th>\n",
       "      <td>3</td>\n",
       "      <td>1003</td>\n",
       "      <td>Sao Paulo</td>\n",
       "      <td>São Paulo</td>\n",
       "      <td>-23.548994</td>\n",
       "      <td>-46.635731</td>\n",
       "      <td>23915</td>\n",
       "      <td>7ae2a9337aa4bc799723511faa1d6830</td>\n",
       "      <td>0c1a20644f0dc126c3eaff8dbc1bd12c</td>\n",
       "      <td>1003</td>\n",
       "    </tr>\n",
       "    <tr>\n",
       "      <th>1</th>\n",
       "      <td>4</td>\n",
       "      <td>1004</td>\n",
       "      <td>Sao Paulo</td>\n",
       "      <td>São Paulo</td>\n",
       "      <td>-23.549799</td>\n",
       "      <td>-46.634757</td>\n",
       "      <td>11748</td>\n",
       "      <td>a09edf8c1e842e94805a206b3d73eed5</td>\n",
       "      <td>968f6d2f674977d88a4b445a5117ccd8</td>\n",
       "      <td>1004</td>\n",
       "    </tr>\n",
       "    <tr>\n",
       "      <th>2</th>\n",
       "      <td>4</td>\n",
       "      <td>1004</td>\n",
       "      <td>Sao Paulo</td>\n",
       "      <td>São Paulo</td>\n",
       "      <td>-23.549799</td>\n",
       "      <td>-46.634757</td>\n",
       "      <td>23991</td>\n",
       "      <td>ee9b73e88afb4904ee2322cfc89cf638</td>\n",
       "      <td>095e7c124c5c1ccb1eb9f731152eae6a</td>\n",
       "      <td>1004</td>\n",
       "    </tr>\n",
       "    <tr>\n",
       "      <th>3</th>\n",
       "      <td>5</td>\n",
       "      <td>1005</td>\n",
       "      <td>Sao Paulo</td>\n",
       "      <td>São Paulo</td>\n",
       "      <td>-23.549456</td>\n",
       "      <td>-46.636733</td>\n",
       "      <td>11379</td>\n",
       "      <td>5a8b64ee6ccdae09ea823e6aa00e9517</td>\n",
       "      <td>9c84e5193d6ee59b3870e0e4e3a2dad8</td>\n",
       "      <td>1005</td>\n",
       "    </tr>\n",
       "    <tr>\n",
       "      <th>4</th>\n",
       "      <td>5</td>\n",
       "      <td>1005</td>\n",
       "      <td>Sao Paulo</td>\n",
       "      <td>São Paulo</td>\n",
       "      <td>-23.549456</td>\n",
       "      <td>-46.636733</td>\n",
       "      <td>12308</td>\n",
       "      <td>6ec2b4682814cfdac8d92bad42b3ddab</td>\n",
       "      <td>57f0ea1c7f6b9ef8615c0a0b8f06fe57</td>\n",
       "      <td>1005</td>\n",
       "    </tr>\n",
       "  </tbody>\n",
       "</table>\n",
       "</div>"
      ],
      "text/plain": [
       "   GEOLOCATION_KEY  ZIP_CODE_PREFIX       CITY      STATE   LATITUDE  \\\n",
       "0                3             1003  Sao Paulo  São Paulo -23.548994   \n",
       "1                4             1004  Sao Paulo  São Paulo -23.549799   \n",
       "2                4             1004  Sao Paulo  São Paulo -23.549799   \n",
       "3                5             1005  Sao Paulo  São Paulo -23.549456   \n",
       "4                5             1005  Sao Paulo  São Paulo -23.549456   \n",
       "\n",
       "   LONGITUDE  CUSTOMER_KEY                       CUSTOMER_ID  \\\n",
       "0 -46.635731         23915  7ae2a9337aa4bc799723511faa1d6830   \n",
       "1 -46.634757         11748  a09edf8c1e842e94805a206b3d73eed5   \n",
       "2 -46.634757         23991  ee9b73e88afb4904ee2322cfc89cf638   \n",
       "3 -46.636733         11379  5a8b64ee6ccdae09ea823e6aa00e9517   \n",
       "4 -46.636733         12308  6ec2b4682814cfdac8d92bad42b3ddab   \n",
       "\n",
       "                 CUSTOMER_UNIQUE_ID  CUSTOMER_ZIP_CODE_PREFIX  \n",
       "0  0c1a20644f0dc126c3eaff8dbc1bd12c                      1003  \n",
       "1  968f6d2f674977d88a4b445a5117ccd8                      1004  \n",
       "2  095e7c124c5c1ccb1eb9f731152eae6a                      1004  \n",
       "3  9c84e5193d6ee59b3870e0e4e3a2dad8                      1005  \n",
       "4  57f0ea1c7f6b9ef8615c0a0b8f06fe57                      1005  "
      ]
     },
     "execution_count": 32,
     "metadata": {},
     "output_type": "execute_result"
    }
   ],
   "source": [
    "dim_customer_geolocation.head()"
   ]
  },
  {
   "cell_type": "code",
   "execution_count": 33,
   "id": "1b1abb57",
   "metadata": {},
   "outputs": [],
   "source": [
    "dim_customer_geolocation.drop(['ZIP_CODE_PREFIX', 'CUSTOMER_KEY', 'CUSTOMER_ID', 'CUSTOMER_UNIQUE_ID'], axis=1, inplace=True)"
   ]
  },
  {
   "cell_type": "code",
   "execution_count": 34,
   "id": "e3ad75f0",
   "metadata": {},
   "outputs": [
    {
     "data": {
      "text/plain": [
       "True"
      ]
     },
     "execution_count": 34,
     "metadata": {},
     "output_type": "execute_result"
    }
   ],
   "source": [
    "dim_customer_geolocation.duplicated().any()"
   ]
  },
  {
   "cell_type": "code",
   "execution_count": 35,
   "id": "81e56be0",
   "metadata": {},
   "outputs": [],
   "source": [
    "dim_customer_geolocation = dim_customer_geolocation.drop_duplicates().reset_index(drop=True)"
   ]
  },
  {
   "cell_type": "code",
   "execution_count": 36,
   "id": "43e6736e",
   "metadata": {},
   "outputs": [],
   "source": [
    "dim_customer_geolocation = dim_customer_geolocation.rename(columns={'GEOLOCATION_KEY': 'CUSTOMER_GEOLOCATION_KEY'})"
   ]
  },
  {
   "cell_type": "code",
   "execution_count": 37,
   "id": "8e63fb4e",
   "metadata": {},
   "outputs": [],
   "source": [
    "dim_customer_geolocation = dim_customer_geolocation[['CUSTOMER_GEOLOCATION_KEY', 'CUSTOMER_ZIP_CODE_PREFIX', \n",
    "                                                     'CITY', 'STATE', 'LATITUDE', 'LONGITUDE']]"
   ]
  },
  {
   "cell_type": "code",
   "execution_count": 38,
   "id": "7c4625e1",
   "metadata": {},
   "outputs": [],
   "source": [
    "customer_geolocation_key_mapping = map_surrogate_to_natural_key(dim_customer_geolocation, 'CUSTOMER_ZIP_CODE_PREFIX', \n",
    "                                                                'CUSTOMER_GEOLOCATION_KEY')"
   ]
  },
  {
   "cell_type": "code",
   "execution_count": 39,
   "id": "0dcfd442",
   "metadata": {},
   "outputs": [
    {
     "data": {
      "text/html": [
       "<div>\n",
       "<style scoped>\n",
       "    .dataframe tbody tr th:only-of-type {\n",
       "        vertical-align: middle;\n",
       "    }\n",
       "\n",
       "    .dataframe tbody tr th {\n",
       "        vertical-align: top;\n",
       "    }\n",
       "\n",
       "    .dataframe thead th {\n",
       "        text-align: right;\n",
       "    }\n",
       "</style>\n",
       "<table border=\"1\" class=\"dataframe\">\n",
       "  <thead>\n",
       "    <tr style=\"text-align: right;\">\n",
       "      <th></th>\n",
       "      <th>CUSTOMER_GEOLOCATION_KEY</th>\n",
       "      <th>CUSTOMER_ZIP_CODE_PREFIX</th>\n",
       "      <th>CITY</th>\n",
       "      <th>STATE</th>\n",
       "      <th>LATITUDE</th>\n",
       "      <th>LONGITUDE</th>\n",
       "    </tr>\n",
       "  </thead>\n",
       "  <tbody>\n",
       "    <tr>\n",
       "      <th>0</th>\n",
       "      <td>3</td>\n",
       "      <td>1003</td>\n",
       "      <td>Sao Paulo</td>\n",
       "      <td>São Paulo</td>\n",
       "      <td>-23.548994</td>\n",
       "      <td>-46.635731</td>\n",
       "    </tr>\n",
       "    <tr>\n",
       "      <th>1</th>\n",
       "      <td>4</td>\n",
       "      <td>1004</td>\n",
       "      <td>Sao Paulo</td>\n",
       "      <td>São Paulo</td>\n",
       "      <td>-23.549799</td>\n",
       "      <td>-46.634757</td>\n",
       "    </tr>\n",
       "    <tr>\n",
       "      <th>2</th>\n",
       "      <td>5</td>\n",
       "      <td>1005</td>\n",
       "      <td>Sao Paulo</td>\n",
       "      <td>São Paulo</td>\n",
       "      <td>-23.549456</td>\n",
       "      <td>-46.636733</td>\n",
       "    </tr>\n",
       "    <tr>\n",
       "      <th>3</th>\n",
       "      <td>6</td>\n",
       "      <td>1006</td>\n",
       "      <td>Sao Paulo</td>\n",
       "      <td>São Paulo</td>\n",
       "      <td>-23.550102</td>\n",
       "      <td>-46.636137</td>\n",
       "    </tr>\n",
       "    <tr>\n",
       "      <th>4</th>\n",
       "      <td>7</td>\n",
       "      <td>1007</td>\n",
       "      <td>Sao Paulo</td>\n",
       "      <td>São Paulo</td>\n",
       "      <td>-23.550046</td>\n",
       "      <td>-46.637251</td>\n",
       "    </tr>\n",
       "    <tr>\n",
       "      <th>...</th>\n",
       "      <td>...</td>\n",
       "      <td>...</td>\n",
       "      <td>...</td>\n",
       "      <td>...</td>\n",
       "      <td>...</td>\n",
       "      <td>...</td>\n",
       "    </tr>\n",
       "    <tr>\n",
       "      <th>14989</th>\n",
       "      <td>19173</td>\n",
       "      <td>99960</td>\n",
       "      <td>Charrua</td>\n",
       "      <td>Rio Grande do Sul</td>\n",
       "      <td>-27.953722</td>\n",
       "      <td>-52.025511</td>\n",
       "    </tr>\n",
       "    <tr>\n",
       "      <th>14990</th>\n",
       "      <td>19174</td>\n",
       "      <td>99965</td>\n",
       "      <td>Agua Santa</td>\n",
       "      <td>Rio Grande do Sul</td>\n",
       "      <td>-28.183372</td>\n",
       "      <td>-52.039850</td>\n",
       "    </tr>\n",
       "    <tr>\n",
       "      <th>14991</th>\n",
       "      <td>19175</td>\n",
       "      <td>99970</td>\n",
       "      <td>Ciriaco</td>\n",
       "      <td>Rio Grande do Sul</td>\n",
       "      <td>-28.343766</td>\n",
       "      <td>-51.874689</td>\n",
       "    </tr>\n",
       "    <tr>\n",
       "      <th>14992</th>\n",
       "      <td>19176</td>\n",
       "      <td>99980</td>\n",
       "      <td>David Canabarro</td>\n",
       "      <td>Rio Grande do Sul</td>\n",
       "      <td>-28.389129</td>\n",
       "      <td>-51.843836</td>\n",
       "    </tr>\n",
       "    <tr>\n",
       "      <th>14993</th>\n",
       "      <td>19177</td>\n",
       "      <td>99990</td>\n",
       "      <td>Muliterno</td>\n",
       "      <td>Rio Grande do Sul</td>\n",
       "      <td>-28.329595</td>\n",
       "      <td>-51.769362</td>\n",
       "    </tr>\n",
       "  </tbody>\n",
       "</table>\n",
       "<p>14994 rows × 6 columns</p>\n",
       "</div>"
      ],
      "text/plain": [
       "       CUSTOMER_GEOLOCATION_KEY  CUSTOMER_ZIP_CODE_PREFIX             CITY  \\\n",
       "0                             3                      1003        Sao Paulo   \n",
       "1                             4                      1004        Sao Paulo   \n",
       "2                             5                      1005        Sao Paulo   \n",
       "3                             6                      1006        Sao Paulo   \n",
       "4                             7                      1007        Sao Paulo   \n",
       "...                         ...                       ...              ...   \n",
       "14989                     19173                     99960          Charrua   \n",
       "14990                     19174                     99965       Agua Santa   \n",
       "14991                     19175                     99970          Ciriaco   \n",
       "14992                     19176                     99980  David Canabarro   \n",
       "14993                     19177                     99990        Muliterno   \n",
       "\n",
       "                   STATE   LATITUDE  LONGITUDE  \n",
       "0              São Paulo -23.548994 -46.635731  \n",
       "1              São Paulo -23.549799 -46.634757  \n",
       "2              São Paulo -23.549456 -46.636733  \n",
       "3              São Paulo -23.550102 -46.636137  \n",
       "4              São Paulo -23.550046 -46.637251  \n",
       "...                  ...        ...        ...  \n",
       "14989  Rio Grande do Sul -27.953722 -52.025511  \n",
       "14990  Rio Grande do Sul -28.183372 -52.039850  \n",
       "14991  Rio Grande do Sul -28.343766 -51.874689  \n",
       "14992  Rio Grande do Sul -28.389129 -51.843836  \n",
       "14993  Rio Grande do Sul -28.329595 -51.769362  \n",
       "\n",
       "[14994 rows x 6 columns]"
      ]
     },
     "execution_count": 39,
     "metadata": {},
     "output_type": "execute_result"
    }
   ],
   "source": [
    "dim_customer_geolocation"
   ]
  },
  {
   "cell_type": "code",
   "execution_count": 40,
   "id": "f9de09d2",
   "metadata": {},
   "outputs": [
    {
     "name": "stdout",
     "output_type": "stream",
     "text": [
      "The dimCustomerGeolocation has 0 missing values.\n"
     ]
    }
   ],
   "source": [
    "print(f'The dimCustomerGeolocation has {dim_customer_geolocation.isnull().sum().sum()} missing values.')"
   ]
  },
  {
   "cell_type": "markdown",
   "id": "afc315c0",
   "metadata": {},
   "source": [
    "<h4>Dimension <sup>dimSeller</sup></h4>"
   ]
  },
  {
   "cell_type": "code",
   "execution_count": 41,
   "id": "3d09b171",
   "metadata": {},
   "outputs": [],
   "source": [
    "dim_seller = sellers.copy()"
   ]
  },
  {
   "cell_type": "code",
   "execution_count": 42,
   "id": "12664e03",
   "metadata": {},
   "outputs": [
    {
     "data": {
      "text/html": [
       "<div>\n",
       "<style scoped>\n",
       "    .dataframe tbody tr th:only-of-type {\n",
       "        vertical-align: middle;\n",
       "    }\n",
       "\n",
       "    .dataframe tbody tr th {\n",
       "        vertical-align: top;\n",
       "    }\n",
       "\n",
       "    .dataframe thead th {\n",
       "        text-align: right;\n",
       "    }\n",
       "</style>\n",
       "<table border=\"1\" class=\"dataframe\">\n",
       "  <thead>\n",
       "    <tr style=\"text-align: right;\">\n",
       "      <th></th>\n",
       "      <th>seller_id</th>\n",
       "      <th>seller_zip_code_prefix</th>\n",
       "    </tr>\n",
       "  </thead>\n",
       "  <tbody>\n",
       "    <tr>\n",
       "      <th>0</th>\n",
       "      <td>3442f8959a84dea7ee197c632cb2df15</td>\n",
       "      <td>13023</td>\n",
       "    </tr>\n",
       "    <tr>\n",
       "      <th>1</th>\n",
       "      <td>d1b65fc7debc3361ea86b5f14c68d2e2</td>\n",
       "      <td>13844</td>\n",
       "    </tr>\n",
       "    <tr>\n",
       "      <th>2</th>\n",
       "      <td>ce3ad9de960102d0677a81f5d0bb7b2d</td>\n",
       "      <td>20031</td>\n",
       "    </tr>\n",
       "    <tr>\n",
       "      <th>3</th>\n",
       "      <td>c0f3eea2e14555b6faeea3dd58c1b1c3</td>\n",
       "      <td>4195</td>\n",
       "    </tr>\n",
       "    <tr>\n",
       "      <th>4</th>\n",
       "      <td>51a04a8a6bdcb23deccc82b0b80742cf</td>\n",
       "      <td>12914</td>\n",
       "    </tr>\n",
       "  </tbody>\n",
       "</table>\n",
       "</div>"
      ],
      "text/plain": [
       "                          seller_id  seller_zip_code_prefix\n",
       "0  3442f8959a84dea7ee197c632cb2df15                   13023\n",
       "1  d1b65fc7debc3361ea86b5f14c68d2e2                   13844\n",
       "2  ce3ad9de960102d0677a81f5d0bb7b2d                   20031\n",
       "3  c0f3eea2e14555b6faeea3dd58c1b1c3                    4195\n",
       "4  51a04a8a6bdcb23deccc82b0b80742cf                   12914"
      ]
     },
     "execution_count": 42,
     "metadata": {},
     "output_type": "execute_result"
    }
   ],
   "source": [
    "dim_seller.head()"
   ]
  },
  {
   "cell_type": "code",
   "execution_count": 43,
   "id": "fa519d0d",
   "metadata": {},
   "outputs": [],
   "source": [
    "dim_seller.columns = ['SELLER_ID', 'SELLER_ZIP_CODE_PREFIX']"
   ]
  },
  {
   "cell_type": "code",
   "execution_count": 44,
   "id": "9c4f0092",
   "metadata": {},
   "outputs": [
    {
     "data": {
      "text/plain": [
       "False"
      ]
     },
     "execution_count": 44,
     "metadata": {},
     "output_type": "execute_result"
    }
   ],
   "source": [
    "dim_seller['SELLER_ID'].duplicated().any()"
   ]
  },
  {
   "cell_type": "code",
   "execution_count": 45,
   "id": "397281c2",
   "metadata": {},
   "outputs": [],
   "source": [
    "add_surrogate_key_dimension_table(dim_seller, 'SELLER_KEY')"
   ]
  },
  {
   "cell_type": "code",
   "execution_count": 46,
   "id": "316639a3",
   "metadata": {},
   "outputs": [],
   "source": [
    "seller_key_mapping = map_surrogate_to_natural_key(dim_seller, 'SELLER_ID', 'SELLER_KEY')"
   ]
  },
  {
   "cell_type": "code",
   "execution_count": 47,
   "id": "8bafaa5c",
   "metadata": {},
   "outputs": [
    {
     "data": {
      "text/html": [
       "<div>\n",
       "<style scoped>\n",
       "    .dataframe tbody tr th:only-of-type {\n",
       "        vertical-align: middle;\n",
       "    }\n",
       "\n",
       "    .dataframe tbody tr th {\n",
       "        vertical-align: top;\n",
       "    }\n",
       "\n",
       "    .dataframe thead th {\n",
       "        text-align: right;\n",
       "    }\n",
       "</style>\n",
       "<table border=\"1\" class=\"dataframe\">\n",
       "  <thead>\n",
       "    <tr style=\"text-align: right;\">\n",
       "      <th></th>\n",
       "      <th>SELLER_KEY</th>\n",
       "      <th>SELLER_ID</th>\n",
       "      <th>SELLER_ZIP_CODE_PREFIX</th>\n",
       "    </tr>\n",
       "  </thead>\n",
       "  <tbody>\n",
       "    <tr>\n",
       "      <th>0</th>\n",
       "      <td>1</td>\n",
       "      <td>3442f8959a84dea7ee197c632cb2df15</td>\n",
       "      <td>13023</td>\n",
       "    </tr>\n",
       "    <tr>\n",
       "      <th>1</th>\n",
       "      <td>2</td>\n",
       "      <td>d1b65fc7debc3361ea86b5f14c68d2e2</td>\n",
       "      <td>13844</td>\n",
       "    </tr>\n",
       "    <tr>\n",
       "      <th>2</th>\n",
       "      <td>3</td>\n",
       "      <td>ce3ad9de960102d0677a81f5d0bb7b2d</td>\n",
       "      <td>20031</td>\n",
       "    </tr>\n",
       "    <tr>\n",
       "      <th>3</th>\n",
       "      <td>4</td>\n",
       "      <td>c0f3eea2e14555b6faeea3dd58c1b1c3</td>\n",
       "      <td>4195</td>\n",
       "    </tr>\n",
       "    <tr>\n",
       "      <th>4</th>\n",
       "      <td>5</td>\n",
       "      <td>51a04a8a6bdcb23deccc82b0b80742cf</td>\n",
       "      <td>12914</td>\n",
       "    </tr>\n",
       "    <tr>\n",
       "      <th>...</th>\n",
       "      <td>...</td>\n",
       "      <td>...</td>\n",
       "      <td>...</td>\n",
       "    </tr>\n",
       "    <tr>\n",
       "      <th>3090</th>\n",
       "      <td>3091</td>\n",
       "      <td>98dddbc4601dd4443ca174359b237166</td>\n",
       "      <td>87111</td>\n",
       "    </tr>\n",
       "    <tr>\n",
       "      <th>3091</th>\n",
       "      <td>3092</td>\n",
       "      <td>f8201cab383e484733266d1906e2fdfa</td>\n",
       "      <td>88137</td>\n",
       "    </tr>\n",
       "    <tr>\n",
       "      <th>3092</th>\n",
       "      <td>3093</td>\n",
       "      <td>74871d19219c7d518d0090283e03c137</td>\n",
       "      <td>4650</td>\n",
       "    </tr>\n",
       "    <tr>\n",
       "      <th>3093</th>\n",
       "      <td>3094</td>\n",
       "      <td>e603cf3fec55f8697c9059638d6c8eb5</td>\n",
       "      <td>96080</td>\n",
       "    </tr>\n",
       "    <tr>\n",
       "      <th>3094</th>\n",
       "      <td>3095</td>\n",
       "      <td>9e25199f6ef7e7c347120ff175652c3b</td>\n",
       "      <td>12051</td>\n",
       "    </tr>\n",
       "  </tbody>\n",
       "</table>\n",
       "<p>3095 rows × 3 columns</p>\n",
       "</div>"
      ],
      "text/plain": [
       "      SELLER_KEY                         SELLER_ID  SELLER_ZIP_CODE_PREFIX\n",
       "0              1  3442f8959a84dea7ee197c632cb2df15                   13023\n",
       "1              2  d1b65fc7debc3361ea86b5f14c68d2e2                   13844\n",
       "2              3  ce3ad9de960102d0677a81f5d0bb7b2d                   20031\n",
       "3              4  c0f3eea2e14555b6faeea3dd58c1b1c3                    4195\n",
       "4              5  51a04a8a6bdcb23deccc82b0b80742cf                   12914\n",
       "...          ...                               ...                     ...\n",
       "3090        3091  98dddbc4601dd4443ca174359b237166                   87111\n",
       "3091        3092  f8201cab383e484733266d1906e2fdfa                   88137\n",
       "3092        3093  74871d19219c7d518d0090283e03c137                    4650\n",
       "3093        3094  e603cf3fec55f8697c9059638d6c8eb5                   96080\n",
       "3094        3095  9e25199f6ef7e7c347120ff175652c3b                   12051\n",
       "\n",
       "[3095 rows x 3 columns]"
      ]
     },
     "execution_count": 47,
     "metadata": {},
     "output_type": "execute_result"
    }
   ],
   "source": [
    "dim_seller"
   ]
  },
  {
   "cell_type": "code",
   "execution_count": 48,
   "id": "0f7f8e5b",
   "metadata": {},
   "outputs": [
    {
     "name": "stdout",
     "output_type": "stream",
     "text": [
      "The dimSeller has 0 missing values.\n"
     ]
    }
   ],
   "source": [
    "print(f'The dimSeller has {dim_seller.isnull().sum().sum()} missing values.')"
   ]
  },
  {
   "cell_type": "markdown",
   "id": "9e9a6fc5",
   "metadata": {},
   "source": [
    "<h4>Dimension <sup>dimSellerGeolocation</sup></h4>"
   ]
  },
  {
   "cell_type": "code",
   "execution_count": 49,
   "id": "0e8a7027",
   "metadata": {},
   "outputs": [],
   "source": [
    "dim_seller_geolocation = pd.merge(dim_geolocation, dim_seller, left_on='ZIP_CODE_PREFIX', right_on='SELLER_ZIP_CODE_PREFIX')"
   ]
  },
  {
   "cell_type": "code",
   "execution_count": 50,
   "id": "cd52733c",
   "metadata": {},
   "outputs": [
    {
     "data": {
      "text/html": [
       "<div>\n",
       "<style scoped>\n",
       "    .dataframe tbody tr th:only-of-type {\n",
       "        vertical-align: middle;\n",
       "    }\n",
       "\n",
       "    .dataframe tbody tr th {\n",
       "        vertical-align: top;\n",
       "    }\n",
       "\n",
       "    .dataframe thead th {\n",
       "        text-align: right;\n",
       "    }\n",
       "</style>\n",
       "<table border=\"1\" class=\"dataframe\">\n",
       "  <thead>\n",
       "    <tr style=\"text-align: right;\">\n",
       "      <th></th>\n",
       "      <th>GEOLOCATION_KEY</th>\n",
       "      <th>ZIP_CODE_PREFIX</th>\n",
       "      <th>CITY</th>\n",
       "      <th>STATE</th>\n",
       "      <th>LATITUDE</th>\n",
       "      <th>LONGITUDE</th>\n",
       "      <th>SELLER_KEY</th>\n",
       "      <th>SELLER_ID</th>\n",
       "      <th>SELLER_ZIP_CODE_PREFIX</th>\n",
       "    </tr>\n",
       "  </thead>\n",
       "  <tbody>\n",
       "    <tr>\n",
       "      <th>0</th>\n",
       "      <td>1</td>\n",
       "      <td>1001</td>\n",
       "      <td>Sao Paulo</td>\n",
       "      <td>São Paulo</td>\n",
       "      <td>-23.550190</td>\n",
       "      <td>-46.634024</td>\n",
       "      <td>849</td>\n",
       "      <td>8602a61d680a10a82cceeeda0d99ea3d</td>\n",
       "      <td>1001</td>\n",
       "    </tr>\n",
       "    <tr>\n",
       "      <th>1</th>\n",
       "      <td>21</td>\n",
       "      <td>1021</td>\n",
       "      <td>Sao Paulo</td>\n",
       "      <td>São Paulo</td>\n",
       "      <td>-23.543000</td>\n",
       "      <td>-46.632143</td>\n",
       "      <td>600</td>\n",
       "      <td>e0487761face83d64fcada2408959a36</td>\n",
       "      <td>1021</td>\n",
       "    </tr>\n",
       "    <tr>\n",
       "      <th>2</th>\n",
       "      <td>21</td>\n",
       "      <td>1021</td>\n",
       "      <td>Sao Paulo</td>\n",
       "      <td>São Paulo</td>\n",
       "      <td>-23.543000</td>\n",
       "      <td>-46.632143</td>\n",
       "      <td>2022</td>\n",
       "      <td>dd55f1bb788714a40e7954c3be6df745</td>\n",
       "      <td>1021</td>\n",
       "    </tr>\n",
       "    <tr>\n",
       "      <th>3</th>\n",
       "      <td>22</td>\n",
       "      <td>1022</td>\n",
       "      <td>Sao Paulo</td>\n",
       "      <td>São Paulo</td>\n",
       "      <td>-23.544922</td>\n",
       "      <td>-46.631931</td>\n",
       "      <td>1568</td>\n",
       "      <td>09bad886111255c5b5030314fc7f1a4a</td>\n",
       "      <td>1022</td>\n",
       "    </tr>\n",
       "    <tr>\n",
       "      <th>4</th>\n",
       "      <td>23</td>\n",
       "      <td>1023</td>\n",
       "      <td>Sao Paulo</td>\n",
       "      <td>São Paulo</td>\n",
       "      <td>-23.542331</td>\n",
       "      <td>-46.631373</td>\n",
       "      <td>1213</td>\n",
       "      <td>f049a72cf58fd31b11f8919cade515e7</td>\n",
       "      <td>1023</td>\n",
       "    </tr>\n",
       "  </tbody>\n",
       "</table>\n",
       "</div>"
      ],
      "text/plain": [
       "   GEOLOCATION_KEY  ZIP_CODE_PREFIX       CITY      STATE   LATITUDE  \\\n",
       "0                1             1001  Sao Paulo  São Paulo -23.550190   \n",
       "1               21             1021  Sao Paulo  São Paulo -23.543000   \n",
       "2               21             1021  Sao Paulo  São Paulo -23.543000   \n",
       "3               22             1022  Sao Paulo  São Paulo -23.544922   \n",
       "4               23             1023  Sao Paulo  São Paulo -23.542331   \n",
       "\n",
       "   LONGITUDE  SELLER_KEY                         SELLER_ID  \\\n",
       "0 -46.634024         849  8602a61d680a10a82cceeeda0d99ea3d   \n",
       "1 -46.632143         600  e0487761face83d64fcada2408959a36   \n",
       "2 -46.632143        2022  dd55f1bb788714a40e7954c3be6df745   \n",
       "3 -46.631931        1568  09bad886111255c5b5030314fc7f1a4a   \n",
       "4 -46.631373        1213  f049a72cf58fd31b11f8919cade515e7   \n",
       "\n",
       "   SELLER_ZIP_CODE_PREFIX  \n",
       "0                    1001  \n",
       "1                    1021  \n",
       "2                    1021  \n",
       "3                    1022  \n",
       "4                    1023  "
      ]
     },
     "execution_count": 50,
     "metadata": {},
     "output_type": "execute_result"
    }
   ],
   "source": [
    "dim_seller_geolocation.head()"
   ]
  },
  {
   "cell_type": "code",
   "execution_count": 51,
   "id": "f6e27d0b",
   "metadata": {},
   "outputs": [],
   "source": [
    "dim_seller_geolocation.drop(['ZIP_CODE_PREFIX', 'SELLER_KEY', 'SELLER_ID'], axis=1, inplace=True)"
   ]
  },
  {
   "cell_type": "code",
   "execution_count": 52,
   "id": "169ca38b",
   "metadata": {},
   "outputs": [
    {
     "data": {
      "text/plain": [
       "True"
      ]
     },
     "execution_count": 52,
     "metadata": {},
     "output_type": "execute_result"
    }
   ],
   "source": [
    "dim_seller_geolocation.duplicated().any()"
   ]
  },
  {
   "cell_type": "code",
   "execution_count": 53,
   "id": "00a72393",
   "metadata": {},
   "outputs": [],
   "source": [
    "dim_seller_geolocation = dim_seller_geolocation.drop_duplicates().reset_index(drop=True)"
   ]
  },
  {
   "cell_type": "code",
   "execution_count": 54,
   "id": "a02ba14a",
   "metadata": {},
   "outputs": [],
   "source": [
    "dim_seller_geolocation = dim_seller_geolocation.rename(columns={'GEOLOCATION_KEY': 'SELLER_GEOLOCATION_KEY'})"
   ]
  },
  {
   "cell_type": "code",
   "execution_count": 55,
   "id": "54b1e082",
   "metadata": {},
   "outputs": [],
   "source": [
    "dim_seller_geolocation = dim_seller_geolocation[['SELLER_GEOLOCATION_KEY', 'SELLER_ZIP_CODE_PREFIX', \n",
    "                                                 'CITY', 'STATE', 'LATITUDE', 'LONGITUDE']]"
   ]
  },
  {
   "cell_type": "code",
   "execution_count": 56,
   "id": "dc14f9a8",
   "metadata": {},
   "outputs": [],
   "source": [
    "seller_geolocation_key_mapping = map_surrogate_to_natural_key(dim_seller_geolocation, 'SELLER_ZIP_CODE_PREFIX', \n",
    "                                                              'SELLER_GEOLOCATION_KEY')"
   ]
  },
  {
   "cell_type": "code",
   "execution_count": 57,
   "id": "dcbb402c",
   "metadata": {},
   "outputs": [
    {
     "data": {
      "text/html": [
       "<div>\n",
       "<style scoped>\n",
       "    .dataframe tbody tr th:only-of-type {\n",
       "        vertical-align: middle;\n",
       "    }\n",
       "\n",
       "    .dataframe tbody tr th {\n",
       "        vertical-align: top;\n",
       "    }\n",
       "\n",
       "    .dataframe thead th {\n",
       "        text-align: right;\n",
       "    }\n",
       "</style>\n",
       "<table border=\"1\" class=\"dataframe\">\n",
       "  <thead>\n",
       "    <tr style=\"text-align: right;\">\n",
       "      <th></th>\n",
       "      <th>SELLER_GEOLOCATION_KEY</th>\n",
       "      <th>SELLER_ZIP_CODE_PREFIX</th>\n",
       "      <th>CITY</th>\n",
       "      <th>STATE</th>\n",
       "      <th>LATITUDE</th>\n",
       "      <th>LONGITUDE</th>\n",
       "    </tr>\n",
       "  </thead>\n",
       "  <tbody>\n",
       "    <tr>\n",
       "      <th>0</th>\n",
       "      <td>1</td>\n",
       "      <td>1001</td>\n",
       "      <td>Sao Paulo</td>\n",
       "      <td>São Paulo</td>\n",
       "      <td>-23.550190</td>\n",
       "      <td>-46.634024</td>\n",
       "    </tr>\n",
       "    <tr>\n",
       "      <th>1</th>\n",
       "      <td>21</td>\n",
       "      <td>1021</td>\n",
       "      <td>Sao Paulo</td>\n",
       "      <td>São Paulo</td>\n",
       "      <td>-23.543000</td>\n",
       "      <td>-46.632143</td>\n",
       "    </tr>\n",
       "    <tr>\n",
       "      <th>2</th>\n",
       "      <td>22</td>\n",
       "      <td>1022</td>\n",
       "      <td>Sao Paulo</td>\n",
       "      <td>São Paulo</td>\n",
       "      <td>-23.544922</td>\n",
       "      <td>-46.631931</td>\n",
       "    </tr>\n",
       "    <tr>\n",
       "      <th>3</th>\n",
       "      <td>23</td>\n",
       "      <td>1023</td>\n",
       "      <td>Sao Paulo</td>\n",
       "      <td>São Paulo</td>\n",
       "      <td>-23.542331</td>\n",
       "      <td>-46.631373</td>\n",
       "    </tr>\n",
       "    <tr>\n",
       "      <th>4</th>\n",
       "      <td>26</td>\n",
       "      <td>1026</td>\n",
       "      <td>Sao Paulo</td>\n",
       "      <td>São Paulo</td>\n",
       "      <td>-23.539657</td>\n",
       "      <td>-46.631884</td>\n",
       "    </tr>\n",
       "    <tr>\n",
       "      <th>...</th>\n",
       "      <td>...</td>\n",
       "      <td>...</td>\n",
       "      <td>...</td>\n",
       "      <td>...</td>\n",
       "      <td>...</td>\n",
       "      <td>...</td>\n",
       "    </tr>\n",
       "    <tr>\n",
       "      <th>2241</th>\n",
       "      <td>19080</td>\n",
       "      <td>99300</td>\n",
       "      <td>Soledade</td>\n",
       "      <td>Rio Grande do Sul</td>\n",
       "      <td>-28.827450</td>\n",
       "      <td>-52.509255</td>\n",
       "    </tr>\n",
       "    <tr>\n",
       "      <th>2242</th>\n",
       "      <td>19100</td>\n",
       "      <td>99500</td>\n",
       "      <td>Carazinho</td>\n",
       "      <td>Rio Grande do Sul</td>\n",
       "      <td>-28.291245</td>\n",
       "      <td>-52.790256</td>\n",
       "    </tr>\n",
       "    <tr>\n",
       "      <th>2243</th>\n",
       "      <td>19119</td>\n",
       "      <td>99670</td>\n",
       "      <td>Ronda Alta</td>\n",
       "      <td>Rio Grande do Sul</td>\n",
       "      <td>-27.782222</td>\n",
       "      <td>-52.806500</td>\n",
       "    </tr>\n",
       "    <tr>\n",
       "      <th>2244</th>\n",
       "      <td>19124</td>\n",
       "      <td>99700</td>\n",
       "      <td>Erechim</td>\n",
       "      <td>Rio Grande do Sul</td>\n",
       "      <td>-27.636046</td>\n",
       "      <td>-52.273049</td>\n",
       "    </tr>\n",
       "    <tr>\n",
       "      <th>2245</th>\n",
       "      <td>19139</td>\n",
       "      <td>99730</td>\n",
       "      <td>Jacutinga</td>\n",
       "      <td>Rio Grande do Sul</td>\n",
       "      <td>-27.728956</td>\n",
       "      <td>-52.536535</td>\n",
       "    </tr>\n",
       "  </tbody>\n",
       "</table>\n",
       "<p>2246 rows × 6 columns</p>\n",
       "</div>"
      ],
      "text/plain": [
       "      SELLER_GEOLOCATION_KEY  SELLER_ZIP_CODE_PREFIX        CITY  \\\n",
       "0                          1                    1001   Sao Paulo   \n",
       "1                         21                    1021   Sao Paulo   \n",
       "2                         22                    1022   Sao Paulo   \n",
       "3                         23                    1023   Sao Paulo   \n",
       "4                         26                    1026   Sao Paulo   \n",
       "...                      ...                     ...         ...   \n",
       "2241                   19080                   99300    Soledade   \n",
       "2242                   19100                   99500   Carazinho   \n",
       "2243                   19119                   99670  Ronda Alta   \n",
       "2244                   19124                   99700     Erechim   \n",
       "2245                   19139                   99730   Jacutinga   \n",
       "\n",
       "                  STATE   LATITUDE  LONGITUDE  \n",
       "0             São Paulo -23.550190 -46.634024  \n",
       "1             São Paulo -23.543000 -46.632143  \n",
       "2             São Paulo -23.544922 -46.631931  \n",
       "3             São Paulo -23.542331 -46.631373  \n",
       "4             São Paulo -23.539657 -46.631884  \n",
       "...                 ...        ...        ...  \n",
       "2241  Rio Grande do Sul -28.827450 -52.509255  \n",
       "2242  Rio Grande do Sul -28.291245 -52.790256  \n",
       "2243  Rio Grande do Sul -27.782222 -52.806500  \n",
       "2244  Rio Grande do Sul -27.636046 -52.273049  \n",
       "2245  Rio Grande do Sul -27.728956 -52.536535  \n",
       "\n",
       "[2246 rows x 6 columns]"
      ]
     },
     "execution_count": 57,
     "metadata": {},
     "output_type": "execute_result"
    }
   ],
   "source": [
    "dim_seller_geolocation"
   ]
  },
  {
   "cell_type": "code",
   "execution_count": 58,
   "id": "ff2c0800",
   "metadata": {},
   "outputs": [
    {
     "name": "stdout",
     "output_type": "stream",
     "text": [
      "The dimSellerGeolocation has 0 missing values.\n"
     ]
    }
   ],
   "source": [
    "print(f'The dimSellerGeolocation has {dim_seller_geolocation.isnull().sum().sum()} missing values.')"
   ]
  },
  {
   "cell_type": "markdown",
   "id": "ef1fbed5",
   "metadata": {},
   "source": [
    "<h4>Dimension <sup>dimProduct</sup></h4>"
   ]
  },
  {
   "cell_type": "code",
   "execution_count": 59,
   "id": "5154e351",
   "metadata": {},
   "outputs": [],
   "source": [
    "dim_product = pd.merge(products, category[['product_category_name', 'product_category_name_english', \n",
    "                                           'product_main_category_name']], on='product_category_name', how='left')"
   ]
  },
  {
   "cell_type": "code",
   "execution_count": 60,
   "id": "ec6ff5df",
   "metadata": {},
   "outputs": [
    {
     "data": {
      "text/html": [
       "<div>\n",
       "<style scoped>\n",
       "    .dataframe tbody tr th:only-of-type {\n",
       "        vertical-align: middle;\n",
       "    }\n",
       "\n",
       "    .dataframe tbody tr th {\n",
       "        vertical-align: top;\n",
       "    }\n",
       "\n",
       "    .dataframe thead th {\n",
       "        text-align: right;\n",
       "    }\n",
       "</style>\n",
       "<table border=\"1\" class=\"dataframe\">\n",
       "  <thead>\n",
       "    <tr style=\"text-align: right;\">\n",
       "      <th></th>\n",
       "      <th>product_id</th>\n",
       "      <th>product_category_name</th>\n",
       "      <th>product_photos_qty</th>\n",
       "      <th>product_weight_g</th>\n",
       "      <th>product_length_cm</th>\n",
       "      <th>product_height_cm</th>\n",
       "      <th>product_width_cm</th>\n",
       "      <th>product_category_name_english</th>\n",
       "      <th>product_main_category_name</th>\n",
       "    </tr>\n",
       "  </thead>\n",
       "  <tbody>\n",
       "    <tr>\n",
       "      <th>0</th>\n",
       "      <td>1e9e8ef04dbcff4541ed26657ea517e5</td>\n",
       "      <td>perfumaria</td>\n",
       "      <td>1</td>\n",
       "      <td>225</td>\n",
       "      <td>16</td>\n",
       "      <td>10</td>\n",
       "      <td>14</td>\n",
       "      <td>perfumery</td>\n",
       "      <td>Health and Beauty</td>\n",
       "    </tr>\n",
       "    <tr>\n",
       "      <th>1</th>\n",
       "      <td>3aa071139cb16b67ca9e5dea641aaa2f</td>\n",
       "      <td>artes</td>\n",
       "      <td>1</td>\n",
       "      <td>1000</td>\n",
       "      <td>30</td>\n",
       "      <td>18</td>\n",
       "      <td>20</td>\n",
       "      <td>art</td>\n",
       "      <td>Music and Art</td>\n",
       "    </tr>\n",
       "    <tr>\n",
       "      <th>2</th>\n",
       "      <td>96bd76ec8810374ed1b65e291975717f</td>\n",
       "      <td>esporte_lazer</td>\n",
       "      <td>1</td>\n",
       "      <td>154</td>\n",
       "      <td>18</td>\n",
       "      <td>9</td>\n",
       "      <td>15</td>\n",
       "      <td>sports_leisure</td>\n",
       "      <td>Sports and Leisure</td>\n",
       "    </tr>\n",
       "    <tr>\n",
       "      <th>3</th>\n",
       "      <td>cef67bcfe19066a932b7673e239eb23d</td>\n",
       "      <td>bebes</td>\n",
       "      <td>1</td>\n",
       "      <td>371</td>\n",
       "      <td>26</td>\n",
       "      <td>4</td>\n",
       "      <td>26</td>\n",
       "      <td>baby</td>\n",
       "      <td>Children</td>\n",
       "    </tr>\n",
       "    <tr>\n",
       "      <th>4</th>\n",
       "      <td>9dc1a7de274444849c219cff195d0b71</td>\n",
       "      <td>utilidades_domesticas</td>\n",
       "      <td>4</td>\n",
       "      <td>625</td>\n",
       "      <td>20</td>\n",
       "      <td>17</td>\n",
       "      <td>13</td>\n",
       "      <td>housewares</td>\n",
       "      <td>Home and Decor</td>\n",
       "    </tr>\n",
       "  </tbody>\n",
       "</table>\n",
       "</div>"
      ],
      "text/plain": [
       "                         product_id  product_category_name  \\\n",
       "0  1e9e8ef04dbcff4541ed26657ea517e5             perfumaria   \n",
       "1  3aa071139cb16b67ca9e5dea641aaa2f                  artes   \n",
       "2  96bd76ec8810374ed1b65e291975717f          esporte_lazer   \n",
       "3  cef67bcfe19066a932b7673e239eb23d                  bebes   \n",
       "4  9dc1a7de274444849c219cff195d0b71  utilidades_domesticas   \n",
       "\n",
       "   product_photos_qty  product_weight_g  product_length_cm  product_height_cm  \\\n",
       "0                   1               225                 16                 10   \n",
       "1                   1              1000                 30                 18   \n",
       "2                   1               154                 18                  9   \n",
       "3                   1               371                 26                  4   \n",
       "4                   4               625                 20                 17   \n",
       "\n",
       "   product_width_cm product_category_name_english product_main_category_name  \n",
       "0                14                     perfumery          Health and Beauty  \n",
       "1                20                           art              Music and Art  \n",
       "2                15                sports_leisure         Sports and Leisure  \n",
       "3                26                          baby                   Children  \n",
       "4                13                    housewares             Home and Decor  "
      ]
     },
     "execution_count": 60,
     "metadata": {},
     "output_type": "execute_result"
    }
   ],
   "source": [
    "dim_product.head()"
   ]
  },
  {
   "cell_type": "code",
   "execution_count": 61,
   "id": "5a3141ea",
   "metadata": {},
   "outputs": [],
   "source": [
    "dim_product.drop('product_category_name', axis=1, inplace=True)"
   ]
  },
  {
   "cell_type": "code",
   "execution_count": 62,
   "id": "e0749a57",
   "metadata": {},
   "outputs": [],
   "source": [
    "dim_product.columns = ['PRODUCT_ID', 'NUMBER_PHOTOS', 'WEIGHT', 'LENGTH', 'HEIGHT', 'WIDTH', 'SUB_CATEGORY', 'CATEGORY']"
   ]
  },
  {
   "cell_type": "code",
   "execution_count": 63,
   "id": "246ef942",
   "metadata": {},
   "outputs": [],
   "source": [
    "dim_product = dim_product[['PRODUCT_ID', 'CATEGORY', 'SUB_CATEGORY', 'WEIGHT', 'LENGTH', 'HEIGHT', 'WIDTH', 'NUMBER_PHOTOS']]"
   ]
  },
  {
   "cell_type": "code",
   "execution_count": 64,
   "id": "e4503e20",
   "metadata": {},
   "outputs": [
    {
     "data": {
      "text/plain": [
       "False"
      ]
     },
     "execution_count": 64,
     "metadata": {},
     "output_type": "execute_result"
    }
   ],
   "source": [
    "dim_product['PRODUCT_ID'].duplicated().any()"
   ]
  },
  {
   "cell_type": "code",
   "execution_count": 65,
   "id": "f2b8a489",
   "metadata": {},
   "outputs": [],
   "source": [
    "add_surrogate_key_dimension_table(dim_product, 'PRODUCT_KEY')"
   ]
  },
  {
   "cell_type": "code",
   "execution_count": 66,
   "id": "f7a9ee59",
   "metadata": {},
   "outputs": [],
   "source": [
    "product_key_mapping = map_surrogate_to_natural_key(dim_product, 'PRODUCT_ID', 'PRODUCT_KEY')"
   ]
  },
  {
   "cell_type": "code",
   "execution_count": 67,
   "id": "17d8c370",
   "metadata": {},
   "outputs": [
    {
     "data": {
      "text/html": [
       "<div>\n",
       "<style scoped>\n",
       "    .dataframe tbody tr th:only-of-type {\n",
       "        vertical-align: middle;\n",
       "    }\n",
       "\n",
       "    .dataframe tbody tr th {\n",
       "        vertical-align: top;\n",
       "    }\n",
       "\n",
       "    .dataframe thead th {\n",
       "        text-align: right;\n",
       "    }\n",
       "</style>\n",
       "<table border=\"1\" class=\"dataframe\">\n",
       "  <thead>\n",
       "    <tr style=\"text-align: right;\">\n",
       "      <th></th>\n",
       "      <th>PRODUCT_KEY</th>\n",
       "      <th>PRODUCT_ID</th>\n",
       "      <th>CATEGORY</th>\n",
       "      <th>SUB_CATEGORY</th>\n",
       "      <th>WEIGHT</th>\n",
       "      <th>LENGTH</th>\n",
       "      <th>HEIGHT</th>\n",
       "      <th>WIDTH</th>\n",
       "      <th>NUMBER_PHOTOS</th>\n",
       "    </tr>\n",
       "  </thead>\n",
       "  <tbody>\n",
       "    <tr>\n",
       "      <th>0</th>\n",
       "      <td>1</td>\n",
       "      <td>1e9e8ef04dbcff4541ed26657ea517e5</td>\n",
       "      <td>Health and Beauty</td>\n",
       "      <td>perfumery</td>\n",
       "      <td>225</td>\n",
       "      <td>16</td>\n",
       "      <td>10</td>\n",
       "      <td>14</td>\n",
       "      <td>1</td>\n",
       "    </tr>\n",
       "    <tr>\n",
       "      <th>1</th>\n",
       "      <td>2</td>\n",
       "      <td>3aa071139cb16b67ca9e5dea641aaa2f</td>\n",
       "      <td>Music and Art</td>\n",
       "      <td>art</td>\n",
       "      <td>1000</td>\n",
       "      <td>30</td>\n",
       "      <td>18</td>\n",
       "      <td>20</td>\n",
       "      <td>1</td>\n",
       "    </tr>\n",
       "    <tr>\n",
       "      <th>2</th>\n",
       "      <td>3</td>\n",
       "      <td>96bd76ec8810374ed1b65e291975717f</td>\n",
       "      <td>Sports and Leisure</td>\n",
       "      <td>sports_leisure</td>\n",
       "      <td>154</td>\n",
       "      <td>18</td>\n",
       "      <td>9</td>\n",
       "      <td>15</td>\n",
       "      <td>1</td>\n",
       "    </tr>\n",
       "    <tr>\n",
       "      <th>3</th>\n",
       "      <td>4</td>\n",
       "      <td>cef67bcfe19066a932b7673e239eb23d</td>\n",
       "      <td>Children</td>\n",
       "      <td>baby</td>\n",
       "      <td>371</td>\n",
       "      <td>26</td>\n",
       "      <td>4</td>\n",
       "      <td>26</td>\n",
       "      <td>1</td>\n",
       "    </tr>\n",
       "    <tr>\n",
       "      <th>4</th>\n",
       "      <td>5</td>\n",
       "      <td>9dc1a7de274444849c219cff195d0b71</td>\n",
       "      <td>Home and Decor</td>\n",
       "      <td>housewares</td>\n",
       "      <td>625</td>\n",
       "      <td>20</td>\n",
       "      <td>17</td>\n",
       "      <td>13</td>\n",
       "      <td>4</td>\n",
       "    </tr>\n",
       "    <tr>\n",
       "      <th>...</th>\n",
       "      <td>...</td>\n",
       "      <td>...</td>\n",
       "      <td>...</td>\n",
       "      <td>...</td>\n",
       "      <td>...</td>\n",
       "      <td>...</td>\n",
       "      <td>...</td>\n",
       "      <td>...</td>\n",
       "      <td>...</td>\n",
       "    </tr>\n",
       "    <tr>\n",
       "      <th>32946</th>\n",
       "      <td>32947</td>\n",
       "      <td>a0b7d5a992ccda646f2d34e418fff5a0</td>\n",
       "      <td>Home and Decor</td>\n",
       "      <td>furniture_decor</td>\n",
       "      <td>12300</td>\n",
       "      <td>40</td>\n",
       "      <td>40</td>\n",
       "      <td>40</td>\n",
       "      <td>2</td>\n",
       "    </tr>\n",
       "    <tr>\n",
       "      <th>32947</th>\n",
       "      <td>32948</td>\n",
       "      <td>bf4538d88321d0fd4412a93c974510e6</td>\n",
       "      <td>Materials and Construction</td>\n",
       "      <td>construction_tools_lights</td>\n",
       "      <td>1700</td>\n",
       "      <td>16</td>\n",
       "      <td>19</td>\n",
       "      <td>16</td>\n",
       "      <td>1</td>\n",
       "    </tr>\n",
       "    <tr>\n",
       "      <th>32948</th>\n",
       "      <td>32949</td>\n",
       "      <td>9a7c6041fa9592d9d9ef6cfe62a71f8c</td>\n",
       "      <td>Home and Decor</td>\n",
       "      <td>bed_bath_table</td>\n",
       "      <td>1400</td>\n",
       "      <td>27</td>\n",
       "      <td>7</td>\n",
       "      <td>27</td>\n",
       "      <td>1</td>\n",
       "    </tr>\n",
       "    <tr>\n",
       "      <th>32949</th>\n",
       "      <td>32950</td>\n",
       "      <td>83808703fc0706a22e264b9d75f04a2e</td>\n",
       "      <td>Technology and Home Appliances</td>\n",
       "      <td>computers_accessories</td>\n",
       "      <td>700</td>\n",
       "      <td>31</td>\n",
       "      <td>13</td>\n",
       "      <td>20</td>\n",
       "      <td>2</td>\n",
       "    </tr>\n",
       "    <tr>\n",
       "      <th>32950</th>\n",
       "      <td>32951</td>\n",
       "      <td>106392145fca363410d287a815be6de4</td>\n",
       "      <td>Home and Decor</td>\n",
       "      <td>bed_bath_table</td>\n",
       "      <td>2083</td>\n",
       "      <td>12</td>\n",
       "      <td>2</td>\n",
       "      <td>7</td>\n",
       "      <td>1</td>\n",
       "    </tr>\n",
       "  </tbody>\n",
       "</table>\n",
       "<p>32951 rows × 9 columns</p>\n",
       "</div>"
      ],
      "text/plain": [
       "       PRODUCT_KEY                        PRODUCT_ID  \\\n",
       "0                1  1e9e8ef04dbcff4541ed26657ea517e5   \n",
       "1                2  3aa071139cb16b67ca9e5dea641aaa2f   \n",
       "2                3  96bd76ec8810374ed1b65e291975717f   \n",
       "3                4  cef67bcfe19066a932b7673e239eb23d   \n",
       "4                5  9dc1a7de274444849c219cff195d0b71   \n",
       "...            ...                               ...   \n",
       "32946        32947  a0b7d5a992ccda646f2d34e418fff5a0   \n",
       "32947        32948  bf4538d88321d0fd4412a93c974510e6   \n",
       "32948        32949  9a7c6041fa9592d9d9ef6cfe62a71f8c   \n",
       "32949        32950  83808703fc0706a22e264b9d75f04a2e   \n",
       "32950        32951  106392145fca363410d287a815be6de4   \n",
       "\n",
       "                             CATEGORY               SUB_CATEGORY  WEIGHT  \\\n",
       "0                   Health and Beauty                  perfumery     225   \n",
       "1                       Music and Art                        art    1000   \n",
       "2                  Sports and Leisure             sports_leisure     154   \n",
       "3                            Children                       baby     371   \n",
       "4                      Home and Decor                 housewares     625   \n",
       "...                               ...                        ...     ...   \n",
       "32946                  Home and Decor            furniture_decor   12300   \n",
       "32947      Materials and Construction  construction_tools_lights    1700   \n",
       "32948                  Home and Decor             bed_bath_table    1400   \n",
       "32949  Technology and Home Appliances      computers_accessories     700   \n",
       "32950                  Home and Decor             bed_bath_table    2083   \n",
       "\n",
       "       LENGTH  HEIGHT  WIDTH  NUMBER_PHOTOS  \n",
       "0          16      10     14              1  \n",
       "1          30      18     20              1  \n",
       "2          18       9     15              1  \n",
       "3          26       4     26              1  \n",
       "4          20      17     13              4  \n",
       "...       ...     ...    ...            ...  \n",
       "32946      40      40     40              2  \n",
       "32947      16      19     16              1  \n",
       "32948      27       7     27              1  \n",
       "32949      31      13     20              2  \n",
       "32950      12       2      7              1  \n",
       "\n",
       "[32951 rows x 9 columns]"
      ]
     },
     "execution_count": 67,
     "metadata": {},
     "output_type": "execute_result"
    }
   ],
   "source": [
    "dim_product"
   ]
  },
  {
   "cell_type": "code",
   "execution_count": 68,
   "id": "21253fad",
   "metadata": {},
   "outputs": [
    {
     "name": "stdout",
     "output_type": "stream",
     "text": [
      "The dimProduct has 0 missing values.\n"
     ]
    }
   ],
   "source": [
    "print(f'The dimProduct has {dim_product.isnull().sum().sum()} missing values.')"
   ]
  },
  {
   "cell_type": "markdown",
   "id": "78db1220",
   "metadata": {},
   "source": [
    "<h4>Junk Dimension <sup>dimOrderIndicator</sup></h4>"
   ]
  },
  {
   "cell_type": "code",
   "execution_count": 69,
   "id": "fd6438ab",
   "metadata": {},
   "outputs": [
    {
     "data": {
      "text/plain": [
       "array(['credit_card', 'boleto', 'voucher', 'debit_card'], dtype=object)"
      ]
     },
     "execution_count": 69,
     "metadata": {},
     "output_type": "execute_result"
    }
   ],
   "source": [
    "payment_type = payments['payment_type'].unique()\n",
    "payment_type"
   ]
  },
  {
   "cell_type": "code",
   "execution_count": 70,
   "id": "6eccd6bb",
   "metadata": {},
   "outputs": [
    {
     "data": {
      "text/plain": [
       "array(['delivered', 'canceled'], dtype=object)"
      ]
     },
     "execution_count": 70,
     "metadata": {},
     "output_type": "execute_result"
    }
   ],
   "source": [
    "order_status = orders['order_status'].unique()\n",
    "order_status"
   ]
  },
  {
   "cell_type": "code",
   "execution_count": 71,
   "id": "586f0da3",
   "metadata": {},
   "outputs": [],
   "source": [
    "combinations = list(itertools.product(payment_type, order_status))"
   ]
  },
  {
   "cell_type": "code",
   "execution_count": 72,
   "id": "11fec8b6",
   "metadata": {},
   "outputs": [],
   "source": [
    "dim_order_indicator = pd.DataFrame(combinations, columns=['Payment Type', 'Order Status'])"
   ]
  },
  {
   "cell_type": "code",
   "execution_count": 73,
   "id": "a6dc07a7",
   "metadata": {},
   "outputs": [],
   "source": [
    "dim_order_indicator = dim_order_indicator.rename(columns={'Payment Type': 'PAYMENT_TYPE', \n",
    "                                                          'Order Status': 'ORDER_STATUS'})"
   ]
  },
  {
   "cell_type": "code",
   "execution_count": 74,
   "id": "2f4adf5b",
   "metadata": {},
   "outputs": [],
   "source": [
    "add_surrogate_key_dimension_table(dim_order_indicator, 'ORDER_INDICATOR_KEY')"
   ]
  },
  {
   "cell_type": "code",
   "execution_count": 75,
   "id": "4d570d2a",
   "metadata": {},
   "outputs": [],
   "source": [
    "order_indicator_key_mapping = map_surrogate_to_natural_key_junk_dimension(dim_order_indicator, ['PAYMENT_TYPE', \n",
    "                                                                                                'ORDER_STATUS'])"
   ]
  },
  {
   "cell_type": "code",
   "execution_count": 76,
   "id": "647ddbb4",
   "metadata": {},
   "outputs": [
    {
     "data": {
      "text/html": [
       "<div>\n",
       "<style scoped>\n",
       "    .dataframe tbody tr th:only-of-type {\n",
       "        vertical-align: middle;\n",
       "    }\n",
       "\n",
       "    .dataframe tbody tr th {\n",
       "        vertical-align: top;\n",
       "    }\n",
       "\n",
       "    .dataframe thead th {\n",
       "        text-align: right;\n",
       "    }\n",
       "</style>\n",
       "<table border=\"1\" class=\"dataframe\">\n",
       "  <thead>\n",
       "    <tr style=\"text-align: right;\">\n",
       "      <th></th>\n",
       "      <th>ORDER_INDICATOR_KEY</th>\n",
       "      <th>PAYMENT_TYPE</th>\n",
       "      <th>ORDER_STATUS</th>\n",
       "    </tr>\n",
       "  </thead>\n",
       "  <tbody>\n",
       "    <tr>\n",
       "      <th>0</th>\n",
       "      <td>1</td>\n",
       "      <td>credit_card</td>\n",
       "      <td>delivered</td>\n",
       "    </tr>\n",
       "    <tr>\n",
       "      <th>1</th>\n",
       "      <td>2</td>\n",
       "      <td>credit_card</td>\n",
       "      <td>canceled</td>\n",
       "    </tr>\n",
       "    <tr>\n",
       "      <th>2</th>\n",
       "      <td>3</td>\n",
       "      <td>boleto</td>\n",
       "      <td>delivered</td>\n",
       "    </tr>\n",
       "    <tr>\n",
       "      <th>3</th>\n",
       "      <td>4</td>\n",
       "      <td>boleto</td>\n",
       "      <td>canceled</td>\n",
       "    </tr>\n",
       "    <tr>\n",
       "      <th>4</th>\n",
       "      <td>5</td>\n",
       "      <td>voucher</td>\n",
       "      <td>delivered</td>\n",
       "    </tr>\n",
       "    <tr>\n",
       "      <th>5</th>\n",
       "      <td>6</td>\n",
       "      <td>voucher</td>\n",
       "      <td>canceled</td>\n",
       "    </tr>\n",
       "    <tr>\n",
       "      <th>6</th>\n",
       "      <td>7</td>\n",
       "      <td>debit_card</td>\n",
       "      <td>delivered</td>\n",
       "    </tr>\n",
       "    <tr>\n",
       "      <th>7</th>\n",
       "      <td>8</td>\n",
       "      <td>debit_card</td>\n",
       "      <td>canceled</td>\n",
       "    </tr>\n",
       "  </tbody>\n",
       "</table>\n",
       "</div>"
      ],
      "text/plain": [
       "   ORDER_INDICATOR_KEY PAYMENT_TYPE ORDER_STATUS\n",
       "0                    1  credit_card    delivered\n",
       "1                    2  credit_card     canceled\n",
       "2                    3       boleto    delivered\n",
       "3                    4       boleto     canceled\n",
       "4                    5      voucher    delivered\n",
       "5                    6      voucher     canceled\n",
       "6                    7   debit_card    delivered\n",
       "7                    8   debit_card     canceled"
      ]
     },
     "execution_count": 76,
     "metadata": {},
     "output_type": "execute_result"
    }
   ],
   "source": [
    "dim_order_indicator"
   ]
  },
  {
   "cell_type": "code",
   "execution_count": 77,
   "id": "753751fe",
   "metadata": {},
   "outputs": [
    {
     "name": "stdout",
     "output_type": "stream",
     "text": [
      "The dimOrderIndicator has 0 missing values.\n"
     ]
    }
   ],
   "source": [
    "print(f'The dimOrderIndicator has {dim_order_indicator.isnull().sum().sum()} missing values.')"
   ]
  },
  {
   "cell_type": "markdown",
   "id": "78745c26",
   "metadata": {},
   "source": [
    "<h4>Dimension <sup>dimDate</sup></h4>"
   ]
  },
  {
   "cell_type": "code",
   "execution_count": 78,
   "id": "26c3b405",
   "metadata": {},
   "outputs": [],
   "source": [
    "start_date = '2016-01-01'\n",
    "end_date = '2018-12-31'\n",
    "dates = pd.date_range(start=start_date, end=end_date, freq='D')"
   ]
  },
  {
   "cell_type": "code",
   "execution_count": 79,
   "id": "59195bed",
   "metadata": {},
   "outputs": [],
   "source": [
    "dim_date = pd.DataFrame({'FULL_DATE': dates.strftime('%Y-%m-%d'),\n",
    "                         'YEAR': dates.year,\n",
    "                         'MONTH': dates.month,\n",
    "                         'MONTH_NAME': dates.strftime('%B'),\n",
    "                         'WEEK_IN_MONTH': dates.day // 8 + 1,\n",
    "                         'DAY': dates.day,\n",
    "                         'DAY_OF_WEEK': dates.map(get_week_day),\n",
    "                         'TRIMESTER': dates.map(get_trimester),\n",
    "                         'NATIONAL_HOLIDAY_INDICATOR': dates.map(get_national_holiday_indicator),\n",
    "                         'WEEKDAY_INDICATOR': dates.map(get_day_type)})"
   ]
  },
  {
   "cell_type": "code",
   "execution_count": 80,
   "id": "0146bfec",
   "metadata": {},
   "outputs": [],
   "source": [
    "add_surrogate_key_dimension_table(dim_date, 'DATE_KEY')"
   ]
  },
  {
   "cell_type": "code",
   "execution_count": 81,
   "id": "c4cddf08",
   "metadata": {},
   "outputs": [],
   "source": [
    "date_key_mapping = map_surrogate_to_natural_key(dim_date, 'FULL_DATE', 'DATE_KEY')"
   ]
  },
  {
   "cell_type": "code",
   "execution_count": 82,
   "id": "29db3c5f",
   "metadata": {},
   "outputs": [
    {
     "data": {
      "text/html": [
       "<div>\n",
       "<style scoped>\n",
       "    .dataframe tbody tr th:only-of-type {\n",
       "        vertical-align: middle;\n",
       "    }\n",
       "\n",
       "    .dataframe tbody tr th {\n",
       "        vertical-align: top;\n",
       "    }\n",
       "\n",
       "    .dataframe thead th {\n",
       "        text-align: right;\n",
       "    }\n",
       "</style>\n",
       "<table border=\"1\" class=\"dataframe\">\n",
       "  <thead>\n",
       "    <tr style=\"text-align: right;\">\n",
       "      <th></th>\n",
       "      <th>DATE_KEY</th>\n",
       "      <th>FULL_DATE</th>\n",
       "      <th>YEAR</th>\n",
       "      <th>MONTH</th>\n",
       "      <th>MONTH_NAME</th>\n",
       "      <th>WEEK_IN_MONTH</th>\n",
       "      <th>DAY</th>\n",
       "      <th>DAY_OF_WEEK</th>\n",
       "      <th>TRIMESTER</th>\n",
       "      <th>NATIONAL_HOLIDAY_INDICATOR</th>\n",
       "      <th>WEEKDAY_INDICATOR</th>\n",
       "    </tr>\n",
       "  </thead>\n",
       "  <tbody>\n",
       "    <tr>\n",
       "      <th>0</th>\n",
       "      <td>1</td>\n",
       "      <td>2016-01-01</td>\n",
       "      <td>2016</td>\n",
       "      <td>1</td>\n",
       "      <td>January</td>\n",
       "      <td>1</td>\n",
       "      <td>1</td>\n",
       "      <td>Friday</td>\n",
       "      <td>Q1</td>\n",
       "      <td>Holiday</td>\n",
       "      <td>Weekday</td>\n",
       "    </tr>\n",
       "    <tr>\n",
       "      <th>1</th>\n",
       "      <td>2</td>\n",
       "      <td>2016-01-02</td>\n",
       "      <td>2016</td>\n",
       "      <td>1</td>\n",
       "      <td>January</td>\n",
       "      <td>1</td>\n",
       "      <td>2</td>\n",
       "      <td>Saturday</td>\n",
       "      <td>Q1</td>\n",
       "      <td>Non-Holiday</td>\n",
       "      <td>Weekend</td>\n",
       "    </tr>\n",
       "    <tr>\n",
       "      <th>2</th>\n",
       "      <td>3</td>\n",
       "      <td>2016-01-03</td>\n",
       "      <td>2016</td>\n",
       "      <td>1</td>\n",
       "      <td>January</td>\n",
       "      <td>1</td>\n",
       "      <td>3</td>\n",
       "      <td>Sunday</td>\n",
       "      <td>Q1</td>\n",
       "      <td>Non-Holiday</td>\n",
       "      <td>Weekend</td>\n",
       "    </tr>\n",
       "    <tr>\n",
       "      <th>3</th>\n",
       "      <td>4</td>\n",
       "      <td>2016-01-04</td>\n",
       "      <td>2016</td>\n",
       "      <td>1</td>\n",
       "      <td>January</td>\n",
       "      <td>1</td>\n",
       "      <td>4</td>\n",
       "      <td>Monday</td>\n",
       "      <td>Q1</td>\n",
       "      <td>Non-Holiday</td>\n",
       "      <td>Weekday</td>\n",
       "    </tr>\n",
       "    <tr>\n",
       "      <th>4</th>\n",
       "      <td>5</td>\n",
       "      <td>2016-01-05</td>\n",
       "      <td>2016</td>\n",
       "      <td>1</td>\n",
       "      <td>January</td>\n",
       "      <td>1</td>\n",
       "      <td>5</td>\n",
       "      <td>Tuesday</td>\n",
       "      <td>Q1</td>\n",
       "      <td>Non-Holiday</td>\n",
       "      <td>Weekday</td>\n",
       "    </tr>\n",
       "    <tr>\n",
       "      <th>...</th>\n",
       "      <td>...</td>\n",
       "      <td>...</td>\n",
       "      <td>...</td>\n",
       "      <td>...</td>\n",
       "      <td>...</td>\n",
       "      <td>...</td>\n",
       "      <td>...</td>\n",
       "      <td>...</td>\n",
       "      <td>...</td>\n",
       "      <td>...</td>\n",
       "      <td>...</td>\n",
       "    </tr>\n",
       "    <tr>\n",
       "      <th>1091</th>\n",
       "      <td>1092</td>\n",
       "      <td>2018-12-27</td>\n",
       "      <td>2018</td>\n",
       "      <td>12</td>\n",
       "      <td>December</td>\n",
       "      <td>4</td>\n",
       "      <td>27</td>\n",
       "      <td>Thursday</td>\n",
       "      <td>Q4</td>\n",
       "      <td>Non-Holiday</td>\n",
       "      <td>Weekday</td>\n",
       "    </tr>\n",
       "    <tr>\n",
       "      <th>1092</th>\n",
       "      <td>1093</td>\n",
       "      <td>2018-12-28</td>\n",
       "      <td>2018</td>\n",
       "      <td>12</td>\n",
       "      <td>December</td>\n",
       "      <td>4</td>\n",
       "      <td>28</td>\n",
       "      <td>Friday</td>\n",
       "      <td>Q4</td>\n",
       "      <td>Non-Holiday</td>\n",
       "      <td>Weekday</td>\n",
       "    </tr>\n",
       "    <tr>\n",
       "      <th>1093</th>\n",
       "      <td>1094</td>\n",
       "      <td>2018-12-29</td>\n",
       "      <td>2018</td>\n",
       "      <td>12</td>\n",
       "      <td>December</td>\n",
       "      <td>4</td>\n",
       "      <td>29</td>\n",
       "      <td>Saturday</td>\n",
       "      <td>Q4</td>\n",
       "      <td>Non-Holiday</td>\n",
       "      <td>Weekend</td>\n",
       "    </tr>\n",
       "    <tr>\n",
       "      <th>1094</th>\n",
       "      <td>1095</td>\n",
       "      <td>2018-12-30</td>\n",
       "      <td>2018</td>\n",
       "      <td>12</td>\n",
       "      <td>December</td>\n",
       "      <td>4</td>\n",
       "      <td>30</td>\n",
       "      <td>Sunday</td>\n",
       "      <td>Q4</td>\n",
       "      <td>Non-Holiday</td>\n",
       "      <td>Weekend</td>\n",
       "    </tr>\n",
       "    <tr>\n",
       "      <th>1095</th>\n",
       "      <td>1096</td>\n",
       "      <td>2018-12-31</td>\n",
       "      <td>2018</td>\n",
       "      <td>12</td>\n",
       "      <td>December</td>\n",
       "      <td>4</td>\n",
       "      <td>31</td>\n",
       "      <td>Monday</td>\n",
       "      <td>Q4</td>\n",
       "      <td>Non-Holiday</td>\n",
       "      <td>Weekday</td>\n",
       "    </tr>\n",
       "  </tbody>\n",
       "</table>\n",
       "<p>1096 rows × 11 columns</p>\n",
       "</div>"
      ],
      "text/plain": [
       "      DATE_KEY   FULL_DATE  YEAR  MONTH MONTH_NAME  WEEK_IN_MONTH  DAY  \\\n",
       "0            1  2016-01-01  2016      1    January              1    1   \n",
       "1            2  2016-01-02  2016      1    January              1    2   \n",
       "2            3  2016-01-03  2016      1    January              1    3   \n",
       "3            4  2016-01-04  2016      1    January              1    4   \n",
       "4            5  2016-01-05  2016      1    January              1    5   \n",
       "...        ...         ...   ...    ...        ...            ...  ...   \n",
       "1091      1092  2018-12-27  2018     12   December              4   27   \n",
       "1092      1093  2018-12-28  2018     12   December              4   28   \n",
       "1093      1094  2018-12-29  2018     12   December              4   29   \n",
       "1094      1095  2018-12-30  2018     12   December              4   30   \n",
       "1095      1096  2018-12-31  2018     12   December              4   31   \n",
       "\n",
       "     DAY_OF_WEEK TRIMESTER NATIONAL_HOLIDAY_INDICATOR WEEKDAY_INDICATOR  \n",
       "0         Friday        Q1                    Holiday           Weekday  \n",
       "1       Saturday        Q1                Non-Holiday           Weekend  \n",
       "2         Sunday        Q1                Non-Holiday           Weekend  \n",
       "3         Monday        Q1                Non-Holiday           Weekday  \n",
       "4        Tuesday        Q1                Non-Holiday           Weekday  \n",
       "...          ...       ...                        ...               ...  \n",
       "1091    Thursday        Q4                Non-Holiday           Weekday  \n",
       "1092      Friday        Q4                Non-Holiday           Weekday  \n",
       "1093    Saturday        Q4                Non-Holiday           Weekend  \n",
       "1094      Sunday        Q4                Non-Holiday           Weekend  \n",
       "1095      Monday        Q4                Non-Holiday           Weekday  \n",
       "\n",
       "[1096 rows x 11 columns]"
      ]
     },
     "execution_count": 82,
     "metadata": {},
     "output_type": "execute_result"
    }
   ],
   "source": [
    "dim_date"
   ]
  },
  {
   "cell_type": "code",
   "execution_count": 83,
   "id": "4f823e47",
   "metadata": {},
   "outputs": [
    {
     "name": "stdout",
     "output_type": "stream",
     "text": [
      "The dimDate has 0 missing values.\n"
     ]
    }
   ],
   "source": [
    "print(f'The dimDate has {dim_date.isnull().sum().sum()} missing values.')"
   ]
  },
  {
   "cell_type": "markdown",
   "id": "9fb38252",
   "metadata": {},
   "source": [
    "<h3>3. EXPORTING THE CSV FILES OF THE DIMENSIONS</h3>"
   ]
  },
  {
   "cell_type": "code",
   "execution_count": 84,
   "id": "6a28c04d",
   "metadata": {},
   "outputs": [],
   "source": [
    "os.makedirs(dimension_tables_folder, exist_ok=True)"
   ]
  },
  {
   "cell_type": "code",
   "execution_count": 85,
   "id": "29767e3e",
   "metadata": {},
   "outputs": [],
   "source": [
    "dim_customer.to_csv(os.path.join(dimension_tables_folder, dim_customer_file), index=False)\n",
    "dim_seller.to_csv(os.path.join(dimension_tables_folder, dim_seller_file), index=False)\n",
    "dim_product.to_csv(os.path.join(dimension_tables_folder, dim_product_file), index=False)\n",
    "dim_geolocation.to_csv(os.path.join(dimension_tables_folder, dim_geolocation_file), index=False)\n",
    "dim_customer_geolocation.to_csv(os.path.join(dimension_tables_folder, dim_customer_geolocation_file), index=False)\n",
    "dim_seller_geolocation.to_csv(os.path.join(dimension_tables_folder, dim_seller_geolocation_file), index=False)\n",
    "dim_order_indicator.to_csv(os.path.join(dimension_tables_folder, dim_order_indicator_file), index=False)\n",
    "dim_date.to_csv(os.path.join(dimension_tables_folder, dim_date_file), index=False)"
   ]
  },
  {
   "cell_type": "markdown",
   "id": "23c0a5f6",
   "metadata": {},
   "source": [
    "<h3>4. EXPORTING THE LOOKUP TABLES WITH NATURAL AND SURROGATE KEY MAPPINGS</h3>"
   ]
  },
  {
   "cell_type": "code",
   "execution_count": 86,
   "id": "41820827",
   "metadata": {},
   "outputs": [],
   "source": [
    "os.makedirs(lookup_tables_folder, exist_ok=True)"
   ]
  },
  {
   "cell_type": "code",
   "execution_count": 87,
   "id": "3ce35c25",
   "metadata": {},
   "outputs": [],
   "source": [
    "save_lookup_to_json(customer_key_mapping, os.path.join(lookup_tables_folder, lookup_table_customer))\n",
    "save_lookup_to_json(seller_key_mapping, os.path.join(lookup_tables_folder, lookup_table_seller))\n",
    "save_lookup_to_json(product_key_mapping, os.path.join(lookup_tables_folder, lookup_table_product))\n",
    "save_lookup_to_json(geolocation_key_mapping, os.path.join(lookup_tables_folder, lookup_table_geolocation))\n",
    "save_lookup_to_json(seller_geolocation_key_mapping, os.path.join(lookup_tables_folder, lookup_table_seller_geolocation))\n",
    "save_lookup_to_json(customer_geolocation_key_mapping, os.path.join(lookup_tables_folder, lookup_table_customer_geolocation))\n",
    "save_lookup_to_json(order_indicator_key_mapping, os.path.join(lookup_tables_folder, lookup_table_order_indicator))\n",
    "save_lookup_to_json(date_key_mapping, os.path.join(lookup_tables_folder, lookup_table_date))"
   ]
  }
 ],
 "metadata": {
  "kernelspec": {
   "display_name": "base",
   "language": "python",
   "name": "python3"
  },
  "language_info": {
   "codemirror_mode": {
    "name": "ipython",
    "version": 3
   },
   "file_extension": ".py",
   "mimetype": "text/x-python",
   "name": "python",
   "nbconvert_exporter": "python",
   "pygments_lexer": "ipython3",
   "version": "3.11.4"
  }
 },
 "nbformat": 4,
 "nbformat_minor": 5
}
