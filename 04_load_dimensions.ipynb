{
 "cells": [
  {
   "cell_type": "markdown",
   "id": "72c1343c",
   "metadata": {},
   "source": [
    "<h2><center>STAGE 4 - LOADING DIMENSIONS</center></h2>\n",
    "\n",
    "---"
   ]
  },
  {
   "cell_type": "code",
   "execution_count": 1,
   "id": "ec375124",
   "metadata": {},
   "outputs": [],
   "source": [
    "import os\n",
    "import pandas as pd\n",
    "import psycopg2 as pg"
   ]
  },
  {
   "cell_type": "code",
   "execution_count": 2,
   "id": "4e153911",
   "metadata": {},
   "outputs": [],
   "source": [
    "from utils.constants import host, user, password, database_name"
   ]
  },
  {
   "cell_type": "code",
   "execution_count": 3,
   "id": "5c4a922f",
   "metadata": {},
   "outputs": [],
   "source": [
    "from utils.constants import dimension_tables_folder, dim_customer_file, dim_seller_file, dim_product_file, dim_geolocation_file, \\\n",
    "    dim_customer_geolocation_file, dim_seller_geolocation_file, dim_order_indicator_file, dim_date_file"
   ]
  },
  {
   "cell_type": "markdown",
   "id": "b3ccd7ba",
   "metadata": {},
   "source": [
    "<h3>1. DATABASE CONNECTION</h3>"
   ]
  },
  {
   "cell_type": "code",
   "execution_count": 4,
   "id": "d61cf167",
   "metadata": {},
   "outputs": [],
   "source": [
    "os.environ[\"PGGSSENCMODE\"] = \"disable\"\n",
    "\n",
    "conn = pg.connect(host=host,database='postgres', user=user, password=password)\n",
    "\n",
    "conn.autocommit = True\n",
    "\n",
    "cursor = conn.cursor()"
   ]
  },
  {
   "cell_type": "code",
   "execution_count": 5,
   "id": "8950bba4",
   "metadata": {},
   "outputs": [],
   "source": [
    "cursor.execute(f'DROP DATABASE IF EXISTS \"{database_name}\"')\n",
    "cursor.execute(f'CREATE DATABASE \"{database_name}\"')\n",
    "cursor.close()\n",
    "conn.close()"
   ]
  },
  {
   "cell_type": "code",
   "execution_count": 6,
   "id": "e24c4e96",
   "metadata": {},
   "outputs": [],
   "source": [
    "conn = pg.connect(host=host,database=database_name, user=user, password=password)\n",
    "cursor = conn.cursor()"
   ]
  },
  {
   "cell_type": "markdown",
   "id": "03b185d8",
   "metadata": {},
   "source": [
    "<h3>2. READING THE DIMENSION FILES FROM STAGE 2</h3>"
   ]
  },
  {
   "cell_type": "code",
   "execution_count": 7,
   "id": "91cca2b2",
   "metadata": {},
   "outputs": [],
   "source": [
    "dim_customer = pd.read_csv(os.path.join(dimension_tables_folder, dim_customer_file))\n",
    "dim_seller = pd.read_csv(os.path.join(dimension_tables_folder, dim_seller_file))\n",
    "dim_product = pd.read_csv(os.path.join(dimension_tables_folder, dim_product_file))\n",
    "dim_geolocation = pd.read_csv(os.path.join(dimension_tables_folder, dim_geolocation_file))\n",
    "dim_customer_geolocation = pd.read_csv(os.path.join(dimension_tables_folder, dim_customer_geolocation_file))\n",
    "dim_seller_geolocation = pd.read_csv(os.path.join(dimension_tables_folder, dim_seller_geolocation_file))\n",
    "dim_order_indicator = pd.read_csv(os.path.join(dimension_tables_folder, dim_order_indicator_file))\n",
    "dim_date = pd.read_csv(os.path.join(dimension_tables_folder, dim_date_file))"
   ]
  },
  {
   "cell_type": "markdown",
   "id": "672e3e8c",
   "metadata": {},
   "source": [
    "<h3>3. CREATING THE TABLES FOR THE DIMENSIONS IN POSTGRESQL</h3>"
   ]
  },
  {
   "cell_type": "code",
   "execution_count": 8,
   "id": "e3576019",
   "metadata": {},
   "outputs": [],
   "source": [
    "cursor.execute(\"DROP TABLE IF EXISTS fact_order_line;\")\n",
    "cursor.execute(\"DROP TABLE IF EXISTS fact_order_header;\")\n",
    "cursor.execute(\"DROP TABLE IF EXISTS dim_order_indicator;\")\n",
    "cursor.execute(\"DROP TABLE IF EXISTS dim_date;\")\n",
    "cursor.execute(\"DROP TABLE IF EXISTS dim_product;\")\n",
    "cursor.execute(\"DROP TABLE IF EXISTS dim_customer;\")\n",
    "cursor.execute(\"DROP TABLE IF EXISTS dim_seller;\")\n",
    "cursor.execute(\"DROP TABLE IF EXISTS dim_geolocation;\")"
   ]
  },
  {
   "cell_type": "markdown",
   "id": "8a0e945b",
   "metadata": {},
   "source": [
    "<h4>Dimension <sup>dimGeolocation</sup></h4>"
   ]
  },
  {
   "cell_type": "code",
   "execution_count": 9,
   "id": "e8c320b5",
   "metadata": {},
   "outputs": [
    {
     "data": {
      "text/plain": [
       "GEOLOCATION_KEY      int64\n",
       "ZIP_CODE_PREFIX      int64\n",
       "CITY                object\n",
       "STATE               object\n",
       "LATITUDE           float64\n",
       "LONGITUDE          float64\n",
       "dtype: object"
      ]
     },
     "execution_count": 9,
     "metadata": {},
     "output_type": "execute_result"
    }
   ],
   "source": [
    "dim_geolocation.dtypes"
   ]
  },
  {
   "cell_type": "code",
   "execution_count": 10,
   "id": "04930b0b",
   "metadata": {},
   "outputs": [
    {
     "data": {
      "text/html": [
       "<div>\n",
       "<style scoped>\n",
       "    .dataframe tbody tr th:only-of-type {\n",
       "        vertical-align: middle;\n",
       "    }\n",
       "\n",
       "    .dataframe tbody tr th {\n",
       "        vertical-align: top;\n",
       "    }\n",
       "\n",
       "    .dataframe thead th {\n",
       "        text-align: right;\n",
       "    }\n",
       "</style>\n",
       "<table border=\"1\" class=\"dataframe\">\n",
       "  <thead>\n",
       "    <tr style=\"text-align: right;\">\n",
       "      <th></th>\n",
       "      <th>GEOLOCATION_KEY</th>\n",
       "      <th>ZIP_CODE_PREFIX</th>\n",
       "      <th>CITY</th>\n",
       "      <th>STATE</th>\n",
       "      <th>LATITUDE</th>\n",
       "      <th>LONGITUDE</th>\n",
       "    </tr>\n",
       "  </thead>\n",
       "  <tbody>\n",
       "    <tr>\n",
       "      <th>0</th>\n",
       "      <td>1</td>\n",
       "      <td>1001</td>\n",
       "      <td>Sao Paulo</td>\n",
       "      <td>São Paulo</td>\n",
       "      <td>-23.550190</td>\n",
       "      <td>-46.634024</td>\n",
       "    </tr>\n",
       "    <tr>\n",
       "      <th>1</th>\n",
       "      <td>2</td>\n",
       "      <td>1002</td>\n",
       "      <td>Sao Paulo</td>\n",
       "      <td>São Paulo</td>\n",
       "      <td>-23.548146</td>\n",
       "      <td>-46.634979</td>\n",
       "    </tr>\n",
       "    <tr>\n",
       "      <th>2</th>\n",
       "      <td>3</td>\n",
       "      <td>1003</td>\n",
       "      <td>Sao Paulo</td>\n",
       "      <td>São Paulo</td>\n",
       "      <td>-23.548994</td>\n",
       "      <td>-46.635731</td>\n",
       "    </tr>\n",
       "    <tr>\n",
       "      <th>3</th>\n",
       "      <td>4</td>\n",
       "      <td>1004</td>\n",
       "      <td>Sao Paulo</td>\n",
       "      <td>São Paulo</td>\n",
       "      <td>-23.549799</td>\n",
       "      <td>-46.634757</td>\n",
       "    </tr>\n",
       "    <tr>\n",
       "      <th>4</th>\n",
       "      <td>5</td>\n",
       "      <td>1005</td>\n",
       "      <td>Sao Paulo</td>\n",
       "      <td>São Paulo</td>\n",
       "      <td>-23.549456</td>\n",
       "      <td>-46.636733</td>\n",
       "    </tr>\n",
       "  </tbody>\n",
       "</table>\n",
       "</div>"
      ],
      "text/plain": [
       "   GEOLOCATION_KEY  ZIP_CODE_PREFIX       CITY      STATE   LATITUDE  \\\n",
       "0                1             1001  Sao Paulo  São Paulo -23.550190   \n",
       "1                2             1002  Sao Paulo  São Paulo -23.548146   \n",
       "2                3             1003  Sao Paulo  São Paulo -23.548994   \n",
       "3                4             1004  Sao Paulo  São Paulo -23.549799   \n",
       "4                5             1005  Sao Paulo  São Paulo -23.549456   \n",
       "\n",
       "   LONGITUDE  \n",
       "0 -46.634024  \n",
       "1 -46.634979  \n",
       "2 -46.635731  \n",
       "3 -46.634757  \n",
       "4 -46.636733  "
      ]
     },
     "execution_count": 10,
     "metadata": {},
     "output_type": "execute_result"
    }
   ],
   "source": [
    "dim_geolocation.head()"
   ]
  },
  {
   "cell_type": "code",
   "execution_count": 11,
   "id": "8078c5eb",
   "metadata": {},
   "outputs": [],
   "source": [
    "sql_dim_geolocation = \"\"\"\n",
    "\n",
    "CREATE TABLE dim_geolocation (\n",
    "  geolocation_key              INTEGER,\n",
    "  zip_code_prefix              INTEGER         NOT NULL,\n",
    "  city                         VARCHAR(100)    NOT NULL,\n",
    "  state                        VARCHAR(50)     NOT NULL,\n",
    "  latitude                     DECIMAL(17,15)  NOT NULL,\n",
    "  longitude                    DECIMAL(18,15)  NOT NULL,\n",
    "--\n",
    "  CONSTRAINT pk_geolocation\n",
    "    PRIMARY KEY (geolocation_key),\n",
    "--\n",
    "  CONSTRAINT ck_geolocation_key\n",
    "    CHECK (geolocation_key > 0),\n",
    "--\n",
    "  CONSTRAINT un_geolocation_zip_code_prefix\n",
    "    UNIQUE (zip_code_prefix),\n",
    "--\n",
    "  CONSTRAINT ck_geolocation_latitude\n",
    "    CHECK (latitude BETWEEN -90 AND 90),\n",
    "--\n",
    "  CONSTRAINT ck_geolocation_longitude\n",
    "    CHECK (longitude BETWEEN -180 AND 180)\n",
    ");\n",
    "\"\"\"\n",
    "\n",
    "cursor.execute(sql_dim_geolocation)"
   ]
  },
  {
   "cell_type": "markdown",
   "id": "e7d97387",
   "metadata": {},
   "source": [
    "<h4>Dimension <sup>dimCustomer</sup></h4>"
   ]
  },
  {
   "cell_type": "code",
   "execution_count": 12,
   "id": "ec743eaf",
   "metadata": {},
   "outputs": [
    {
     "data": {
      "text/plain": [
       "CUSTOMER_KEY                 int64\n",
       "CUSTOMER_ID                 object\n",
       "CUSTOMER_UNIQUE_ID          object\n",
       "CUSTOMER_ZIP_CODE_PREFIX     int64\n",
       "dtype: object"
      ]
     },
     "execution_count": 12,
     "metadata": {},
     "output_type": "execute_result"
    }
   ],
   "source": [
    "dim_customer.dtypes"
   ]
  },
  {
   "cell_type": "code",
   "execution_count": 13,
   "id": "19679a49",
   "metadata": {},
   "outputs": [
    {
     "data": {
      "text/html": [
       "<div>\n",
       "<style scoped>\n",
       "    .dataframe tbody tr th:only-of-type {\n",
       "        vertical-align: middle;\n",
       "    }\n",
       "\n",
       "    .dataframe tbody tr th {\n",
       "        vertical-align: top;\n",
       "    }\n",
       "\n",
       "    .dataframe thead th {\n",
       "        text-align: right;\n",
       "    }\n",
       "</style>\n",
       "<table border=\"1\" class=\"dataframe\">\n",
       "  <thead>\n",
       "    <tr style=\"text-align: right;\">\n",
       "      <th></th>\n",
       "      <th>CUSTOMER_KEY</th>\n",
       "      <th>CUSTOMER_ID</th>\n",
       "      <th>CUSTOMER_UNIQUE_ID</th>\n",
       "      <th>CUSTOMER_ZIP_CODE_PREFIX</th>\n",
       "    </tr>\n",
       "  </thead>\n",
       "  <tbody>\n",
       "    <tr>\n",
       "      <th>0</th>\n",
       "      <td>1</td>\n",
       "      <td>06b8999e2fba1a1fbc88172c00ba8bc7</td>\n",
       "      <td>861eff4711a542e4b93843c6dd7febb0</td>\n",
       "      <td>14409</td>\n",
       "    </tr>\n",
       "    <tr>\n",
       "      <th>1</th>\n",
       "      <td>2</td>\n",
       "      <td>18955e83d337fd6b2def6b18a428ac77</td>\n",
       "      <td>290c77bc529b7ac935b93aa66c333dc3</td>\n",
       "      <td>9790</td>\n",
       "    </tr>\n",
       "    <tr>\n",
       "      <th>2</th>\n",
       "      <td>3</td>\n",
       "      <td>4e7b3e00288586ebd08712fdd0374a03</td>\n",
       "      <td>060e732b5b29e8181a18229c7b0b2b5e</td>\n",
       "      <td>1151</td>\n",
       "    </tr>\n",
       "    <tr>\n",
       "      <th>3</th>\n",
       "      <td>4</td>\n",
       "      <td>b2b6027bc5c5109e529d4dc6358b12c3</td>\n",
       "      <td>259dac757896d24d7702b9acbbff3f3c</td>\n",
       "      <td>8775</td>\n",
       "    </tr>\n",
       "    <tr>\n",
       "      <th>4</th>\n",
       "      <td>5</td>\n",
       "      <td>4f2d8ab171c80ec8364f7c12e35b23ad</td>\n",
       "      <td>345ecd01c38d18a9036ed96c73b8d066</td>\n",
       "      <td>13056</td>\n",
       "    </tr>\n",
       "  </tbody>\n",
       "</table>\n",
       "</div>"
      ],
      "text/plain": [
       "   CUSTOMER_KEY                       CUSTOMER_ID  \\\n",
       "0             1  06b8999e2fba1a1fbc88172c00ba8bc7   \n",
       "1             2  18955e83d337fd6b2def6b18a428ac77   \n",
       "2             3  4e7b3e00288586ebd08712fdd0374a03   \n",
       "3             4  b2b6027bc5c5109e529d4dc6358b12c3   \n",
       "4             5  4f2d8ab171c80ec8364f7c12e35b23ad   \n",
       "\n",
       "                 CUSTOMER_UNIQUE_ID  CUSTOMER_ZIP_CODE_PREFIX  \n",
       "0  861eff4711a542e4b93843c6dd7febb0                     14409  \n",
       "1  290c77bc529b7ac935b93aa66c333dc3                      9790  \n",
       "2  060e732b5b29e8181a18229c7b0b2b5e                      1151  \n",
       "3  259dac757896d24d7702b9acbbff3f3c                      8775  \n",
       "4  345ecd01c38d18a9036ed96c73b8d066                     13056  "
      ]
     },
     "execution_count": 13,
     "metadata": {},
     "output_type": "execute_result"
    }
   ],
   "source": [
    "dim_customer.head()"
   ]
  },
  {
   "cell_type": "code",
   "execution_count": 14,
   "id": "52128458",
   "metadata": {},
   "outputs": [],
   "source": [
    "sql_dim_customer = \"\"\"\n",
    "\n",
    "CREATE TABLE dim_customer (\n",
    "  customer_key                 INTEGER,\n",
    "  customer_id                  VARCHAR(100)    NOT NULL,\n",
    "  customer_unique_id           VARCHAR(100)    NOT NULL,\n",
    "  customer_zip_code_prefix     INTEGER         NOT NULL,\n",
    "--\n",
    "  CONSTRAINT pk_customer\n",
    "    PRIMARY KEY (customer_key),\n",
    "--\n",
    "  CONSTRAINT ck_customer_key\n",
    "    CHECK (customer_key > 0),\n",
    "--\n",
    "  CONSTRAINT un_customer_id\n",
    "    UNIQUE (customer_id),\n",
    "--\n",
    "  CONSTRAINT fk_customer_zip_code_prefix\n",
    "    FOREIGN KEY (customer_zip_code_prefix)\n",
    "    REFERENCES dim_geolocation (zip_code_prefix)\n",
    ");\n",
    "\"\"\"\n",
    "\n",
    "cursor.execute(sql_dim_customer)"
   ]
  },
  {
   "cell_type": "markdown",
   "id": "3f692c9d",
   "metadata": {},
   "source": [
    "<h4>Dimension <sup>dimSeller</sup></h4>"
   ]
  },
  {
   "cell_type": "code",
   "execution_count": 15,
   "id": "28b25354",
   "metadata": {},
   "outputs": [
    {
     "data": {
      "text/plain": [
       "SELLER_KEY                 int64\n",
       "SELLER_ID                 object\n",
       "SELLER_ZIP_CODE_PREFIX     int64\n",
       "dtype: object"
      ]
     },
     "execution_count": 15,
     "metadata": {},
     "output_type": "execute_result"
    }
   ],
   "source": [
    "dim_seller.dtypes"
   ]
  },
  {
   "cell_type": "code",
   "execution_count": 16,
   "id": "4a8227e7",
   "metadata": {},
   "outputs": [
    {
     "data": {
      "text/html": [
       "<div>\n",
       "<style scoped>\n",
       "    .dataframe tbody tr th:only-of-type {\n",
       "        vertical-align: middle;\n",
       "    }\n",
       "\n",
       "    .dataframe tbody tr th {\n",
       "        vertical-align: top;\n",
       "    }\n",
       "\n",
       "    .dataframe thead th {\n",
       "        text-align: right;\n",
       "    }\n",
       "</style>\n",
       "<table border=\"1\" class=\"dataframe\">\n",
       "  <thead>\n",
       "    <tr style=\"text-align: right;\">\n",
       "      <th></th>\n",
       "      <th>SELLER_KEY</th>\n",
       "      <th>SELLER_ID</th>\n",
       "      <th>SELLER_ZIP_CODE_PREFIX</th>\n",
       "    </tr>\n",
       "  </thead>\n",
       "  <tbody>\n",
       "    <tr>\n",
       "      <th>0</th>\n",
       "      <td>1</td>\n",
       "      <td>3442f8959a84dea7ee197c632cb2df15</td>\n",
       "      <td>13023</td>\n",
       "    </tr>\n",
       "    <tr>\n",
       "      <th>1</th>\n",
       "      <td>2</td>\n",
       "      <td>d1b65fc7debc3361ea86b5f14c68d2e2</td>\n",
       "      <td>13844</td>\n",
       "    </tr>\n",
       "    <tr>\n",
       "      <th>2</th>\n",
       "      <td>3</td>\n",
       "      <td>ce3ad9de960102d0677a81f5d0bb7b2d</td>\n",
       "      <td>20031</td>\n",
       "    </tr>\n",
       "    <tr>\n",
       "      <th>3</th>\n",
       "      <td>4</td>\n",
       "      <td>c0f3eea2e14555b6faeea3dd58c1b1c3</td>\n",
       "      <td>4195</td>\n",
       "    </tr>\n",
       "    <tr>\n",
       "      <th>4</th>\n",
       "      <td>5</td>\n",
       "      <td>51a04a8a6bdcb23deccc82b0b80742cf</td>\n",
       "      <td>12914</td>\n",
       "    </tr>\n",
       "  </tbody>\n",
       "</table>\n",
       "</div>"
      ],
      "text/plain": [
       "   SELLER_KEY                         SELLER_ID  SELLER_ZIP_CODE_PREFIX\n",
       "0           1  3442f8959a84dea7ee197c632cb2df15                   13023\n",
       "1           2  d1b65fc7debc3361ea86b5f14c68d2e2                   13844\n",
       "2           3  ce3ad9de960102d0677a81f5d0bb7b2d                   20031\n",
       "3           4  c0f3eea2e14555b6faeea3dd58c1b1c3                    4195\n",
       "4           5  51a04a8a6bdcb23deccc82b0b80742cf                   12914"
      ]
     },
     "execution_count": 16,
     "metadata": {},
     "output_type": "execute_result"
    }
   ],
   "source": [
    "dim_seller.head()"
   ]
  },
  {
   "cell_type": "code",
   "execution_count": 17,
   "id": "032ccc1e",
   "metadata": {},
   "outputs": [],
   "source": [
    "sql_dim_seller = \"\"\"\n",
    "\n",
    "CREATE TABLE dim_seller (\n",
    "  seller_key                   INTEGER,\n",
    "  seller_id                    VARCHAR(100)    NOT NULL,\n",
    "  seller_zip_code_prefix       INTEGER         NOT NULL,\n",
    "--\n",
    "  CONSTRAINT pk_seller\n",
    "    PRIMARY KEY (seller_key),\n",
    "--\n",
    "  CONSTRAINT ck_seller_key\n",
    "    CHECK (seller_key > 0),\n",
    "--\n",
    "  CONSTRAINT un_seller_id\n",
    "    UNIQUE (seller_id),\n",
    "--\n",
    "  CONSTRAINT fk_seller_zip_code_prefix\n",
    "    FOREIGN KEY (seller_zip_code_prefix)\n",
    "    REFERENCES dim_geolocation (zip_code_prefix)\n",
    ");\n",
    "\"\"\"\n",
    "\n",
    "cursor.execute(sql_dim_seller)"
   ]
  },
  {
   "cell_type": "markdown",
   "id": "c0d4d9d8",
   "metadata": {},
   "source": [
    "<h4>Dimension <sup>dimProduct</sup></h4>"
   ]
  },
  {
   "cell_type": "code",
   "execution_count": 18,
   "id": "c9a7d9ff",
   "metadata": {},
   "outputs": [
    {
     "data": {
      "text/plain": [
       "PRODUCT_KEY       int64\n",
       "PRODUCT_ID       object\n",
       "CATEGORY         object\n",
       "SUB_CATEGORY     object\n",
       "WEIGHT            int64\n",
       "LENGTH            int64\n",
       "HEIGHT            int64\n",
       "WIDTH             int64\n",
       "NUMBER_PHOTOS     int64\n",
       "dtype: object"
      ]
     },
     "execution_count": 18,
     "metadata": {},
     "output_type": "execute_result"
    }
   ],
   "source": [
    "dim_product.dtypes"
   ]
  },
  {
   "cell_type": "code",
   "execution_count": 19,
   "id": "7926cb00",
   "metadata": {},
   "outputs": [
    {
     "data": {
      "text/html": [
       "<div>\n",
       "<style scoped>\n",
       "    .dataframe tbody tr th:only-of-type {\n",
       "        vertical-align: middle;\n",
       "    }\n",
       "\n",
       "    .dataframe tbody tr th {\n",
       "        vertical-align: top;\n",
       "    }\n",
       "\n",
       "    .dataframe thead th {\n",
       "        text-align: right;\n",
       "    }\n",
       "</style>\n",
       "<table border=\"1\" class=\"dataframe\">\n",
       "  <thead>\n",
       "    <tr style=\"text-align: right;\">\n",
       "      <th></th>\n",
       "      <th>PRODUCT_KEY</th>\n",
       "      <th>PRODUCT_ID</th>\n",
       "      <th>CATEGORY</th>\n",
       "      <th>SUB_CATEGORY</th>\n",
       "      <th>WEIGHT</th>\n",
       "      <th>LENGTH</th>\n",
       "      <th>HEIGHT</th>\n",
       "      <th>WIDTH</th>\n",
       "      <th>NUMBER_PHOTOS</th>\n",
       "    </tr>\n",
       "  </thead>\n",
       "  <tbody>\n",
       "    <tr>\n",
       "      <th>0</th>\n",
       "      <td>1</td>\n",
       "      <td>1e9e8ef04dbcff4541ed26657ea517e5</td>\n",
       "      <td>Health and Beauty</td>\n",
       "      <td>perfumery</td>\n",
       "      <td>225</td>\n",
       "      <td>16</td>\n",
       "      <td>10</td>\n",
       "      <td>14</td>\n",
       "      <td>1</td>\n",
       "    </tr>\n",
       "    <tr>\n",
       "      <th>1</th>\n",
       "      <td>2</td>\n",
       "      <td>3aa071139cb16b67ca9e5dea641aaa2f</td>\n",
       "      <td>Music and Art</td>\n",
       "      <td>art</td>\n",
       "      <td>1000</td>\n",
       "      <td>30</td>\n",
       "      <td>18</td>\n",
       "      <td>20</td>\n",
       "      <td>1</td>\n",
       "    </tr>\n",
       "    <tr>\n",
       "      <th>2</th>\n",
       "      <td>3</td>\n",
       "      <td>96bd76ec8810374ed1b65e291975717f</td>\n",
       "      <td>Sports and Leisure</td>\n",
       "      <td>sports_leisure</td>\n",
       "      <td>154</td>\n",
       "      <td>18</td>\n",
       "      <td>9</td>\n",
       "      <td>15</td>\n",
       "      <td>1</td>\n",
       "    </tr>\n",
       "    <tr>\n",
       "      <th>3</th>\n",
       "      <td>4</td>\n",
       "      <td>cef67bcfe19066a932b7673e239eb23d</td>\n",
       "      <td>Children</td>\n",
       "      <td>baby</td>\n",
       "      <td>371</td>\n",
       "      <td>26</td>\n",
       "      <td>4</td>\n",
       "      <td>26</td>\n",
       "      <td>1</td>\n",
       "    </tr>\n",
       "    <tr>\n",
       "      <th>4</th>\n",
       "      <td>5</td>\n",
       "      <td>9dc1a7de274444849c219cff195d0b71</td>\n",
       "      <td>Home and Decor</td>\n",
       "      <td>housewares</td>\n",
       "      <td>625</td>\n",
       "      <td>20</td>\n",
       "      <td>17</td>\n",
       "      <td>13</td>\n",
       "      <td>4</td>\n",
       "    </tr>\n",
       "  </tbody>\n",
       "</table>\n",
       "</div>"
      ],
      "text/plain": [
       "   PRODUCT_KEY                        PRODUCT_ID            CATEGORY  \\\n",
       "0            1  1e9e8ef04dbcff4541ed26657ea517e5   Health and Beauty   \n",
       "1            2  3aa071139cb16b67ca9e5dea641aaa2f       Music and Art   \n",
       "2            3  96bd76ec8810374ed1b65e291975717f  Sports and Leisure   \n",
       "3            4  cef67bcfe19066a932b7673e239eb23d            Children   \n",
       "4            5  9dc1a7de274444849c219cff195d0b71      Home and Decor   \n",
       "\n",
       "     SUB_CATEGORY  WEIGHT  LENGTH  HEIGHT  WIDTH  NUMBER_PHOTOS  \n",
       "0       perfumery     225      16      10     14              1  \n",
       "1             art    1000      30      18     20              1  \n",
       "2  sports_leisure     154      18       9     15              1  \n",
       "3            baby     371      26       4     26              1  \n",
       "4      housewares     625      20      17     13              4  "
      ]
     },
     "execution_count": 19,
     "metadata": {},
     "output_type": "execute_result"
    }
   ],
   "source": [
    "dim_product.head()"
   ]
  },
  {
   "cell_type": "code",
   "execution_count": 20,
   "id": "f0988464",
   "metadata": {},
   "outputs": [],
   "source": [
    "sql_dim_product = \"\"\"\n",
    "\n",
    "CREATE TABLE dim_product (\n",
    "  product_key                  INTEGER,\n",
    "  product_id                   VARCHAR(100)    NOT NULL,\n",
    "  category                     VARCHAR(100)    NOT NULL,\n",
    "  sub_category                 VARCHAR(100)    NOT NULL,\n",
    "  weight_g                     INTEGER         NOT NULL,\n",
    "  length_cm                    INTEGER         NOT NULL,\n",
    "  height_cm                    INTEGER         NOT NULL,\n",
    "  width_cm                     INTEGER         NOT NULL,\n",
    "  number_photos                INTEGER         NOT NULL,\n",
    "--\n",
    "  CONSTRAINT pk_product\n",
    "    PRIMARY KEY (product_key),\n",
    "--\n",
    "  CONSTRAINT ck_product_key\n",
    "    CHECK (product_key > 0),\n",
    "--\n",
    "  CONSTRAINT un_product_id\n",
    "    UNIQUE (product_id),\n",
    "--\n",
    "  CONSTRAINT ck_number_photos\n",
    "    CHECK (number_photos >= 0),\n",
    "--\n",
    "  CONSTRAINT ck_weight_g\n",
    "    CHECK (weight_g >= 0),\n",
    "--\n",
    "  CONSTRAINT ck_length_cm\n",
    "    CHECK (length_cm >= 0),\n",
    "--\n",
    "  CONSTRAINT ck_height_cm\n",
    "    CHECK (height_cm >= 0),\n",
    "--\n",
    "  CONSTRAINT ck_width_cm\n",
    "    CHECK (width_cm >= 0)\n",
    ");\n",
    "\"\"\"\n",
    "\n",
    "cursor.execute(sql_dim_product)"
   ]
  },
  {
   "cell_type": "markdown",
   "id": "f3d640ea",
   "metadata": {},
   "source": [
    "<h4>Dimension <sup>dimDate</sup></h4>"
   ]
  },
  {
   "cell_type": "code",
   "execution_count": 21,
   "id": "ed86b17a",
   "metadata": {},
   "outputs": [
    {
     "data": {
      "text/plain": [
       "DATE_KEY                       int64\n",
       "FULL_DATE                     object\n",
       "YEAR                           int64\n",
       "MONTH                          int64\n",
       "MONTH_NAME                    object\n",
       "WEEK_IN_MONTH                  int64\n",
       "DAY                            int64\n",
       "DAY_OF_WEEK                   object\n",
       "TRIMESTER                     object\n",
       "NATIONAL_HOLIDAY_INDICATOR    object\n",
       "WEEKDAY_INDICATOR             object\n",
       "dtype: object"
      ]
     },
     "execution_count": 21,
     "metadata": {},
     "output_type": "execute_result"
    }
   ],
   "source": [
    "dim_date.dtypes"
   ]
  },
  {
   "cell_type": "code",
   "execution_count": 22,
   "id": "e3ea30f5",
   "metadata": {},
   "outputs": [
    {
     "data": {
      "text/html": [
       "<div>\n",
       "<style scoped>\n",
       "    .dataframe tbody tr th:only-of-type {\n",
       "        vertical-align: middle;\n",
       "    }\n",
       "\n",
       "    .dataframe tbody tr th {\n",
       "        vertical-align: top;\n",
       "    }\n",
       "\n",
       "    .dataframe thead th {\n",
       "        text-align: right;\n",
       "    }\n",
       "</style>\n",
       "<table border=\"1\" class=\"dataframe\">\n",
       "  <thead>\n",
       "    <tr style=\"text-align: right;\">\n",
       "      <th></th>\n",
       "      <th>DATE_KEY</th>\n",
       "      <th>FULL_DATE</th>\n",
       "      <th>YEAR</th>\n",
       "      <th>MONTH</th>\n",
       "      <th>MONTH_NAME</th>\n",
       "      <th>WEEK_IN_MONTH</th>\n",
       "      <th>DAY</th>\n",
       "      <th>DAY_OF_WEEK</th>\n",
       "      <th>TRIMESTER</th>\n",
       "      <th>NATIONAL_HOLIDAY_INDICATOR</th>\n",
       "      <th>WEEKDAY_INDICATOR</th>\n",
       "    </tr>\n",
       "  </thead>\n",
       "  <tbody>\n",
       "    <tr>\n",
       "      <th>0</th>\n",
       "      <td>1</td>\n",
       "      <td>2016-01-01</td>\n",
       "      <td>2016</td>\n",
       "      <td>1</td>\n",
       "      <td>January</td>\n",
       "      <td>1</td>\n",
       "      <td>1</td>\n",
       "      <td>Friday</td>\n",
       "      <td>Q1</td>\n",
       "      <td>Holiday</td>\n",
       "      <td>Weekday</td>\n",
       "    </tr>\n",
       "    <tr>\n",
       "      <th>1</th>\n",
       "      <td>2</td>\n",
       "      <td>2016-01-02</td>\n",
       "      <td>2016</td>\n",
       "      <td>1</td>\n",
       "      <td>January</td>\n",
       "      <td>1</td>\n",
       "      <td>2</td>\n",
       "      <td>Saturday</td>\n",
       "      <td>Q1</td>\n",
       "      <td>Non-Holiday</td>\n",
       "      <td>Weekend</td>\n",
       "    </tr>\n",
       "    <tr>\n",
       "      <th>2</th>\n",
       "      <td>3</td>\n",
       "      <td>2016-01-03</td>\n",
       "      <td>2016</td>\n",
       "      <td>1</td>\n",
       "      <td>January</td>\n",
       "      <td>1</td>\n",
       "      <td>3</td>\n",
       "      <td>Sunday</td>\n",
       "      <td>Q1</td>\n",
       "      <td>Non-Holiday</td>\n",
       "      <td>Weekend</td>\n",
       "    </tr>\n",
       "    <tr>\n",
       "      <th>3</th>\n",
       "      <td>4</td>\n",
       "      <td>2016-01-04</td>\n",
       "      <td>2016</td>\n",
       "      <td>1</td>\n",
       "      <td>January</td>\n",
       "      <td>1</td>\n",
       "      <td>4</td>\n",
       "      <td>Monday</td>\n",
       "      <td>Q1</td>\n",
       "      <td>Non-Holiday</td>\n",
       "      <td>Weekday</td>\n",
       "    </tr>\n",
       "    <tr>\n",
       "      <th>4</th>\n",
       "      <td>5</td>\n",
       "      <td>2016-01-05</td>\n",
       "      <td>2016</td>\n",
       "      <td>1</td>\n",
       "      <td>January</td>\n",
       "      <td>1</td>\n",
       "      <td>5</td>\n",
       "      <td>Tuesday</td>\n",
       "      <td>Q1</td>\n",
       "      <td>Non-Holiday</td>\n",
       "      <td>Weekday</td>\n",
       "    </tr>\n",
       "  </tbody>\n",
       "</table>\n",
       "</div>"
      ],
      "text/plain": [
       "   DATE_KEY   FULL_DATE  YEAR  MONTH MONTH_NAME  WEEK_IN_MONTH  DAY  \\\n",
       "0         1  2016-01-01  2016      1    January              1    1   \n",
       "1         2  2016-01-02  2016      1    January              1    2   \n",
       "2         3  2016-01-03  2016      1    January              1    3   \n",
       "3         4  2016-01-04  2016      1    January              1    4   \n",
       "4         5  2016-01-05  2016      1    January              1    5   \n",
       "\n",
       "  DAY_OF_WEEK TRIMESTER NATIONAL_HOLIDAY_INDICATOR WEEKDAY_INDICATOR  \n",
       "0      Friday        Q1                    Holiday           Weekday  \n",
       "1    Saturday        Q1                Non-Holiday           Weekend  \n",
       "2      Sunday        Q1                Non-Holiday           Weekend  \n",
       "3      Monday        Q1                Non-Holiday           Weekday  \n",
       "4     Tuesday        Q1                Non-Holiday           Weekday  "
      ]
     },
     "execution_count": 22,
     "metadata": {},
     "output_type": "execute_result"
    }
   ],
   "source": [
    "dim_date.head()"
   ]
  },
  {
   "cell_type": "code",
   "execution_count": 23,
   "id": "109d0b83",
   "metadata": {},
   "outputs": [],
   "source": [
    "sql_dim_date = \"\"\"\n",
    "\n",
    "CREATE TABLE dim_date (\n",
    "  date_key                     INTEGER,\n",
    "  full_date                    DATE            NOT NULL,\n",
    "  year                         INTEGER         NOT NULL,\n",
    "  month                        INTEGER         NOT NULL,\n",
    "  month_name                   VARCHAR(50)     NOT NULL,\n",
    "  week_in_month                INTEGER         NOT NULL,\n",
    "  day                          INTEGER         NOT NULL,\n",
    "  day_of_week                  VARCHAR(10)     NOT NULL,\n",
    "  trimester                    VARCHAR(10)     NOT NULL,\n",
    "  national_holiday_indicator   VARCHAR(20)     NOT NULL,\n",
    "  weekday_indicator            VARCHAR(10)     NOT NULL,\n",
    "--\n",
    "  CONSTRAINT pk_date\n",
    "    PRIMARY KEY (date_key),\n",
    "--\n",
    "  CONSTRAINT ck_date_key\n",
    "    CHECK (date_key > 0),\n",
    "--\n",
    "  CONSTRAINT un_date_full_date\n",
    "    UNIQUE (full_date),\n",
    "--\n",
    "  CONSTRAINT ck_date_year\n",
    "    CHECK (year > 0),\n",
    "--\n",
    "  CONSTRAINT ck_date_month\n",
    "    CHECK (month BETWEEN 1 AND 12),\n",
    "--\n",
    "  CONSTRAINT ck_date_month_name\n",
    "    CHECK (UPPER(month_name) \n",
    "    IN ('JANUARY', 'FEBRUARY', 'MARCH', 'APRIL', 'MAY', 'JUNE', 'JULY', 'AUGUST', 'SEPTEMBER', 'OCTOBER', 'NOVEMBER', 'DECEMBER')),\n",
    "--\n",
    "  CONSTRAINT ck_date_day_of_week\n",
    "    CHECK (UPPER(day_of_week) \n",
    "    IN ('MONDAY', 'TUESDAY',  'WEDNESDAY', 'THURSDAY', 'FRIDAY', 'SATURDAY', 'SUNDAY')),\n",
    "--\n",
    "  CONSTRAINT ck_date_national_holiday_indicator\n",
    "    CHECK (UPPER(national_holiday_indicator) \n",
    "    IN ('HOLIDAY','NON-HOLIDAY')),\n",
    "--\n",
    "  CONSTRAINT ck_date_weekday_indicator\n",
    "    CHECK (UPPER(weekday_indicator) \n",
    "    IN ('WEEKEND','WEEKDAY'))\n",
    ");\n",
    "\"\"\"\n",
    "\n",
    "cursor.execute(sql_dim_date)"
   ]
  },
  {
   "cell_type": "markdown",
   "id": "b3896a0c",
   "metadata": {},
   "source": [
    "<h4>Junk Dimension <sup>dimOrder Indicator</sup></h4>"
   ]
  },
  {
   "cell_type": "code",
   "execution_count": 24,
   "id": "45d1f13d",
   "metadata": {},
   "outputs": [
    {
     "data": {
      "text/plain": [
       "ORDER_INDICATOR_KEY     int64\n",
       "PAYMENT_TYPE           object\n",
       "ORDER_STATUS           object\n",
       "dtype: object"
      ]
     },
     "execution_count": 24,
     "metadata": {},
     "output_type": "execute_result"
    }
   ],
   "source": [
    "dim_order_indicator.dtypes"
   ]
  },
  {
   "cell_type": "code",
   "execution_count": 25,
   "id": "f5357395",
   "metadata": {},
   "outputs": [
    {
     "data": {
      "text/html": [
       "<div>\n",
       "<style scoped>\n",
       "    .dataframe tbody tr th:only-of-type {\n",
       "        vertical-align: middle;\n",
       "    }\n",
       "\n",
       "    .dataframe tbody tr th {\n",
       "        vertical-align: top;\n",
       "    }\n",
       "\n",
       "    .dataframe thead th {\n",
       "        text-align: right;\n",
       "    }\n",
       "</style>\n",
       "<table border=\"1\" class=\"dataframe\">\n",
       "  <thead>\n",
       "    <tr style=\"text-align: right;\">\n",
       "      <th></th>\n",
       "      <th>ORDER_INDICATOR_KEY</th>\n",
       "      <th>PAYMENT_TYPE</th>\n",
       "      <th>ORDER_STATUS</th>\n",
       "    </tr>\n",
       "  </thead>\n",
       "  <tbody>\n",
       "    <tr>\n",
       "      <th>0</th>\n",
       "      <td>1</td>\n",
       "      <td>credit_card</td>\n",
       "      <td>delivered</td>\n",
       "    </tr>\n",
       "    <tr>\n",
       "      <th>1</th>\n",
       "      <td>2</td>\n",
       "      <td>credit_card</td>\n",
       "      <td>canceled</td>\n",
       "    </tr>\n",
       "    <tr>\n",
       "      <th>2</th>\n",
       "      <td>3</td>\n",
       "      <td>boleto</td>\n",
       "      <td>delivered</td>\n",
       "    </tr>\n",
       "    <tr>\n",
       "      <th>3</th>\n",
       "      <td>4</td>\n",
       "      <td>boleto</td>\n",
       "      <td>canceled</td>\n",
       "    </tr>\n",
       "    <tr>\n",
       "      <th>4</th>\n",
       "      <td>5</td>\n",
       "      <td>voucher</td>\n",
       "      <td>delivered</td>\n",
       "    </tr>\n",
       "    <tr>\n",
       "      <th>5</th>\n",
       "      <td>6</td>\n",
       "      <td>voucher</td>\n",
       "      <td>canceled</td>\n",
       "    </tr>\n",
       "    <tr>\n",
       "      <th>6</th>\n",
       "      <td>7</td>\n",
       "      <td>debit_card</td>\n",
       "      <td>delivered</td>\n",
       "    </tr>\n",
       "    <tr>\n",
       "      <th>7</th>\n",
       "      <td>8</td>\n",
       "      <td>debit_card</td>\n",
       "      <td>canceled</td>\n",
       "    </tr>\n",
       "  </tbody>\n",
       "</table>\n",
       "</div>"
      ],
      "text/plain": [
       "   ORDER_INDICATOR_KEY PAYMENT_TYPE ORDER_STATUS\n",
       "0                    1  credit_card    delivered\n",
       "1                    2  credit_card     canceled\n",
       "2                    3       boleto    delivered\n",
       "3                    4       boleto     canceled\n",
       "4                    5      voucher    delivered\n",
       "5                    6      voucher     canceled\n",
       "6                    7   debit_card    delivered\n",
       "7                    8   debit_card     canceled"
      ]
     },
     "execution_count": 25,
     "metadata": {},
     "output_type": "execute_result"
    }
   ],
   "source": [
    "dim_order_indicator"
   ]
  },
  {
   "cell_type": "code",
   "execution_count": 26,
   "id": "d5c50b8d",
   "metadata": {},
   "outputs": [],
   "source": [
    "sql_dim_order_indicator = \"\"\"\n",
    "\n",
    "CREATE TABLE dim_order_indicator (\n",
    "  order_indicator_key          INTEGER,\n",
    "  payment_type                 VARCHAR(20)     NOT NULL,\n",
    "  order_status                 VARCHAR(20)     NOT NULL,\n",
    "--\n",
    "  CONSTRAINT pk_order_indicator\n",
    "    PRIMARY KEY (order_indicator_key),\n",
    "--\n",
    "  CONSTRAINT ck_order_indicator_key\n",
    "    CHECK (order_indicator_key > 0),\n",
    "--\n",
    "  CONSTRAINT ck_order_indicator_payment_type\n",
    "    CHECK (UPPER(payment_type) \n",
    "    IN ('CREDIT_CARD', 'BOLETO', 'VOUCHER','DEBIT_CARD'))\n",
    ");\n",
    "\"\"\"\n",
    "\n",
    "cursor.execute(sql_dim_order_indicator)"
   ]
  },
  {
   "cell_type": "markdown",
   "id": "30dde273",
   "metadata": {},
   "source": [
    "<h3>4. INSERTING THE DATA INTO THE DIMENSION TABLES IN POSTGRESQL</h3>"
   ]
  },
  {
   "cell_type": "code",
   "execution_count": 27,
   "id": "4f81af4c",
   "metadata": {},
   "outputs": [],
   "source": [
    "dim_geolocation_list = dim_geolocation.to_numpy().tolist()\n",
    "\n",
    "sql = \"INSERT INTO dim_geolocation VALUES(%s, %s, %s, %s, %s, %s)\"\n",
    "\n",
    "cursor.executemany(sql, dim_geolocation_list)"
   ]
  },
  {
   "cell_type": "code",
   "execution_count": 28,
   "id": "531518a7",
   "metadata": {},
   "outputs": [],
   "source": [
    "dim_customer_list = dim_customer.to_numpy().tolist()\n",
    "\n",
    "sql = \"INSERT INTO dim_customer VALUES(%s, %s, %s, %s)\"\n",
    "\n",
    "cursor.executemany(sql, dim_customer_list)"
   ]
  },
  {
   "cell_type": "code",
   "execution_count": 29,
   "id": "15cbc770",
   "metadata": {},
   "outputs": [],
   "source": [
    "dim_seller_list = dim_seller.to_numpy().tolist()\n",
    "\n",
    "sql = \"INSERT INTO dim_seller VALUES(%s, %s, %s)\"\n",
    "\n",
    "cursor.executemany(sql, dim_seller_list)"
   ]
  },
  {
   "cell_type": "code",
   "execution_count": 30,
   "id": "dff67fb1",
   "metadata": {},
   "outputs": [],
   "source": [
    "dim_product_list = dim_product.to_numpy().tolist()\n",
    "\n",
    "sql = \"INSERT INTO dim_product VALUES(%s, %s, %s, %s, %s, %s, %s, %s, %s)\"\n",
    "\n",
    "cursor.executemany(sql, dim_product_list)"
   ]
  },
  {
   "cell_type": "code",
   "execution_count": 31,
   "id": "f0488f39",
   "metadata": {},
   "outputs": [],
   "source": [
    "dim_date_list = dim_date.to_numpy().tolist()\n",
    "\n",
    "sql = \"INSERT INTO dim_date VALUES(%s, %s, %s, %s, %s, %s, %s, %s, %s, %s, %s)\"\n",
    "\n",
    "cursor.executemany(sql, dim_date_list)"
   ]
  },
  {
   "cell_type": "code",
   "execution_count": 32,
   "id": "d7c449a9",
   "metadata": {},
   "outputs": [],
   "source": [
    "dim_order_indicator_list = dim_order_indicator.to_numpy().tolist()\n",
    "\n",
    "sql = \"INSERT INTO dim_order_indicator VALUES(%s, %s, %s)\"\n",
    "\n",
    "cursor.executemany(sql, dim_order_indicator_list)"
   ]
  },
  {
   "cell_type": "code",
   "execution_count": 33,
   "id": "407c49da",
   "metadata": {},
   "outputs": [],
   "source": [
    "conn.commit()"
   ]
  },
  {
   "cell_type": "code",
   "execution_count": 34,
   "id": "87a62196",
   "metadata": {},
   "outputs": [],
   "source": [
    "cursor.close()\n",
    "conn.close()"
   ]
  }
 ],
 "metadata": {
  "kernelspec": {
   "display_name": "base",
   "language": "python",
   "name": "python3"
  },
  "language_info": {
   "codemirror_mode": {
    "name": "ipython",
    "version": 3
   },
   "file_extension": ".py",
   "mimetype": "text/x-python",
   "name": "python",
   "nbconvert_exporter": "python",
   "pygments_lexer": "ipython3",
   "version": "3.11.4"
  }
 },
 "nbformat": 4,
 "nbformat_minor": 5
}
