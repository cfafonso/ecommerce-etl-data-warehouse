{
 "cells": [
  {
   "cell_type": "markdown",
   "id": "fcf98bbd",
   "metadata": {},
   "source": [
    "<h2><center>STAGE 3 - CREATING FACTS</center></h2>\n",
    "\n",
    "---"
   ]
  },
  {
   "cell_type": "code",
   "execution_count": 1,
   "id": "95c2f9aa",
   "metadata": {},
   "outputs": [],
   "source": [
    "import os\n",
    "import pandas as pd"
   ]
  },
  {
   "cell_type": "code",
   "execution_count": 2,
   "id": "1157a1e2",
   "metadata": {},
   "outputs": [],
   "source": [
    "from utils.data_warehouse_mappings import add_surrogate_key_dimension_table, add_surrogate_key_fact_table, \\\n",
    "    map_surrogate_to_natural_key, save_lookup_to_json"
   ]
  },
  {
   "cell_type": "code",
   "execution_count": 3,
   "id": "c4d0c027",
   "metadata": {},
   "outputs": [],
   "source": [
    "from utils.constants import fact_tables_folder, fact_order_line_file, fact_order_header_file"
   ]
  },
  {
   "cell_type": "code",
   "execution_count": 4,
   "id": "edd399a5",
   "metadata": {},
   "outputs": [],
   "source": [
    "from utils.constants import processed_dataset_folder, customers_processed_dataset, geolocation_processed_dataset, \\\n",
    "    items_processed_dataset, payments_processed_dataset, reviews_processed_dataset, orders_processed_dataset, \\\n",
    "        products_processed_dataset, sellers_processed_dataset, category_processed_dataset"
   ]
  },
  {
   "cell_type": "code",
   "execution_count": 5,
   "id": "e33f5cc5",
   "metadata": {},
   "outputs": [],
   "source": [
    "from utils.constants import lookup_tables_folder, lookup_table_customer, lookup_table_seller, lookup_table_product, \\\n",
    "    lookup_table_customer_geolocation, lookup_table_seller_geolocation, lookup_table_order_indicator, lookup_table_date, \\\n",
    "        lookup_table_order_number"
   ]
  },
  {
   "cell_type": "code",
   "execution_count": 6,
   "id": "e45d5ef0",
   "metadata": {},
   "outputs": [],
   "source": [
    "from utils.constants import dimension_tables_folder, dim_customer_file, dim_seller_file, dim_product_file, dim_geolocation_file, \\\n",
    "    dim_customer_geolocation_file, dim_seller_geolocation_file, dim_order_indicator_file, dim_date_file"
   ]
  },
  {
   "cell_type": "markdown",
   "id": "03cb58da",
   "metadata": {},
   "source": [
    "<h3>1. READING THE PROCESSED CSV FILES FROM STAGE 1</h3>"
   ]
  },
  {
   "cell_type": "code",
   "execution_count": 7,
   "id": "f1a8c117",
   "metadata": {},
   "outputs": [],
   "source": [
    "customers = pd.read_csv(os.path.join(processed_dataset_folder, customers_processed_dataset))\n",
    "geolocation = pd.read_csv(os.path.join(processed_dataset_folder, geolocation_processed_dataset))\n",
    "items = pd.read_csv(os.path.join(processed_dataset_folder, items_processed_dataset))\n",
    "payments = pd.read_csv(os.path.join(processed_dataset_folder, payments_processed_dataset))\n",
    "reviews = pd.read_csv(os.path.join(processed_dataset_folder, reviews_processed_dataset))\n",
    "orders = pd.read_csv(os.path.join(processed_dataset_folder, orders_processed_dataset))\n",
    "products = pd.read_csv(os.path.join(processed_dataset_folder, products_processed_dataset))\n",
    "sellers = pd.read_csv(os.path.join(processed_dataset_folder, sellers_processed_dataset))\n",
    "category = pd.read_csv(os.path.join(processed_dataset_folder, category_processed_dataset))"
   ]
  },
  {
   "cell_type": "markdown",
   "id": "1f27baa0",
   "metadata": {},
   "source": [
    "<h3>2. READING THE DIMENSION CSV FILES FROM STAGE 2</h3>"
   ]
  },
  {
   "cell_type": "code",
   "execution_count": 8,
   "id": "9f24ea6a",
   "metadata": {},
   "outputs": [],
   "source": [
    "dim_customer = pd.read_csv(os.path.join(dimension_tables_folder, dim_customer_file))\n",
    "dim_seller = pd.read_csv(os.path.join(dimension_tables_folder, dim_seller_file))\n",
    "dim_product = pd.read_csv(os.path.join(dimension_tables_folder, dim_product_file))\n",
    "dim_geolocation = pd.read_csv(os.path.join(dimension_tables_folder, dim_geolocation_file))\n",
    "dim_customer_geolocation = pd.read_csv(os.path.join(dimension_tables_folder, dim_customer_geolocation_file))\n",
    "dim_seller_geolocation = pd.read_csv(os.path.join(dimension_tables_folder, dim_seller_geolocation_file))\n",
    "dim_order_indicator = pd.read_csv(os.path.join(dimension_tables_folder, dim_order_indicator_file))\n",
    "dim_date = pd.read_csv(os.path.join(dimension_tables_folder, dim_date_file))"
   ]
  },
  {
   "cell_type": "markdown",
   "id": "e89d0275",
   "metadata": {},
   "source": [
    "<h3>3. CREATING DATAFRAMES FOR EACH FACT TABLE</h3>"
   ]
  },
  {
   "cell_type": "markdown",
   "id": "93883d6c",
   "metadata": {},
   "source": [
    "<h3>Fact Table <sup>factOrderLineAccumulating</sup></h3>"
   ]
  },
  {
   "cell_type": "markdown",
   "id": "3170e1a9",
   "metadata": {},
   "source": [
    "<h5><u>CREATING THE FACT TABLE WITH THE REQUIRED FIELDS (CONTAINING THE NATURAL KEYS)</u></h4>"
   ]
  },
  {
   "cell_type": "code",
   "execution_count": 9,
   "id": "51439f7f",
   "metadata": {},
   "outputs": [],
   "source": [
    "fact_order_line = pd.merge(orders, items, on = 'order_id')"
   ]
  },
  {
   "cell_type": "code",
   "execution_count": 10,
   "id": "a09e1584",
   "metadata": {},
   "outputs": [],
   "source": [
    "order_line_quantity = fact_order_line.groupby(['order_id', 'product_id']).size().reset_index(name='Order Line Quantity')"
   ]
  },
  {
   "cell_type": "code",
   "execution_count": 11,
   "id": "b06a4758",
   "metadata": {},
   "outputs": [],
   "source": [
    "fact_order_line = pd.merge(fact_order_line, order_line_quantity, on = ['order_id', 'product_id'])"
   ]
  },
  {
   "cell_type": "code",
   "execution_count": 12,
   "id": "ce80b85c",
   "metadata": {},
   "outputs": [],
   "source": [
    "fact_order_line['Order Line Number'] = fact_order_line.groupby('order_id')['product_id'].rank(method='dense').astype(int)"
   ]
  },
  {
   "cell_type": "code",
   "execution_count": 13,
   "id": "c3bf15d5",
   "metadata": {},
   "outputs": [],
   "source": [
    "fact_order_line[['Purchase Date',\n",
    "                 'Approval Date',\n",
    "                 'Delivery Date']] = fact_order_line[['order_purchase_timestamp', \n",
    "                                                      'order_approved_at', \n",
    "                                                      'order_delivered_customer_date']].apply(pd.to_datetime)"
   ]
  },
  {
   "cell_type": "code",
   "execution_count": 14,
   "id": "15945aa3",
   "metadata": {},
   "outputs": [],
   "source": [
    "fact_order_line['Delivery Time'] = (fact_order_line['Delivery Date'] - fact_order_line['Approval Date']).dt.days"
   ]
  },
  {
   "cell_type": "code",
   "execution_count": 15,
   "id": "a262acc6",
   "metadata": {},
   "outputs": [],
   "source": [
    "fact_order_line[['Purchase Date',\n",
    "                 'Approval Date', \n",
    "                 'Delivery Date']] = fact_order_line[['Purchase Date', \n",
    "                                                      'Approval Date', \n",
    "                                                      'Delivery Date']].apply(lambda x: x.dt.date)"
   ]
  },
  {
   "cell_type": "code",
   "execution_count": 16,
   "id": "aeda44a1",
   "metadata": {},
   "outputs": [],
   "source": [
    "fact_order_line = fact_order_line.merge(customers[['customer_id', 'customer_zip_code_prefix']], on='customer_id')"
   ]
  },
  {
   "cell_type": "code",
   "execution_count": 17,
   "id": "e25c4698",
   "metadata": {},
   "outputs": [],
   "source": [
    "fact_order_line = fact_order_line.merge(sellers, on='seller_id')"
   ]
  },
  {
   "cell_type": "code",
   "execution_count": 18,
   "id": "33795975",
   "metadata": {},
   "outputs": [],
   "source": [
    "fact_order_line.drop(['order_purchase_timestamp', 'order_approved_at','order_delivered_customer_date',\n",
    "                      'order_status', 'order_delivered_carrier_date', 'order_estimated_delivery_date',\n",
    "                      'order_item_id', 'shipping_limit_date'], axis=1, inplace=True)"
   ]
  },
  {
   "cell_type": "code",
   "execution_count": 19,
   "id": "3a583fa0",
   "metadata": {},
   "outputs": [
    {
     "data": {
      "text/plain": [
       "True"
      ]
     },
     "execution_count": 19,
     "metadata": {},
     "output_type": "execute_result"
    }
   ],
   "source": [
    "fact_order_line.duplicated().any()"
   ]
  },
  {
   "cell_type": "code",
   "execution_count": 20,
   "id": "8834e67b",
   "metadata": {},
   "outputs": [],
   "source": [
    "fact_order_line = fact_order_line.drop_duplicates().reset_index(drop=True)"
   ]
  },
  {
   "cell_type": "markdown",
   "id": "65865ab6",
   "metadata": {},
   "source": [
    "<h5><u>CREATING THE DEGENERATE DIMENSION</u></h5>"
   ]
  },
  {
   "cell_type": "markdown",
   "id": "207ecf56",
   "metadata": {},
   "source": [
    "<h5>Degenerate Dimension<sup> dimOrderNumber</sup></h5>"
   ]
  },
  {
   "cell_type": "code",
   "execution_count": 21,
   "id": "d942fc59",
   "metadata": {},
   "outputs": [],
   "source": [
    "dim_order_number = fact_order_line.loc[:, 'order_id'].to_frame()\n",
    "dim_order_number.columns = ['ORDER_ID']"
   ]
  },
  {
   "cell_type": "code",
   "execution_count": 22,
   "id": "e1c10be7",
   "metadata": {},
   "outputs": [
    {
     "data": {
      "text/plain": [
       "True"
      ]
     },
     "execution_count": 22,
     "metadata": {},
     "output_type": "execute_result"
    }
   ],
   "source": [
    "dim_order_number.duplicated().any()"
   ]
  },
  {
   "cell_type": "code",
   "execution_count": 23,
   "id": "a72a9ec0",
   "metadata": {},
   "outputs": [],
   "source": [
    "dim_order_number = dim_order_number.drop_duplicates().reset_index(drop=True)"
   ]
  },
  {
   "cell_type": "code",
   "execution_count": 24,
   "id": "7dcb2bf0",
   "metadata": {},
   "outputs": [],
   "source": [
    "add_surrogate_key_dimension_table(dim_order_number, 'ORDER_NUMBER')"
   ]
  },
  {
   "cell_type": "code",
   "execution_count": 25,
   "id": "88453f90",
   "metadata": {},
   "outputs": [],
   "source": [
    "order_number_key_mapping = map_surrogate_to_natural_key(dim_order_number, 'ORDER_ID', 'ORDER_NUMBER')"
   ]
  },
  {
   "cell_type": "code",
   "execution_count": 26,
   "id": "60fd1cb6",
   "metadata": {},
   "outputs": [
    {
     "data": {
      "text/html": [
       "<div>\n",
       "<style scoped>\n",
       "    .dataframe tbody tr th:only-of-type {\n",
       "        vertical-align: middle;\n",
       "    }\n",
       "\n",
       "    .dataframe tbody tr th {\n",
       "        vertical-align: top;\n",
       "    }\n",
       "\n",
       "    .dataframe thead th {\n",
       "        text-align: right;\n",
       "    }\n",
       "</style>\n",
       "<table border=\"1\" class=\"dataframe\">\n",
       "  <thead>\n",
       "    <tr style=\"text-align: right;\">\n",
       "      <th></th>\n",
       "      <th>ORDER_NUMBER</th>\n",
       "      <th>ORDER_ID</th>\n",
       "    </tr>\n",
       "  </thead>\n",
       "  <tbody>\n",
       "    <tr>\n",
       "      <th>0</th>\n",
       "      <td>1</td>\n",
       "      <td>e481f51cbdc54678b7cc49136f2d6af7</td>\n",
       "    </tr>\n",
       "    <tr>\n",
       "      <th>1</th>\n",
       "      <td>2</td>\n",
       "      <td>53cdb2fc8bc7dce0b6741e2150273451</td>\n",
       "    </tr>\n",
       "    <tr>\n",
       "      <th>2</th>\n",
       "      <td>3</td>\n",
       "      <td>47770eb9100c2d0c44946d9cf07ec65d</td>\n",
       "    </tr>\n",
       "    <tr>\n",
       "      <th>3</th>\n",
       "      <td>4</td>\n",
       "      <td>949d5b44dbf5de918fe9c16f97b45f8a</td>\n",
       "    </tr>\n",
       "    <tr>\n",
       "      <th>4</th>\n",
       "      <td>5</td>\n",
       "      <td>ad21c59c0840e6cb83a9ceb5573f8159</td>\n",
       "    </tr>\n",
       "    <tr>\n",
       "      <th>...</th>\n",
       "      <td>...</td>\n",
       "      <td>...</td>\n",
       "    </tr>\n",
       "    <tr>\n",
       "      <th>96456</th>\n",
       "      <td>96457</td>\n",
       "      <td>9c5dedf39a927c1b2549525ed64a053c</td>\n",
       "    </tr>\n",
       "    <tr>\n",
       "      <th>96457</th>\n",
       "      <td>96458</td>\n",
       "      <td>63943bddc261676b46f01ca7ac2f7bd8</td>\n",
       "    </tr>\n",
       "    <tr>\n",
       "      <th>96458</th>\n",
       "      <td>96459</td>\n",
       "      <td>83c1379a015df1e13d02aae0204711ab</td>\n",
       "    </tr>\n",
       "    <tr>\n",
       "      <th>96459</th>\n",
       "      <td>96460</td>\n",
       "      <td>11c177c8e97725db2631073c19f07b62</td>\n",
       "    </tr>\n",
       "    <tr>\n",
       "      <th>96460</th>\n",
       "      <td>96461</td>\n",
       "      <td>66dea50a8b16d9b4dee7af250b4be1a5</td>\n",
       "    </tr>\n",
       "  </tbody>\n",
       "</table>\n",
       "<p>96461 rows × 2 columns</p>\n",
       "</div>"
      ],
      "text/plain": [
       "       ORDER_NUMBER                          ORDER_ID\n",
       "0                 1  e481f51cbdc54678b7cc49136f2d6af7\n",
       "1                 2  53cdb2fc8bc7dce0b6741e2150273451\n",
       "2                 3  47770eb9100c2d0c44946d9cf07ec65d\n",
       "3                 4  949d5b44dbf5de918fe9c16f97b45f8a\n",
       "4                 5  ad21c59c0840e6cb83a9ceb5573f8159\n",
       "...             ...                               ...\n",
       "96456         96457  9c5dedf39a927c1b2549525ed64a053c\n",
       "96457         96458  63943bddc261676b46f01ca7ac2f7bd8\n",
       "96458         96459  83c1379a015df1e13d02aae0204711ab\n",
       "96459         96460  11c177c8e97725db2631073c19f07b62\n",
       "96460         96461  66dea50a8b16d9b4dee7af250b4be1a5\n",
       "\n",
       "[96461 rows x 2 columns]"
      ]
     },
     "execution_count": 26,
     "metadata": {},
     "output_type": "execute_result"
    }
   ],
   "source": [
    "dim_order_number"
   ]
  },
  {
   "cell_type": "code",
   "execution_count": 27,
   "id": "a252f1d5",
   "metadata": {},
   "outputs": [
    {
     "name": "stdout",
     "output_type": "stream",
     "text": [
      "The dimOrderNumber has 0 missing values.\n"
     ]
    }
   ],
   "source": [
    "print(f'The dimOrderNumber has {dim_order_number.isnull().sum().sum()} missing values.')"
   ]
  },
  {
   "cell_type": "code",
   "execution_count": 28,
   "id": "4472b0be",
   "metadata": {},
   "outputs": [],
   "source": [
    "save_lookup_to_json(order_number_key_mapping, os.path.join(lookup_tables_folder, lookup_table_order_number))"
   ]
  },
  {
   "cell_type": "markdown",
   "id": "0f8fe4a8",
   "metadata": {},
   "source": [
    "<h5><u>SUBSTITUTING THE NATURAL KEYS BY THEIR SURROGATE COUNTERPARTS</u></h5>"
   ]
  },
  {
   "cell_type": "code",
   "execution_count": 29,
   "id": "641b53a6",
   "metadata": {},
   "outputs": [
    {
     "data": {
      "text/plain": [
       "order_id                     object\n",
       "customer_id                  object\n",
       "product_id                   object\n",
       "seller_id                    object\n",
       "price                       float64\n",
       "freight_value               float64\n",
       "Order Line Quantity           int64\n",
       "Order Line Number             int32\n",
       "Purchase Date                object\n",
       "Approval Date                object\n",
       "Delivery Date                object\n",
       "Delivery Time                 int64\n",
       "customer_zip_code_prefix      int64\n",
       "seller_zip_code_prefix        int64\n",
       "dtype: object"
      ]
     },
     "execution_count": 29,
     "metadata": {},
     "output_type": "execute_result"
    }
   ],
   "source": [
    "fact_order_line.dtypes"
   ]
  },
  {
   "cell_type": "code",
   "execution_count": 30,
   "id": "93c8986f",
   "metadata": {},
   "outputs": [],
   "source": [
    "fact_order_line['customer_zip_code_prefix'] = fact_order_line['customer_zip_code_prefix'].astype(str)\n",
    "fact_order_line['seller_zip_code_prefix'] = fact_order_line['seller_zip_code_prefix'].astype(str)\n",
    "fact_order_line['Purchase Date'] = fact_order_line['Purchase Date'].astype(str)\n",
    "fact_order_line['Approval Date'] = fact_order_line['Approval Date'].astype(str)\n",
    "fact_order_line['Delivery Date'] = fact_order_line['Delivery Date'].astype(str)"
   ]
  },
  {
   "cell_type": "code",
   "execution_count": 31,
   "id": "a7f1e115",
   "metadata": {},
   "outputs": [],
   "source": [
    "fact_order_line = add_surrogate_key_fact_table(fact_order_line, os.path.join(lookup_tables_folder, lookup_table_order_number), \n",
    "                                               'order_id', 'ORDER_NUMBER')"
   ]
  },
  {
   "cell_type": "code",
   "execution_count": 32,
   "id": "09ed7614",
   "metadata": {},
   "outputs": [],
   "source": [
    "fact_order_line = add_surrogate_key_fact_table(fact_order_line, os.path.join(lookup_tables_folder, lookup_table_customer), \n",
    "                                               'customer_id', 'CUSTOMER_KEY')"
   ]
  },
  {
   "cell_type": "code",
   "execution_count": 33,
   "id": "1c34c006",
   "metadata": {},
   "outputs": [],
   "source": [
    "fact_order_line = add_surrogate_key_fact_table(fact_order_line, os.path.join(lookup_tables_folder, lookup_table_customer_geolocation), \n",
    "                                               'customer_zip_code_prefix', 'CUSTOMER_GEOLOCATION_KEY')"
   ]
  },
  {
   "cell_type": "code",
   "execution_count": 34,
   "id": "49b5ba77",
   "metadata": {},
   "outputs": [],
   "source": [
    "fact_order_line = add_surrogate_key_fact_table(fact_order_line, os.path.join(lookup_tables_folder, lookup_table_seller), \n",
    "                                               'seller_id', 'SELLER_KEY')"
   ]
  },
  {
   "cell_type": "code",
   "execution_count": 35,
   "id": "73760212",
   "metadata": {},
   "outputs": [],
   "source": [
    "fact_order_line = add_surrogate_key_fact_table(fact_order_line, os.path.join(lookup_tables_folder, lookup_table_seller_geolocation), \n",
    "                                               'seller_zip_code_prefix', 'SELLER_GEOLOCATION_KEY')"
   ]
  },
  {
   "cell_type": "code",
   "execution_count": 36,
   "id": "6333d7bc",
   "metadata": {},
   "outputs": [],
   "source": [
    "fact_order_line = add_surrogate_key_fact_table(fact_order_line, os.path.join(lookup_tables_folder, lookup_table_product), \n",
    "                                               'product_id', 'PRODUCT_KEY')"
   ]
  },
  {
   "cell_type": "code",
   "execution_count": 37,
   "id": "c457aa89",
   "metadata": {},
   "outputs": [],
   "source": [
    "fact_order_line = add_surrogate_key_fact_table(fact_order_line, os.path.join(lookup_tables_folder, lookup_table_date), \n",
    "                                               'Purchase Date', 'PURCHASE_DATE_KEY')"
   ]
  },
  {
   "cell_type": "code",
   "execution_count": 38,
   "id": "02ecc137",
   "metadata": {},
   "outputs": [],
   "source": [
    "fact_order_line = add_surrogate_key_fact_table(fact_order_line, os.path.join(lookup_tables_folder, lookup_table_date), \n",
    "                                               'Approval Date', 'APPROVAL_DATE_KEY')"
   ]
  },
  {
   "cell_type": "code",
   "execution_count": 39,
   "id": "31963e7d",
   "metadata": {},
   "outputs": [],
   "source": [
    "fact_order_line = add_surrogate_key_fact_table(fact_order_line, os.path.join(lookup_tables_folder, lookup_table_date), \n",
    "                                               'Delivery Date', 'DELIVERY_DATE_KEY')"
   ]
  },
  {
   "cell_type": "code",
   "execution_count": 40,
   "id": "98a8fdbf",
   "metadata": {},
   "outputs": [],
   "source": [
    "fact_order_line.rename(columns={'price': 'UNIT_PRICE',\n",
    "                                'freight_value': 'FREIGHT_COST',\n",
    "                                'Order Line Quantity': 'ORDER_LINE_QUANTITY',\n",
    "                                'Order Line Number': 'ORDER_LINE_NUMBER',\n",
    "                                'Delivery Time': 'DELIVERY_TIME'}, inplace=True)"
   ]
  },
  {
   "cell_type": "code",
   "execution_count": 41,
   "id": "64fef100",
   "metadata": {},
   "outputs": [],
   "source": [
    "fact_order_line = fact_order_line[['ORDER_NUMBER', 'ORDER_LINE_NUMBER', 'CUSTOMER_KEY', 'CUSTOMER_GEOLOCATION_KEY', 'SELLER_KEY', \n",
    "                                   'SELLER_GEOLOCATION_KEY', 'PRODUCT_KEY', 'PURCHASE_DATE_KEY', 'APPROVAL_DATE_KEY', \n",
    "                                   'DELIVERY_DATE_KEY', 'ORDER_LINE_QUANTITY', 'UNIT_PRICE', 'FREIGHT_COST', 'DELIVERY_TIME']]"
   ]
  },
  {
   "cell_type": "code",
   "execution_count": 42,
   "id": "c8334b20",
   "metadata": {},
   "outputs": [],
   "source": [
    "fact_order_line = fact_order_line.sort_values('ORDER_NUMBER').reset_index(drop=True)"
   ]
  },
  {
   "cell_type": "code",
   "execution_count": 43,
   "id": "28ff0352",
   "metadata": {},
   "outputs": [
    {
     "data": {
      "text/html": [
       "<div>\n",
       "<style scoped>\n",
       "    .dataframe tbody tr th:only-of-type {\n",
       "        vertical-align: middle;\n",
       "    }\n",
       "\n",
       "    .dataframe tbody tr th {\n",
       "        vertical-align: top;\n",
       "    }\n",
       "\n",
       "    .dataframe thead th {\n",
       "        text-align: right;\n",
       "    }\n",
       "</style>\n",
       "<table border=\"1\" class=\"dataframe\">\n",
       "  <thead>\n",
       "    <tr style=\"text-align: right;\">\n",
       "      <th></th>\n",
       "      <th>ORDER_NUMBER</th>\n",
       "      <th>ORDER_LINE_NUMBER</th>\n",
       "      <th>CUSTOMER_KEY</th>\n",
       "      <th>CUSTOMER_GEOLOCATION_KEY</th>\n",
       "      <th>SELLER_KEY</th>\n",
       "      <th>SELLER_GEOLOCATION_KEY</th>\n",
       "      <th>PRODUCT_KEY</th>\n",
       "      <th>PURCHASE_DATE_KEY</th>\n",
       "      <th>APPROVAL_DATE_KEY</th>\n",
       "      <th>DELIVERY_DATE_KEY</th>\n",
       "      <th>ORDER_LINE_QUANTITY</th>\n",
       "      <th>UNIT_PRICE</th>\n",
       "      <th>FREIGHT_COST</th>\n",
       "      <th>DELIVERY_TIME</th>\n",
       "    </tr>\n",
       "  </thead>\n",
       "  <tbody>\n",
       "    <tr>\n",
       "      <th>0</th>\n",
       "      <td>1</td>\n",
       "      <td>1</td>\n",
       "      <td>70297</td>\n",
       "      <td>1048</td>\n",
       "      <td>560</td>\n",
       "      <td>4130</td>\n",
       "      <td>2350</td>\n",
       "      <td>641</td>\n",
       "      <td>641</td>\n",
       "      <td>649</td>\n",
       "      <td>1</td>\n",
       "      <td>29.99</td>\n",
       "      <td>8.72</td>\n",
       "      <td>8</td>\n",
       "    </tr>\n",
       "    <tr>\n",
       "      <th>1</th>\n",
       "      <td>2</td>\n",
       "      <td>1</td>\n",
       "      <td>77028</td>\n",
       "      <td>10823</td>\n",
       "      <td>550</td>\n",
       "      <td>8235</td>\n",
       "      <td>20551</td>\n",
       "      <td>936</td>\n",
       "      <td>938</td>\n",
       "      <td>950</td>\n",
       "      <td>1</td>\n",
       "      <td>118.70</td>\n",
       "      <td>22.76</td>\n",
       "      <td>12</td>\n",
       "    </tr>\n",
       "    <tr>\n",
       "      <th>2</th>\n",
       "      <td>3</td>\n",
       "      <td>1</td>\n",
       "      <td>555</td>\n",
       "      <td>15301</td>\n",
       "      <td>2618</td>\n",
       "      <td>5454</td>\n",
       "      <td>12229</td>\n",
       "      <td>951</td>\n",
       "      <td>951</td>\n",
       "      <td>960</td>\n",
       "      <td>1</td>\n",
       "      <td>159.90</td>\n",
       "      <td>19.22</td>\n",
       "      <td>9</td>\n",
       "    </tr>\n",
       "    <tr>\n",
       "      <th>3</th>\n",
       "      <td>4</td>\n",
       "      <td>1</td>\n",
       "      <td>61082</td>\n",
       "      <td>12334</td>\n",
       "      <td>2990</td>\n",
       "      <td>8269</td>\n",
       "      <td>29926</td>\n",
       "      <td>688</td>\n",
       "      <td>688</td>\n",
       "      <td>702</td>\n",
       "      <td>1</td>\n",
       "      <td>45.00</td>\n",
       "      <td>27.20</td>\n",
       "      <td>13</td>\n",
       "    </tr>\n",
       "    <tr>\n",
       "      <th>4</th>\n",
       "      <td>5</td>\n",
       "      <td>1</td>\n",
       "      <td>67264</td>\n",
       "      <td>4098</td>\n",
       "      <td>1497</td>\n",
       "      <td>4022</td>\n",
       "      <td>11901</td>\n",
       "      <td>775</td>\n",
       "      <td>775</td>\n",
       "      <td>778</td>\n",
       "      <td>1</td>\n",
       "      <td>19.90</td>\n",
       "      <td>8.72</td>\n",
       "      <td>2</td>\n",
       "    </tr>\n",
       "    <tr>\n",
       "      <th>...</th>\n",
       "      <td>...</td>\n",
       "      <td>...</td>\n",
       "      <td>...</td>\n",
       "      <td>...</td>\n",
       "      <td>...</td>\n",
       "      <td>...</td>\n",
       "      <td>...</td>\n",
       "      <td>...</td>\n",
       "      <td>...</td>\n",
       "      <td>...</td>\n",
       "      <td>...</td>\n",
       "      <td>...</td>\n",
       "      <td>...</td>\n",
       "      <td>...</td>\n",
       "    </tr>\n",
       "    <tr>\n",
       "      <th>100175</th>\n",
       "      <td>96457</td>\n",
       "      <td>1</td>\n",
       "      <td>60578</td>\n",
       "      <td>4593</td>\n",
       "      <td>2577</td>\n",
       "      <td>4784</td>\n",
       "      <td>18469</td>\n",
       "      <td>434</td>\n",
       "      <td>434</td>\n",
       "      <td>442</td>\n",
       "      <td>1</td>\n",
       "      <td>72.00</td>\n",
       "      <td>13.08</td>\n",
       "      <td>8</td>\n",
       "    </tr>\n",
       "    <tr>\n",
       "      <th>100176</th>\n",
       "      <td>96458</td>\n",
       "      <td>1</td>\n",
       "      <td>78425</td>\n",
       "      <td>4533</td>\n",
       "      <td>36</td>\n",
       "      <td>5946</td>\n",
       "      <td>1779</td>\n",
       "      <td>768</td>\n",
       "      <td>768</td>\n",
       "      <td>790</td>\n",
       "      <td>1</td>\n",
       "      <td>174.90</td>\n",
       "      <td>20.10</td>\n",
       "      <td>22</td>\n",
       "    </tr>\n",
       "    <tr>\n",
       "      <th>100177</th>\n",
       "      <td>96459</td>\n",
       "      <td>1</td>\n",
       "      <td>19902</td>\n",
       "      <td>10666</td>\n",
       "      <td>2114</td>\n",
       "      <td>3827</td>\n",
       "      <td>14954</td>\n",
       "      <td>605</td>\n",
       "      <td>605</td>\n",
       "      <td>630</td>\n",
       "      <td>1</td>\n",
       "      <td>205.99</td>\n",
       "      <td>65.02</td>\n",
       "      <td>24</td>\n",
       "    </tr>\n",
       "    <tr>\n",
       "      <th>100178</th>\n",
       "      <td>96460</td>\n",
       "      <td>1</td>\n",
       "      <td>16924</td>\n",
       "      <td>7699</td>\n",
       "      <td>2747</td>\n",
       "      <td>9272</td>\n",
       "      <td>8291</td>\n",
       "      <td>739</td>\n",
       "      <td>739</td>\n",
       "      <td>756</td>\n",
       "      <td>2</td>\n",
       "      <td>179.99</td>\n",
       "      <td>40.59</td>\n",
       "      <td>17</td>\n",
       "    </tr>\n",
       "    <tr>\n",
       "      <th>100179</th>\n",
       "      <td>96461</td>\n",
       "      <td>1</td>\n",
       "      <td>38126</td>\n",
       "      <td>16662</td>\n",
       "      <td>240</td>\n",
       "      <td>5370</td>\n",
       "      <td>19888</td>\n",
       "      <td>798</td>\n",
       "      <td>799</td>\n",
       "      <td>806</td>\n",
       "      <td>1</td>\n",
       "      <td>68.50</td>\n",
       "      <td>18.36</td>\n",
       "      <td>7</td>\n",
       "    </tr>\n",
       "  </tbody>\n",
       "</table>\n",
       "<p>100180 rows × 14 columns</p>\n",
       "</div>"
      ],
      "text/plain": [
       "        ORDER_NUMBER  ORDER_LINE_NUMBER  CUSTOMER_KEY  \\\n",
       "0                  1                  1         70297   \n",
       "1                  2                  1         77028   \n",
       "2                  3                  1           555   \n",
       "3                  4                  1         61082   \n",
       "4                  5                  1         67264   \n",
       "...              ...                ...           ...   \n",
       "100175         96457                  1         60578   \n",
       "100176         96458                  1         78425   \n",
       "100177         96459                  1         19902   \n",
       "100178         96460                  1         16924   \n",
       "100179         96461                  1         38126   \n",
       "\n",
       "        CUSTOMER_GEOLOCATION_KEY  SELLER_KEY  SELLER_GEOLOCATION_KEY  \\\n",
       "0                           1048         560                    4130   \n",
       "1                          10823         550                    8235   \n",
       "2                          15301        2618                    5454   \n",
       "3                          12334        2990                    8269   \n",
       "4                           4098        1497                    4022   \n",
       "...                          ...         ...                     ...   \n",
       "100175                      4593        2577                    4784   \n",
       "100176                      4533          36                    5946   \n",
       "100177                     10666        2114                    3827   \n",
       "100178                      7699        2747                    9272   \n",
       "100179                     16662         240                    5370   \n",
       "\n",
       "        PRODUCT_KEY  PURCHASE_DATE_KEY  APPROVAL_DATE_KEY  DELIVERY_DATE_KEY  \\\n",
       "0              2350                641                641                649   \n",
       "1             20551                936                938                950   \n",
       "2             12229                951                951                960   \n",
       "3             29926                688                688                702   \n",
       "4             11901                775                775                778   \n",
       "...             ...                ...                ...                ...   \n",
       "100175        18469                434                434                442   \n",
       "100176         1779                768                768                790   \n",
       "100177        14954                605                605                630   \n",
       "100178         8291                739                739                756   \n",
       "100179        19888                798                799                806   \n",
       "\n",
       "        ORDER_LINE_QUANTITY  UNIT_PRICE  FREIGHT_COST  DELIVERY_TIME  \n",
       "0                         1       29.99          8.72              8  \n",
       "1                         1      118.70         22.76             12  \n",
       "2                         1      159.90         19.22              9  \n",
       "3                         1       45.00         27.20             13  \n",
       "4                         1       19.90          8.72              2  \n",
       "...                     ...         ...           ...            ...  \n",
       "100175                    1       72.00         13.08              8  \n",
       "100176                    1      174.90         20.10             22  \n",
       "100177                    1      205.99         65.02             24  \n",
       "100178                    2      179.99         40.59             17  \n",
       "100179                    1       68.50         18.36              7  \n",
       "\n",
       "[100180 rows x 14 columns]"
      ]
     },
     "execution_count": 43,
     "metadata": {},
     "output_type": "execute_result"
    }
   ],
   "source": [
    "fact_order_line"
   ]
  },
  {
   "cell_type": "code",
   "execution_count": 44,
   "id": "efa8b5ff",
   "metadata": {},
   "outputs": [
    {
     "name": "stdout",
     "output_type": "stream",
     "text": [
      "The factOrderLine dataframe has 0 missing values.\n"
     ]
    }
   ],
   "source": [
    "print(f'The factOrderLine dataframe has {fact_order_line.isnull().sum().sum()} missing values.')"
   ]
  },
  {
   "cell_type": "markdown",
   "id": "84e2d77a",
   "metadata": {},
   "source": [
    "<h3>Fact Table <sup>factOrderHeaderAccumulating</sup></h3>"
   ]
  },
  {
   "cell_type": "markdown",
   "id": "3e4814be",
   "metadata": {},
   "source": [
    "<h5><u>CREATING THE FACT TABLE WITH THE REQUIRED FIELDS (CONTAINING THE NATURAL KEYS)</u></h5>"
   ]
  },
  {
   "cell_type": "code",
   "execution_count": 45,
   "id": "fabff20f",
   "metadata": {},
   "outputs": [],
   "source": [
    "fact_order_header = pd.merge(orders, items, on = 'order_id')"
   ]
  },
  {
   "cell_type": "code",
   "execution_count": 46,
   "id": "e460e35f",
   "metadata": {},
   "outputs": [],
   "source": [
    "fact_order_header.drop(['order_delivered_carrier_date', 'order_estimated_delivery_date', 'product_id', \n",
    "                        'seller_id', 'shipping_limit_date', 'price', 'freight_value'], axis=1, inplace=True)"
   ]
  },
  {
   "cell_type": "code",
   "execution_count": 47,
   "id": "aa01f79f",
   "metadata": {},
   "outputs": [],
   "source": [
    "order_item_quantity_df = fact_order_header.drop(['customer_id', 'order_status', 'order_purchase_timestamp', \n",
    "                                                 'order_approved_at', 'order_delivered_customer_date'], axis=1)"
   ]
  },
  {
   "cell_type": "code",
   "execution_count": 48,
   "id": "d9a0b5ce",
   "metadata": {},
   "outputs": [],
   "source": [
    "order_item_quantity_df = order_item_quantity_df.groupby('order_id', as_index=False).count()"
   ]
  },
  {
   "cell_type": "code",
   "execution_count": 49,
   "id": "11aad90a",
   "metadata": {},
   "outputs": [],
   "source": [
    "order_item_quantity_df = order_item_quantity_df.rename(columns={'order_item_id': 'order_item_quantity'})"
   ]
  },
  {
   "cell_type": "code",
   "execution_count": 50,
   "id": "007f3f19",
   "metadata": {},
   "outputs": [],
   "source": [
    "fact_order_header = fact_order_header.drop_duplicates(subset='order_id')"
   ]
  },
  {
   "cell_type": "code",
   "execution_count": 51,
   "id": "bbc2772d",
   "metadata": {},
   "outputs": [],
   "source": [
    "fact_order_header = pd.merge(fact_order_header, order_item_quantity_df, on='order_id')"
   ]
  },
  {
   "cell_type": "code",
   "execution_count": 52,
   "id": "06e0ccfa",
   "metadata": {},
   "outputs": [],
   "source": [
    "payment_value_by_order_id = payments.groupby('order_id')['payment_value'].sum().reset_index()"
   ]
  },
  {
   "cell_type": "code",
   "execution_count": 53,
   "id": "1f8007d9",
   "metadata": {},
   "outputs": [],
   "source": [
    "new_payments = payments.copy()"
   ]
  },
  {
   "cell_type": "code",
   "execution_count": 54,
   "id": "6846c3fe",
   "metadata": {},
   "outputs": [],
   "source": [
    "new_payments = new_payments.loc[new_payments.groupby('order_id')['payment_value'].idxmax()]"
   ]
  },
  {
   "cell_type": "code",
   "execution_count": 55,
   "id": "ead4704f",
   "metadata": {},
   "outputs": [],
   "source": [
    "new_payments.drop(['payment_sequential', 'payment_installments'], axis=1, inplace=True)"
   ]
  },
  {
   "cell_type": "code",
   "execution_count": 56,
   "id": "f1e2491e",
   "metadata": {},
   "outputs": [],
   "source": [
    "fact_order_header = pd.merge(fact_order_header, new_payments, on='order_id')"
   ]
  },
  {
   "cell_type": "code",
   "execution_count": 57,
   "id": "73cbf485",
   "metadata": {},
   "outputs": [],
   "source": [
    "fact_order_header['order_indicator'] = fact_order_header['payment_type'] + ' + ' + fact_order_header['order_status']"
   ]
  },
  {
   "cell_type": "code",
   "execution_count": 58,
   "id": "7b1fe438",
   "metadata": {},
   "outputs": [],
   "source": [
    "fact_order_header[['Purchase Date',\n",
    "                   'Approval Date', \n",
    "                   'Delivery Date']] = fact_order_header[['order_purchase_timestamp', \n",
    "                                                          'order_approved_at', \n",
    "                                                          'order_delivered_customer_date']].apply(pd.to_datetime)"
   ]
  },
  {
   "cell_type": "code",
   "execution_count": 59,
   "id": "7d9be464",
   "metadata": {},
   "outputs": [],
   "source": [
    "fact_order_header.drop(['payment_type', 'order_status', 'order_item_id', 'order_purchase_timestamp', \n",
    "                        'order_approved_at', 'order_delivered_customer_date'], axis=1, inplace=True)"
   ]
  },
  {
   "cell_type": "code",
   "execution_count": 60,
   "id": "ef13cea4",
   "metadata": {},
   "outputs": [],
   "source": [
    "fact_order_header['Delivery Time'] = (fact_order_header['Delivery Date'] - fact_order_header['Approval Date']).dt.days"
   ]
  },
  {
   "cell_type": "code",
   "execution_count": 61,
   "id": "edeb6192",
   "metadata": {},
   "outputs": [],
   "source": [
    "fact_order_header[['Purchase Date',\n",
    "                   'Approval Date', \n",
    "                   'Delivery Date']] = fact_order_header[['Purchase Date', \n",
    "                                                          'Approval Date', \n",
    "                                                          'Delivery Date']].apply(lambda x: x.dt.date)"
   ]
  },
  {
   "cell_type": "code",
   "execution_count": 62,
   "id": "bdadb683",
   "metadata": {},
   "outputs": [],
   "source": [
    "mean_review_score_by_order_id = reviews.groupby('order_id')['review_score'].mean().reset_index()"
   ]
  },
  {
   "cell_type": "code",
   "execution_count": 63,
   "id": "58d14248",
   "metadata": {},
   "outputs": [],
   "source": [
    "mean_review_score_by_order_id['review_score'] = mean_review_score_by_order_id['review_score'].astype(int)"
   ]
  },
  {
   "cell_type": "code",
   "execution_count": 64,
   "id": "d6d04f07",
   "metadata": {},
   "outputs": [],
   "source": [
    "fact_order_header = pd.merge(fact_order_header, mean_review_score_by_order_id, on='order_id', how='left')"
   ]
  },
  {
   "cell_type": "code",
   "execution_count": 65,
   "id": "52d873d9",
   "metadata": {},
   "outputs": [
    {
     "name": "stdout",
     "output_type": "stream",
     "text": [
      "The factOrderHeader dataframe has 646 missing values.\n"
     ]
    }
   ],
   "source": [
    "print(f'The factOrderHeader dataframe has {fact_order_header.isnull().sum().sum()} missing values.')"
   ]
  },
  {
   "cell_type": "code",
   "execution_count": 66,
   "id": "29f30e72",
   "metadata": {},
   "outputs": [
    {
     "data": {
      "text/plain": [
       "646"
      ]
     },
     "execution_count": 66,
     "metadata": {},
     "output_type": "execute_result"
    }
   ],
   "source": [
    "fact_order_header['review_score'].isna().sum().sum()"
   ]
  },
  {
   "cell_type": "code",
   "execution_count": 67,
   "id": "b5eb7a42",
   "metadata": {},
   "outputs": [],
   "source": [
    "fact_order_header['review_score'] = fact_order_header['review_score'].fillna(0)"
   ]
  },
  {
   "cell_type": "code",
   "execution_count": 68,
   "id": "1ca5a0ba",
   "metadata": {},
   "outputs": [
    {
     "name": "stdout",
     "output_type": "stream",
     "text": [
      "The factOrderHeader dataframe now has 0 missing values.\n"
     ]
    }
   ],
   "source": [
    "print(f'The factOrderHeader dataframe now has {fact_order_header.isnull().sum().sum()} missing values.')"
   ]
  },
  {
   "cell_type": "code",
   "execution_count": 69,
   "id": "095eedf2",
   "metadata": {},
   "outputs": [],
   "source": [
    "fact_order_header = fact_order_header.merge(customers[['customer_id', 'customer_zip_code_prefix']], on='customer_id')"
   ]
  },
  {
   "cell_type": "markdown",
   "id": "ed99e35e",
   "metadata": {},
   "source": [
    "<h5><u>SUBSTITUTING THE NATURAL KEYS BY THEIR SURROGATE COUNTERPARTS</u></h5>"
   ]
  },
  {
   "cell_type": "code",
   "execution_count": 70,
   "id": "c54d466b",
   "metadata": {},
   "outputs": [
    {
     "data": {
      "text/plain": [
       "order_id                     object\n",
       "customer_id                  object\n",
       "order_item_quantity           int64\n",
       "payment_value               float64\n",
       "order_indicator              object\n",
       "Purchase Date                object\n",
       "Approval Date                object\n",
       "Delivery Date                object\n",
       "Delivery Time                 int64\n",
       "review_score                float64\n",
       "customer_zip_code_prefix      int64\n",
       "dtype: object"
      ]
     },
     "execution_count": 70,
     "metadata": {},
     "output_type": "execute_result"
    }
   ],
   "source": [
    "fact_order_header.dtypes"
   ]
  },
  {
   "cell_type": "code",
   "execution_count": 71,
   "id": "688f8eee",
   "metadata": {},
   "outputs": [],
   "source": [
    "fact_order_header['customer_zip_code_prefix'] = fact_order_header['customer_zip_code_prefix'].astype(str)\n",
    "fact_order_header['Purchase Date'] = fact_order_header['Purchase Date'].astype(str)\n",
    "fact_order_header['Approval Date'] = fact_order_header['Approval Date'].astype(str)\n",
    "fact_order_header['Delivery Date'] = fact_order_header['Delivery Date'].astype(str)"
   ]
  },
  {
   "cell_type": "code",
   "execution_count": 72,
   "id": "82ae3bff",
   "metadata": {},
   "outputs": [],
   "source": [
    "fact_order_header = add_surrogate_key_fact_table(fact_order_header, os.path.join(lookup_tables_folder, lookup_table_order_number), \n",
    "                                                 'order_id', 'ORDER_NUMBER')"
   ]
  },
  {
   "cell_type": "code",
   "execution_count": 73,
   "id": "70e90ef9",
   "metadata": {},
   "outputs": [],
   "source": [
    "fact_order_header = add_surrogate_key_fact_table(fact_order_header, os.path.join(lookup_tables_folder, lookup_table_customer), \n",
    "                                                 'customer_id', 'CUSTOMER_KEY')"
   ]
  },
  {
   "cell_type": "code",
   "execution_count": 74,
   "id": "d25f1bce",
   "metadata": {},
   "outputs": [],
   "source": [
    "fact_order_header = add_surrogate_key_fact_table(fact_order_header, os.path.join(lookup_tables_folder, lookup_table_customer_geolocation), \n",
    "                                                 'customer_zip_code_prefix', 'CUSTOMER_GEOLOCATION_KEY')"
   ]
  },
  {
   "cell_type": "code",
   "execution_count": 75,
   "id": "90ea0a2d",
   "metadata": {},
   "outputs": [],
   "source": [
    "fact_order_header = add_surrogate_key_fact_table(fact_order_header, os.path.join(lookup_tables_folder, lookup_table_date), \n",
    "                                                 'Purchase Date', 'PURCHASE_DATE_KEY')"
   ]
  },
  {
   "cell_type": "code",
   "execution_count": 76,
   "id": "8755c8a9",
   "metadata": {},
   "outputs": [],
   "source": [
    "fact_order_header = add_surrogate_key_fact_table(fact_order_header, os.path.join(lookup_tables_folder, lookup_table_date), \n",
    "                                                 'Approval Date', 'APPROVAL_DATE_KEY')"
   ]
  },
  {
   "cell_type": "code",
   "execution_count": 77,
   "id": "d2eea008",
   "metadata": {},
   "outputs": [],
   "source": [
    "fact_order_header = add_surrogate_key_fact_table(fact_order_header, os.path.join(lookup_tables_folder, lookup_table_date), \n",
    "                                                 'Delivery Date', 'DELIVERY_DATE_KEY')"
   ]
  },
  {
   "cell_type": "code",
   "execution_count": 78,
   "id": "56dc63d9",
   "metadata": {},
   "outputs": [],
   "source": [
    "fact_order_header = add_surrogate_key_fact_table(fact_order_header, os.path.join(lookup_tables_folder, lookup_table_order_indicator), \n",
    "                                                 'order_indicator', 'ORDER_INDICATOR_KEY')"
   ]
  },
  {
   "cell_type": "code",
   "execution_count": 79,
   "id": "d42c82e6",
   "metadata": {},
   "outputs": [],
   "source": [
    "fact_order_header.rename(columns={'order_item_quantity': 'ORDER_ITEM_QUANTITY',\n",
    "                                  'payment_value': 'ORDER_AMOUNT',\n",
    "                                  'Delivery Time': 'DELIVERY_TIME',\n",
    "                                  'review_score': 'REVIEW_SCORE'}, inplace=True)"
   ]
  },
  {
   "cell_type": "code",
   "execution_count": 80,
   "id": "e84a1f5d",
   "metadata": {},
   "outputs": [],
   "source": [
    "fact_order_header = fact_order_header[['ORDER_NUMBER', 'CUSTOMER_KEY', 'CUSTOMER_GEOLOCATION_KEY', 'PURCHASE_DATE_KEY',\n",
    "                                       'APPROVAL_DATE_KEY', 'DELIVERY_DATE_KEY', 'ORDER_INDICATOR_KEY', 'ORDER_AMOUNT', \n",
    "                                       'ORDER_ITEM_QUANTITY', 'REVIEW_SCORE', 'DELIVERY_TIME']]"
   ]
  },
  {
   "cell_type": "code",
   "execution_count": 81,
   "id": "d7501385",
   "metadata": {},
   "outputs": [],
   "source": [
    "fact_order_header = fact_order_header.sort_values('ORDER_NUMBER').reset_index(drop=True)"
   ]
  },
  {
   "cell_type": "code",
   "execution_count": 82,
   "id": "0dffc415",
   "metadata": {},
   "outputs": [
    {
     "data": {
      "text/html": [
       "<div>\n",
       "<style scoped>\n",
       "    .dataframe tbody tr th:only-of-type {\n",
       "        vertical-align: middle;\n",
       "    }\n",
       "\n",
       "    .dataframe tbody tr th {\n",
       "        vertical-align: top;\n",
       "    }\n",
       "\n",
       "    .dataframe thead th {\n",
       "        text-align: right;\n",
       "    }\n",
       "</style>\n",
       "<table border=\"1\" class=\"dataframe\">\n",
       "  <thead>\n",
       "    <tr style=\"text-align: right;\">\n",
       "      <th></th>\n",
       "      <th>ORDER_NUMBER</th>\n",
       "      <th>CUSTOMER_KEY</th>\n",
       "      <th>CUSTOMER_GEOLOCATION_KEY</th>\n",
       "      <th>PURCHASE_DATE_KEY</th>\n",
       "      <th>APPROVAL_DATE_KEY</th>\n",
       "      <th>DELIVERY_DATE_KEY</th>\n",
       "      <th>ORDER_INDICATOR_KEY</th>\n",
       "      <th>ORDER_AMOUNT</th>\n",
       "      <th>ORDER_ITEM_QUANTITY</th>\n",
       "      <th>REVIEW_SCORE</th>\n",
       "      <th>DELIVERY_TIME</th>\n",
       "    </tr>\n",
       "  </thead>\n",
       "  <tbody>\n",
       "    <tr>\n",
       "      <th>0</th>\n",
       "      <td>1</td>\n",
       "      <td>70297</td>\n",
       "      <td>1048</td>\n",
       "      <td>641</td>\n",
       "      <td>641</td>\n",
       "      <td>649</td>\n",
       "      <td>5</td>\n",
       "      <td>18.59</td>\n",
       "      <td>1</td>\n",
       "      <td>4.0</td>\n",
       "      <td>8</td>\n",
       "    </tr>\n",
       "    <tr>\n",
       "      <th>1</th>\n",
       "      <td>2</td>\n",
       "      <td>77028</td>\n",
       "      <td>10823</td>\n",
       "      <td>936</td>\n",
       "      <td>938</td>\n",
       "      <td>950</td>\n",
       "      <td>3</td>\n",
       "      <td>141.46</td>\n",
       "      <td>1</td>\n",
       "      <td>4.0</td>\n",
       "      <td>12</td>\n",
       "    </tr>\n",
       "    <tr>\n",
       "      <th>2</th>\n",
       "      <td>3</td>\n",
       "      <td>555</td>\n",
       "      <td>15301</td>\n",
       "      <td>951</td>\n",
       "      <td>951</td>\n",
       "      <td>960</td>\n",
       "      <td>1</td>\n",
       "      <td>179.12</td>\n",
       "      <td>1</td>\n",
       "      <td>5.0</td>\n",
       "      <td>9</td>\n",
       "    </tr>\n",
       "    <tr>\n",
       "      <th>3</th>\n",
       "      <td>4</td>\n",
       "      <td>61082</td>\n",
       "      <td>12334</td>\n",
       "      <td>688</td>\n",
       "      <td>688</td>\n",
       "      <td>702</td>\n",
       "      <td>1</td>\n",
       "      <td>72.20</td>\n",
       "      <td>1</td>\n",
       "      <td>5.0</td>\n",
       "      <td>13</td>\n",
       "    </tr>\n",
       "    <tr>\n",
       "      <th>4</th>\n",
       "      <td>5</td>\n",
       "      <td>67264</td>\n",
       "      <td>4098</td>\n",
       "      <td>775</td>\n",
       "      <td>775</td>\n",
       "      <td>778</td>\n",
       "      <td>1</td>\n",
       "      <td>28.62</td>\n",
       "      <td>1</td>\n",
       "      <td>5.0</td>\n",
       "      <td>2</td>\n",
       "    </tr>\n",
       "    <tr>\n",
       "      <th>...</th>\n",
       "      <td>...</td>\n",
       "      <td>...</td>\n",
       "      <td>...</td>\n",
       "      <td>...</td>\n",
       "      <td>...</td>\n",
       "      <td>...</td>\n",
       "      <td>...</td>\n",
       "      <td>...</td>\n",
       "      <td>...</td>\n",
       "      <td>...</td>\n",
       "      <td>...</td>\n",
       "    </tr>\n",
       "    <tr>\n",
       "      <th>96455</th>\n",
       "      <td>96457</td>\n",
       "      <td>60578</td>\n",
       "      <td>4593</td>\n",
       "      <td>434</td>\n",
       "      <td>434</td>\n",
       "      <td>442</td>\n",
       "      <td>1</td>\n",
       "      <td>85.08</td>\n",
       "      <td>1</td>\n",
       "      <td>5.0</td>\n",
       "      <td>8</td>\n",
       "    </tr>\n",
       "    <tr>\n",
       "      <th>96456</th>\n",
       "      <td>96458</td>\n",
       "      <td>78425</td>\n",
       "      <td>4533</td>\n",
       "      <td>768</td>\n",
       "      <td>768</td>\n",
       "      <td>790</td>\n",
       "      <td>1</td>\n",
       "      <td>195.00</td>\n",
       "      <td>1</td>\n",
       "      <td>4.0</td>\n",
       "      <td>22</td>\n",
       "    </tr>\n",
       "    <tr>\n",
       "      <th>96457</th>\n",
       "      <td>96459</td>\n",
       "      <td>19902</td>\n",
       "      <td>10666</td>\n",
       "      <td>605</td>\n",
       "      <td>605</td>\n",
       "      <td>630</td>\n",
       "      <td>1</td>\n",
       "      <td>271.01</td>\n",
       "      <td>1</td>\n",
       "      <td>5.0</td>\n",
       "      <td>24</td>\n",
       "    </tr>\n",
       "    <tr>\n",
       "      <th>96458</th>\n",
       "      <td>96460</td>\n",
       "      <td>16924</td>\n",
       "      <td>7699</td>\n",
       "      <td>739</td>\n",
       "      <td>739</td>\n",
       "      <td>756</td>\n",
       "      <td>1</td>\n",
       "      <td>441.16</td>\n",
       "      <td>2</td>\n",
       "      <td>2.0</td>\n",
       "      <td>17</td>\n",
       "    </tr>\n",
       "    <tr>\n",
       "      <th>96459</th>\n",
       "      <td>96461</td>\n",
       "      <td>38126</td>\n",
       "      <td>16662</td>\n",
       "      <td>798</td>\n",
       "      <td>799</td>\n",
       "      <td>806</td>\n",
       "      <td>7</td>\n",
       "      <td>86.86</td>\n",
       "      <td>1</td>\n",
       "      <td>5.0</td>\n",
       "      <td>7</td>\n",
       "    </tr>\n",
       "  </tbody>\n",
       "</table>\n",
       "<p>96460 rows × 11 columns</p>\n",
       "</div>"
      ],
      "text/plain": [
       "       ORDER_NUMBER  CUSTOMER_KEY  CUSTOMER_GEOLOCATION_KEY  \\\n",
       "0                 1         70297                      1048   \n",
       "1                 2         77028                     10823   \n",
       "2                 3           555                     15301   \n",
       "3                 4         61082                     12334   \n",
       "4                 5         67264                      4098   \n",
       "...             ...           ...                       ...   \n",
       "96455         96457         60578                      4593   \n",
       "96456         96458         78425                      4533   \n",
       "96457         96459         19902                     10666   \n",
       "96458         96460         16924                      7699   \n",
       "96459         96461         38126                     16662   \n",
       "\n",
       "       PURCHASE_DATE_KEY  APPROVAL_DATE_KEY  DELIVERY_DATE_KEY  \\\n",
       "0                    641                641                649   \n",
       "1                    936                938                950   \n",
       "2                    951                951                960   \n",
       "3                    688                688                702   \n",
       "4                    775                775                778   \n",
       "...                  ...                ...                ...   \n",
       "96455                434                434                442   \n",
       "96456                768                768                790   \n",
       "96457                605                605                630   \n",
       "96458                739                739                756   \n",
       "96459                798                799                806   \n",
       "\n",
       "       ORDER_INDICATOR_KEY  ORDER_AMOUNT  ORDER_ITEM_QUANTITY  REVIEW_SCORE  \\\n",
       "0                        5         18.59                    1           4.0   \n",
       "1                        3        141.46                    1           4.0   \n",
       "2                        1        179.12                    1           5.0   \n",
       "3                        1         72.20                    1           5.0   \n",
       "4                        1         28.62                    1           5.0   \n",
       "...                    ...           ...                  ...           ...   \n",
       "96455                    1         85.08                    1           5.0   \n",
       "96456                    1        195.00                    1           4.0   \n",
       "96457                    1        271.01                    1           5.0   \n",
       "96458                    1        441.16                    2           2.0   \n",
       "96459                    7         86.86                    1           5.0   \n",
       "\n",
       "       DELIVERY_TIME  \n",
       "0                  8  \n",
       "1                 12  \n",
       "2                  9  \n",
       "3                 13  \n",
       "4                  2  \n",
       "...              ...  \n",
       "96455              8  \n",
       "96456             22  \n",
       "96457             24  \n",
       "96458             17  \n",
       "96459              7  \n",
       "\n",
       "[96460 rows x 11 columns]"
      ]
     },
     "execution_count": 82,
     "metadata": {},
     "output_type": "execute_result"
    }
   ],
   "source": [
    "fact_order_header"
   ]
  },
  {
   "cell_type": "code",
   "execution_count": 83,
   "id": "84054e03",
   "metadata": {},
   "outputs": [
    {
     "name": "stdout",
     "output_type": "stream",
     "text": [
      "The factOrderHeader dataframe has 0 missing values.\n"
     ]
    }
   ],
   "source": [
    "print(f'The factOrderHeader dataframe has {fact_order_header.isnull().sum().sum()} missing values.')"
   ]
  },
  {
   "cell_type": "markdown",
   "id": "59bf434f",
   "metadata": {},
   "source": [
    "<h3>4. EXPORTING THE CSV FILES OF THE FACTS</h3>"
   ]
  },
  {
   "cell_type": "code",
   "execution_count": 84,
   "id": "1586ee87",
   "metadata": {},
   "outputs": [],
   "source": [
    "os.makedirs(fact_tables_folder, exist_ok=True)"
   ]
  },
  {
   "cell_type": "code",
   "execution_count": 85,
   "id": "16be13a0",
   "metadata": {},
   "outputs": [],
   "source": [
    "fact_order_line.to_csv(os.path.join(fact_tables_folder, fact_order_line_file), index=False)\n",
    "fact_order_header.to_csv(os.path.join(fact_tables_folder, fact_order_header_file), index=False)"
   ]
  }
 ],
 "metadata": {
  "kernelspec": {
   "display_name": "base",
   "language": "python",
   "name": "python3"
  },
  "language_info": {
   "codemirror_mode": {
    "name": "ipython",
    "version": 3
   },
   "file_extension": ".py",
   "mimetype": "text/x-python",
   "name": "python",
   "nbconvert_exporter": "python",
   "pygments_lexer": "ipython3",
   "version": "3.11.4"
  }
 },
 "nbformat": 4,
 "nbformat_minor": 5
}
